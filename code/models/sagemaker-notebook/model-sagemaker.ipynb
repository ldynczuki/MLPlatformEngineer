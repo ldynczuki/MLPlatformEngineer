{
 "cells": [
  {
   "cell_type": "markdown",
   "id": "5e7996a3",
   "metadata": {},
   "source": [
    "# **1. Importação das bibliotecas requeridas**"
   ]
  },
  {
   "cell_type": "code",
   "execution_count": 1,
   "id": "4a9ad0fc",
   "metadata": {},
   "outputs": [],
   "source": [
    "# é preciso converter o dataset para RecordIO format para o Linear Learner entender\n",
    "import io \n",
    "\n",
    "import pandas as pd\n",
    "import numpy as np\n",
    "import os\n",
    "from sklearn import metrics\n",
    "from sklearn.model_selection import train_test_split\n",
    "from sklearn.model_selection import cross_val_score\n",
    "\n",
    "# Bibliotecas aws/sagemaker\n",
    "import boto3\n",
    "import sagemaker\n",
    "import sagemaker.amazon.common as smac\n",
    "from sagemaker.amazon.amazon_estimator import image_uris\n",
    "from sagemaker.predictor import csv_serializer, json_deserializer\n",
    "from sagemaker.amazon.amazon_estimator import get_image_uri\n",
    "\n",
    "import seaborn as sns\n",
    "import matplotlib.pyplot as plt\n",
    "%matplotlib inline\n",
    "\n",
    "sns.set_style(\"whitegrid\")\n",
    "plt.style.use(\"fivethirtyeight\")"
   ]
  },
  {
   "cell_type": "markdown",
   "id": "06d87dd2",
   "metadata": {},
   "source": [
    "# **2. Carregando dados da AWS**"
   ]
  },
  {
   "cell_type": "markdown",
   "id": "7a74c7e5",
   "metadata": {},
   "source": [
    "### **2.1. Buscando objetos no Glue Catalog**"
   ]
  },
  {
   "cell_type": "markdown",
   "id": "0980d276",
   "metadata": {},
   "source": [
    "Foi criado o objeto `glue_client` para acessar objetos do `Glue`. Na célula a seguir recebemos todos os databases existentes neste serviço."
   ]
  },
  {
   "cell_type": "code",
   "execution_count": 2,
   "id": "17341358",
   "metadata": {},
   "outputs": [
    {
     "data": {
      "text/plain": [
       "{'DatabaseList': [{'Name': 'database_platform',\n",
       "   'CreateTime': datetime.datetime(2021, 4, 6, 11, 7, 50, tzinfo=tzlocal()),\n",
       "   'CreateTableDefaultPermissions': [{'Principal': {'DataLakePrincipalIdentifier': 'IAM_ALLOWED_PRINCIPALS'},\n",
       "     'Permissions': ['ALL']}],\n",
       "   'CatalogId': '793574898187'},\n",
       "  {'Name': 'sampledb',\n",
       "   'Description': 'Sample database',\n",
       "   'Parameters': {'CreatedBy': 'Athena', 'EXTERNAL': 'TRUE'},\n",
       "   'CreateTime': datetime.datetime(2021, 4, 6, 11, 30, 13, tzinfo=tzlocal()),\n",
       "   'CreateTableDefaultPermissions': [{'Principal': {'DataLakePrincipalIdentifier': 'IAM_ALLOWED_PRINCIPALS'},\n",
       "     'Permissions': ['ALL']}],\n",
       "   'CatalogId': '793574898187'}],\n",
       " 'ResponseMetadata': {'RequestId': 'd29f5e3b-906d-4a0f-9d9c-3299b66da1d2',\n",
       "  'HTTPStatusCode': 200,\n",
       "  'HTTPHeaders': {'date': 'Fri, 09 Apr 2021 19:57:40 GMT',\n",
       "   'content-type': 'application/x-amz-json-1.1',\n",
       "   'content-length': '578',\n",
       "   'connection': 'keep-alive',\n",
       "   'x-amzn-requestid': 'd29f5e3b-906d-4a0f-9d9c-3299b66da1d2'},\n",
       "  'RetryAttempts': 0}}"
      ]
     },
     "execution_count": 2,
     "metadata": {},
     "output_type": "execute_result"
    }
   ],
   "source": [
    "glue_client = boto3.client('glue')\n",
    "\n",
    "database_list = glue_client.get_databases()\n",
    "database_list"
   ]
  },
  {
   "cell_type": "markdown",
   "id": "e0087b12",
   "metadata": {},
   "source": [
    "Em nosso script `Terraform` criamos o `Glue Database` com o nome de **database_platform**, portanto, iremos fazer uma busca sobre o database criado."
   ]
  },
  {
   "cell_type": "code",
   "execution_count": 3,
   "id": "5af97484",
   "metadata": {},
   "outputs": [
    {
     "data": {
      "text/plain": [
       "{'Name': 'database_platform',\n",
       " 'CreateTime': datetime.datetime(2021, 4, 6, 11, 7, 50, tzinfo=tzlocal()),\n",
       " 'CreateTableDefaultPermissions': [{'Principal': {'DataLakePrincipalIdentifier': 'IAM_ALLOWED_PRINCIPALS'},\n",
       "   'Permissions': ['ALL']}],\n",
       " 'CatalogId': '793574898187'}"
      ]
     },
     "execution_count": 3,
     "metadata": {},
     "output_type": "execute_result"
    }
   ],
   "source": [
    "database_name_platform = 'database_platform'\n",
    "\n",
    "for i in range(len(database_list['DatabaseList'])):\n",
    "    if database_list['DatabaseList'][i]['Name'] == database_name_platform:\n",
    "        database_glue = database_list['DatabaseList'][i]\n",
    "\n",
    "database_glue"
   ]
  },
  {
   "cell_type": "markdown",
   "id": "807b13ef",
   "metadata": {},
   "source": [
    "Após encontrado o nosso database criado pelo `Terraform`, utilizamos as propriedades `CatalogId` e `Name` do resultado anterior para encontrar as tabelas existentes em nosso database."
   ]
  },
  {
   "cell_type": "code",
   "execution_count": 4,
   "id": "5019fb16",
   "metadata": {},
   "outputs": [
    {
     "data": {
      "text/plain": [
       "{'TableList': [{'Name': 'cleaned',\n",
       "   'DatabaseName': 'database_platform',\n",
       "   'CreateTime': datetime.datetime(2021, 4, 6, 11, 7, 52, tzinfo=tzlocal()),\n",
       "   'UpdateTime': datetime.datetime(2021, 4, 6, 11, 7, 52, tzinfo=tzlocal()),\n",
       "   'Retention': 0,\n",
       "   'StorageDescriptor': {'Columns': [{'Name': 'id',\n",
       "      'Type': 'string',\n",
       "      'Comment': '',\n",
       "      'Parameters': {}},\n",
       "     {'Name': 'name', 'Type': 'string', 'Comment': '', 'Parameters': {}},\n",
       "     {'Name': 'abv', 'Type': 'string', 'Comment': '', 'Parameters': {}},\n",
       "     {'Name': 'ibu', 'Type': 'string', 'Comment': '', 'Parameters': {}},\n",
       "     {'Name': 'target_fg', 'Type': 'string', 'Comment': '', 'Parameters': {}},\n",
       "     {'Name': 'target_og', 'Type': 'string', 'Comment': '', 'Parameters': {}},\n",
       "     {'Name': 'ebc', 'Type': 'string', 'Comment': '', 'Parameters': {}},\n",
       "     {'Name': 'srm', 'Type': 'string', 'Comment': '', 'Parameters': {}},\n",
       "     {'Name': 'ph', 'Type': 'string', 'Comment': '', 'Parameters': {}}],\n",
       "    'Location': 's3://cleaned-bucket-platform/processing-sucess',\n",
       "    'InputFormat': 'org.apache.hadoop.mapred.TextInputFormat',\n",
       "    'OutputFormat': 'org.apache.hadoop.hive.ql.io.HiveIgnoreKeyTextOutputFormat',\n",
       "    'Compressed': False,\n",
       "    'NumberOfBuckets': 0,\n",
       "    'SerdeInfo': {'Name': 'ser_platform',\n",
       "     'SerializationLibrary': 'org.apache.hadoop.hive.serde2.OpenCSVSerde',\n",
       "     'Parameters': {'serialization.format': '1'}},\n",
       "    'BucketColumns': [],\n",
       "    'SortColumns': [],\n",
       "    'Parameters': {},\n",
       "    'StoredAsSubDirectories': False},\n",
       "   'PartitionKeys': [],\n",
       "   'TableType': 'EXTERNAL_TABLE',\n",
       "   'Parameters': {'EXTERNAL': 'TRUE',\n",
       "    'classification': 'csv',\n",
       "    'parquet.compression': 'UNCOMPRESSED'},\n",
       "   'CreatedBy': 'arn:aws:iam::793574898187:root',\n",
       "   'IsRegisteredWithLakeFormation': False,\n",
       "   'CatalogId': '793574898187'}],\n",
       " 'ResponseMetadata': {'RequestId': '0d93385c-7da0-4ae0-bbcf-d27cb1b361df',\n",
       "  'HTTPStatusCode': 200,\n",
       "  'HTTPHeaders': {'date': 'Fri, 09 Apr 2021 19:57:40 GMT',\n",
       "   'content-type': 'application/x-amz-json-1.1',\n",
       "   'content-length': '1464',\n",
       "   'connection': 'keep-alive',\n",
       "   'x-amzn-requestid': '0d93385c-7da0-4ae0-bbcf-d27cb1b361df'},\n",
       "  'RetryAttempts': 0}}"
      ]
     },
     "execution_count": 4,
     "metadata": {},
     "output_type": "execute_result"
    }
   ],
   "source": [
    "table_list = glue_client.get_tables(CatalogId=database_glue['CatalogId'],\n",
    "                                    DatabaseName=database_glue['Name']\n",
    ")\n",
    "\n",
    "table_list"
   ]
  },
  {
   "cell_type": "markdown",
   "id": "0bcb243b",
   "metadata": {},
   "source": [
    "Em nosso script `Terraform` criamos o `Glue Table` com o nome de **cleaned**, portanto, iremos fazer uma busca sobre o database criado."
   ]
  },
  {
   "cell_type": "code",
   "execution_count": 5,
   "id": "6f46b864",
   "metadata": {},
   "outputs": [
    {
     "data": {
      "text/plain": [
       "{'Name': 'cleaned',\n",
       " 'DatabaseName': 'database_platform',\n",
       " 'CreateTime': datetime.datetime(2021, 4, 6, 11, 7, 52, tzinfo=tzlocal()),\n",
       " 'UpdateTime': datetime.datetime(2021, 4, 6, 11, 7, 52, tzinfo=tzlocal()),\n",
       " 'Retention': 0,\n",
       " 'StorageDescriptor': {'Columns': [{'Name': 'id',\n",
       "    'Type': 'string',\n",
       "    'Comment': '',\n",
       "    'Parameters': {}},\n",
       "   {'Name': 'name', 'Type': 'string', 'Comment': '', 'Parameters': {}},\n",
       "   {'Name': 'abv', 'Type': 'string', 'Comment': '', 'Parameters': {}},\n",
       "   {'Name': 'ibu', 'Type': 'string', 'Comment': '', 'Parameters': {}},\n",
       "   {'Name': 'target_fg', 'Type': 'string', 'Comment': '', 'Parameters': {}},\n",
       "   {'Name': 'target_og', 'Type': 'string', 'Comment': '', 'Parameters': {}},\n",
       "   {'Name': 'ebc', 'Type': 'string', 'Comment': '', 'Parameters': {}},\n",
       "   {'Name': 'srm', 'Type': 'string', 'Comment': '', 'Parameters': {}},\n",
       "   {'Name': 'ph', 'Type': 'string', 'Comment': '', 'Parameters': {}}],\n",
       "  'Location': 's3://cleaned-bucket-platform/processing-sucess',\n",
       "  'InputFormat': 'org.apache.hadoop.mapred.TextInputFormat',\n",
       "  'OutputFormat': 'org.apache.hadoop.hive.ql.io.HiveIgnoreKeyTextOutputFormat',\n",
       "  'Compressed': False,\n",
       "  'NumberOfBuckets': 0,\n",
       "  'SerdeInfo': {'Name': 'ser_platform',\n",
       "   'SerializationLibrary': 'org.apache.hadoop.hive.serde2.OpenCSVSerde',\n",
       "   'Parameters': {'serialization.format': '1'}},\n",
       "  'BucketColumns': [],\n",
       "  'SortColumns': [],\n",
       "  'Parameters': {},\n",
       "  'StoredAsSubDirectories': False},\n",
       " 'PartitionKeys': [],\n",
       " 'TableType': 'EXTERNAL_TABLE',\n",
       " 'Parameters': {'EXTERNAL': 'TRUE',\n",
       "  'classification': 'csv',\n",
       "  'parquet.compression': 'UNCOMPRESSED'},\n",
       " 'CreatedBy': 'arn:aws:iam::793574898187:root',\n",
       " 'IsRegisteredWithLakeFormation': False,\n",
       " 'CatalogId': '793574898187'}"
      ]
     },
     "execution_count": 5,
     "metadata": {},
     "output_type": "execute_result"
    }
   ],
   "source": [
    "table_name = 'cleaned'\n",
    "\n",
    "for i in range(len(table_list['TableList'])):\n",
    "    if table_list['TableList'][i]['Name'] == table_name:\n",
    "        table_glue_cleaned = table_list['TableList'][i]\n",
    "\n",
    "table_glue_cleaned"
   ]
  },
  {
   "cell_type": "markdown",
   "id": "ee31c42d",
   "metadata": {},
   "source": [
    "Analisando o resultado da célula anterior, é possível verificar que a fonte de dados para a tabela `cleaned` está na chave `Location`, que contem a informação do `bucket S3` denominado `cleaned-bucket-platform` e a pasta `processing-sucess`. Exatamente o bucket S3 que criamos utilizando o script `Terraform`.\n",
    "\n",
    "**Observação**: Foi criado a pasta `processing-sucess` para receber os dados processados pelo fluxo de _streaming_ de dados corretamente. Caso ocorra algum tipo de falha neste processamento, os logs são gravados na pasta `processing-failed`. Desta forma, os diretórios ficam bem separados facilitando tanto a consulta dos dados, quanto a análise de algum problema no processamento do fluxo."
   ]
  },
  {
   "cell_type": "code",
   "execution_count": 6,
   "id": "8b431d36",
   "metadata": {},
   "outputs": [
    {
     "data": {
      "text/plain": [
       "'s3://cleaned-bucket-platform/processing-sucess'"
      ]
     },
     "execution_count": 6,
     "metadata": {},
     "output_type": "execute_result"
    }
   ],
   "source": [
    "s3_location_table = table_glue_cleaned['StorageDescriptor']['Location']\n",
    "s3_location_table"
   ]
  },
  {
   "cell_type": "markdown",
   "id": "91b8a2fb",
   "metadata": {},
   "source": [
    "Utilizamos o `split('/')` para capturar o nome do bucket e a pasta com a fonte dos dados do `Glue Table`."
   ]
  },
  {
   "cell_type": "code",
   "execution_count": 7,
   "id": "128b3a0d",
   "metadata": {},
   "outputs": [
    {
     "name": "stdout",
     "output_type": "stream",
     "text": [
      "cleaned-bucket-platform\n",
      "processing-sucess\n"
     ]
    }
   ],
   "source": [
    "bucket_name = s3_location_table.split('/')[2]\n",
    "folder_data = s3_location_table.split('/')[3]\n",
    "\n",
    "print(bucket_name)\n",
    "print(folder_data)"
   ]
  },
  {
   "cell_type": "markdown",
   "id": "d0bb1f2b",
   "metadata": {},
   "source": [
    "### **2.2. Capturando dados do bucket S3**"
   ]
  },
  {
   "cell_type": "markdown",
   "id": "c7a3fa5f",
   "metadata": {},
   "source": [
    "Neste momento, como tenho a informação da fonte de dados, é possível criar um objeto client do `Amazon S3` para acessar os buckets existentes e buscar os dados necessários"
   ]
  },
  {
   "cell_type": "code",
   "execution_count": 8,
   "id": "84d1fea3",
   "metadata": {},
   "outputs": [],
   "source": [
    "s3_client = boto3.client('s3')"
   ]
  },
  {
   "cell_type": "code",
   "execution_count": 9,
   "id": "9e2805e5",
   "metadata": {},
   "outputs": [
    {
     "name": "stdout",
     "output_type": "stream",
     "text": [
      "238\n"
     ]
    }
   ],
   "source": [
    "# Obtendo uma lista de objetos do bucket\n",
    "obj_list = s3_client.list_objects(Bucket=bucket_name)\n",
    "\n",
    "files=[]\n",
    "for contents in obj_list['Contents']:\n",
    "    if contents['Key'].split('/')[0].split('/')[0] == folder_data:\n",
    "        files.append(contents['Key'])\n",
    "    \n",
    "print(len(files))"
   ]
  },
  {
   "cell_type": "code",
   "execution_count": 10,
   "id": "8c336d29",
   "metadata": {},
   "outputs": [
    {
     "name": "stdout",
     "output_type": "stream",
     "text": [
      "processing-sucess/202104061114_clean.csv\n"
     ]
    }
   ],
   "source": [
    "# Visualizar um exemplo do dado\n",
    "file_name=files[0]\n",
    "\n",
    "print(file_name)"
   ]
  },
  {
   "cell_type": "code",
   "execution_count": 11,
   "id": "3deda328",
   "metadata": {},
   "outputs": [
    {
     "data": {
      "text/plain": [
       "{'ResponseMetadata': {'RequestId': 'Q0AV7660PPY8WSBY',\n",
       "  'HostId': 'qGsjcdg3Esp6eWCihBGYa0P0BWxkB2MaskOzTdNiGynK2SksohTIFU44XicQYPNR9YPleSuhjYc=',\n",
       "  'HTTPStatusCode': 200,\n",
       "  'HTTPHeaders': {'x-amz-id-2': 'qGsjcdg3Esp6eWCihBGYa0P0BWxkB2MaskOzTdNiGynK2SksohTIFU44XicQYPNR9YPleSuhjYc=',\n",
       "   'x-amz-request-id': 'Q0AV7660PPY8WSBY',\n",
       "   'date': 'Fri, 09 Apr 2021 19:57:42 GMT',\n",
       "   'last-modified': 'Tue, 06 Apr 2021 11:14:22 GMT',\n",
       "   'etag': '\"327764b0082a63b8c9cf3a7317bf75e8\"',\n",
       "   'accept-ranges': 'bytes',\n",
       "   'content-type': 'binary/octet-stream',\n",
       "   'content-length': '51',\n",
       "   'server': 'AmazonS3'},\n",
       "  'RetryAttempts': 0},\n",
       " 'AcceptRanges': 'bytes',\n",
       " 'LastModified': datetime.datetime(2021, 4, 6, 11, 14, 22, tzinfo=tzutc()),\n",
       " 'ContentLength': 51,\n",
       " 'ETag': '\"327764b0082a63b8c9cf3a7317bf75e8\"',\n",
       " 'ContentType': 'binary/octet-stream',\n",
       " 'Metadata': {},\n",
       " 'Body': <botocore.response.StreamingBody at 0x7f8df59c9550>}"
      ]
     },
     "metadata": {},
     "output_type": "display_data"
    }
   ],
   "source": [
    "# captura um objeto do S3 como exemplo para visualizar os metadados \n",
    "data_object = s3_client.get_object(Bucket=bucket_name, Key=file_name)\n",
    "\n",
    "# visualizando o conteúdo do objeto\n",
    "display(data_object)"
   ]
  },
  {
   "cell_type": "code",
   "execution_count": 12,
   "id": "c4f843ed",
   "metadata": {},
   "outputs": [
    {
     "name": "stdout",
     "output_type": "stream",
     "text": [
      "Data type:  <class 'bytes'>\n"
     ]
    }
   ],
   "source": [
    "# Verificando o tipo de dados da chave \"Body\" para leitura posterior\n",
    "data_body = data_object[\"Body\"].read()\n",
    "print('Data type: ', type(data_body))"
   ]
  },
  {
   "cell_type": "markdown",
   "id": "5f92ecb5",
   "metadata": {},
   "source": [
    "* É do tipo de dado `bytes`, para realizar a leitura devemos utilizar [io.BytesIO(file)](https://docs.python.org/3/library/io.html#binary-i-o)."
   ]
  },
  {
   "cell_type": "code",
   "execution_count": 13,
   "id": "491f0701",
   "metadata": {},
   "outputs": [],
   "source": [
    "# Leitura dos dados no formato bytes\n",
    "data_stream = io.BytesIO(data_body)"
   ]
  },
  {
   "cell_type": "markdown",
   "id": "02365c8e",
   "metadata": {},
   "source": [
    "### **Criação do DataFrame com os dados do S3**"
   ]
  },
  {
   "cell_type": "markdown",
   "id": "1991fcd9",
   "metadata": {},
   "source": [
    "Neste momento, tenho uma lista contendo os dados armazenados no S3. Agora será preciso criar um DataFrame, com as colunas nomeadas abaixo e seus respectivos tipos de dados.\n",
    "\n",
    "Irei iterar sobre a lista de dados e irei fazer um append no DataFrame em cada arquivo de dados.\n",
    "\n",
    "Por fim, será apresentado o DataFrame final."
   ]
  },
  {
   "cell_type": "code",
   "execution_count": 14,
   "id": "04caa964",
   "metadata": {},
   "outputs": [
    {
     "data": {
      "text/html": [
       "<div>\n",
       "<style scoped>\n",
       "    .dataframe tbody tr th:only-of-type {\n",
       "        vertical-align: middle;\n",
       "    }\n",
       "\n",
       "    .dataframe tbody tr th {\n",
       "        vertical-align: top;\n",
       "    }\n",
       "\n",
       "    .dataframe thead th {\n",
       "        text-align: right;\n",
       "    }\n",
       "</style>\n",
       "<table border=\"1\" class=\"dataframe\">\n",
       "  <thead>\n",
       "    <tr style=\"text-align: right;\">\n",
       "      <th></th>\n",
       "      <th>id</th>\n",
       "      <th>name</th>\n",
       "      <th>abv</th>\n",
       "      <th>ibu</th>\n",
       "      <th>target_fg</th>\n",
       "      <th>target_og</th>\n",
       "      <th>ebc</th>\n",
       "      <th>srm</th>\n",
       "      <th>ph</th>\n",
       "    </tr>\n",
       "  </thead>\n",
       "  <tbody>\n",
       "    <tr>\n",
       "      <th>0</th>\n",
       "      <td>182</td>\n",
       "      <td>All Day Long - Prototype Challenge</td>\n",
       "      <td>2.8</td>\n",
       "      <td>30.0</td>\n",
       "      <td>1012.0</td>\n",
       "      <td>1032.5</td>\n",
       "      <td>42.0</td>\n",
       "      <td>21.0</td>\n",
       "      <td>4.4</td>\n",
       "    </tr>\n",
       "    <tr>\n",
       "      <th>1</th>\n",
       "      <td>275</td>\n",
       "      <td>Sidewalk Shark</td>\n",
       "      <td>5.2</td>\n",
       "      <td>22.0</td>\n",
       "      <td>1008.0</td>\n",
       "      <td>1055.0</td>\n",
       "      <td>7.0</td>\n",
       "      <td>4.0</td>\n",
       "      <td>3.8</td>\n",
       "    </tr>\n",
       "    <tr>\n",
       "      <th>2</th>\n",
       "      <td>225</td>\n",
       "      <td>Paradox Islay 2.0</td>\n",
       "      <td>13.0</td>\n",
       "      <td>100.0</td>\n",
       "      <td>1112.0</td>\n",
       "      <td>1015.0</td>\n",
       "      <td>300.0</td>\n",
       "      <td>152.0</td>\n",
       "      <td>4.4</td>\n",
       "    </tr>\n",
       "    <tr>\n",
       "      <th>3</th>\n",
       "      <td>146</td>\n",
       "      <td>Nelson Sauvin</td>\n",
       "      <td>7.5</td>\n",
       "      <td>75.0</td>\n",
       "      <td>1013.0</td>\n",
       "      <td>1068.0</td>\n",
       "      <td>30.0</td>\n",
       "      <td>15.0</td>\n",
       "      <td>4.4</td>\n",
       "    </tr>\n",
       "    <tr>\n",
       "      <th>4</th>\n",
       "      <td>91</td>\n",
       "      <td>Dead Pony Club</td>\n",
       "      <td>3.8</td>\n",
       "      <td>35.0</td>\n",
       "      <td>1012.0</td>\n",
       "      <td>1040.0</td>\n",
       "      <td>25.0</td>\n",
       "      <td>12.7</td>\n",
       "      <td>4.4</td>\n",
       "    </tr>\n",
       "  </tbody>\n",
       "</table>\n",
       "</div>"
      ],
      "text/plain": [
       "    id                                name   abv    ibu  target_fg  target_og  \\\n",
       "0  182  All Day Long - Prototype Challenge   2.8   30.0     1012.0     1032.5   \n",
       "1  275                      Sidewalk Shark   5.2   22.0     1008.0     1055.0   \n",
       "2  225                   Paradox Islay 2.0  13.0  100.0     1112.0     1015.0   \n",
       "3  146                       Nelson Sauvin   7.5   75.0     1013.0     1068.0   \n",
       "4   91                      Dead Pony Club   3.8   35.0     1012.0     1040.0   \n",
       "\n",
       "     ebc    srm   ph  \n",
       "0   42.0   21.0  4.4  \n",
       "1    7.0    4.0  3.8  \n",
       "2  300.0  152.0  4.4  \n",
       "3   30.0   15.0  4.4  \n",
       "4   25.0   12.7  4.4  "
      ]
     },
     "execution_count": 14,
     "metadata": {},
     "output_type": "execute_result"
    }
   ],
   "source": [
    "list_columns = ['id', 'name', 'abv', 'ibu', 'target_fg', 'target_og', 'ebc', 'srm', 'ph']\n",
    "\n",
    "# Criando dicionário de chave e tipo para a criação do DataFrame\n",
    "dict_type    = {'id': 'int32', 'name': 'string', 'abv': 'float32', 'ibu': \n",
    "                'float32', 'target_fg': 'float32', 'target_og': 'float32', \n",
    "                'ebc': 'float32', 'srm': 'float32', 'ph': 'float32'}\n",
    "\n",
    "df = pd.DataFrame(columns=list_columns)\n",
    "\n",
    "for file in files:\n",
    "\n",
    "    # obtendo um objeto s3\n",
    "    data_object = s3_client.get_object(Bucket=bucket_name, Key=file)\n",
    "    \n",
    "    # lendo os dados da chave \"Body\"\n",
    "    data_body = data_object[\"Body\"].read()\n",
    "    \n",
    "    # lendo dados em bytes\n",
    "    data_stream = io.BytesIO(data_body)\n",
    "    \n",
    "    counties_df = pd.read_csv(data_stream, names=list_columns, dtype=dict_type, header=None, delimiter=\",\") \n",
    "\n",
    "    df = counties_df.append(df, ignore_index=True)\n",
    "\n",
    "df.head()"
   ]
  },
  {
   "cell_type": "code",
   "execution_count": 15,
   "id": "7553217f",
   "metadata": {},
   "outputs": [
    {
     "data": {
      "text/plain": [
       "Index(['id', 'name', 'abv', 'ibu', 'target_fg', 'target_og', 'ebc', 'srm',\n",
       "       'ph'],\n",
       "      dtype='object')"
      ]
     },
     "execution_count": 15,
     "metadata": {},
     "output_type": "execute_result"
    }
   ],
   "source": [
    "# Exibindo as colunas do dataframe\n",
    "df.columns"
   ]
  },
  {
   "cell_type": "markdown",
   "id": "b3f47f9d",
   "metadata": {},
   "source": [
    "### **Excluindo as colunas não utilizadas para a modelagem**"
   ]
  },
  {
   "cell_type": "code",
   "execution_count": 16,
   "id": "b21cb5e2",
   "metadata": {},
   "outputs": [],
   "source": [
    "df.drop(columns=['id', 'name'], axis=1, inplace=True)"
   ]
  },
  {
   "cell_type": "code",
   "execution_count": 17,
   "id": "f6a2d0bb",
   "metadata": {},
   "outputs": [
    {
     "data": {
      "text/html": [
       "<div>\n",
       "<style scoped>\n",
       "    .dataframe tbody tr th:only-of-type {\n",
       "        vertical-align: middle;\n",
       "    }\n",
       "\n",
       "    .dataframe tbody tr th {\n",
       "        vertical-align: top;\n",
       "    }\n",
       "\n",
       "    .dataframe thead th {\n",
       "        text-align: right;\n",
       "    }\n",
       "</style>\n",
       "<table border=\"1\" class=\"dataframe\">\n",
       "  <thead>\n",
       "    <tr style=\"text-align: right;\">\n",
       "      <th></th>\n",
       "      <th>abv</th>\n",
       "      <th>ibu</th>\n",
       "      <th>target_fg</th>\n",
       "      <th>target_og</th>\n",
       "      <th>ebc</th>\n",
       "      <th>srm</th>\n",
       "      <th>ph</th>\n",
       "    </tr>\n",
       "  </thead>\n",
       "  <tbody>\n",
       "    <tr>\n",
       "      <th>0</th>\n",
       "      <td>2.8</td>\n",
       "      <td>30.0</td>\n",
       "      <td>1012.0</td>\n",
       "      <td>1032.5</td>\n",
       "      <td>42.0</td>\n",
       "      <td>21.0</td>\n",
       "      <td>4.4</td>\n",
       "    </tr>\n",
       "    <tr>\n",
       "      <th>1</th>\n",
       "      <td>5.2</td>\n",
       "      <td>22.0</td>\n",
       "      <td>1008.0</td>\n",
       "      <td>1055.0</td>\n",
       "      <td>7.0</td>\n",
       "      <td>4.0</td>\n",
       "      <td>3.8</td>\n",
       "    </tr>\n",
       "    <tr>\n",
       "      <th>2</th>\n",
       "      <td>13.0</td>\n",
       "      <td>100.0</td>\n",
       "      <td>1112.0</td>\n",
       "      <td>1015.0</td>\n",
       "      <td>300.0</td>\n",
       "      <td>152.0</td>\n",
       "      <td>4.4</td>\n",
       "    </tr>\n",
       "    <tr>\n",
       "      <th>3</th>\n",
       "      <td>7.5</td>\n",
       "      <td>75.0</td>\n",
       "      <td>1013.0</td>\n",
       "      <td>1068.0</td>\n",
       "      <td>30.0</td>\n",
       "      <td>15.0</td>\n",
       "      <td>4.4</td>\n",
       "    </tr>\n",
       "    <tr>\n",
       "      <th>4</th>\n",
       "      <td>3.8</td>\n",
       "      <td>35.0</td>\n",
       "      <td>1012.0</td>\n",
       "      <td>1040.0</td>\n",
       "      <td>25.0</td>\n",
       "      <td>12.7</td>\n",
       "      <td>4.4</td>\n",
       "    </tr>\n",
       "  </tbody>\n",
       "</table>\n",
       "</div>"
      ],
      "text/plain": [
       "    abv    ibu  target_fg  target_og    ebc    srm   ph\n",
       "0   2.8   30.0     1012.0     1032.5   42.0   21.0  4.4\n",
       "1   5.2   22.0     1008.0     1055.0    7.0    4.0  3.8\n",
       "2  13.0  100.0     1112.0     1015.0  300.0  152.0  4.4\n",
       "3   7.5   75.0     1013.0     1068.0   30.0   15.0  4.4\n",
       "4   3.8   35.0     1012.0     1040.0   25.0   12.7  4.4"
      ]
     },
     "execution_count": 17,
     "metadata": {},
     "output_type": "execute_result"
    }
   ],
   "source": [
    "df.head()"
   ]
  },
  {
   "cell_type": "code",
   "execution_count": 18,
   "id": "e0bf9fc5",
   "metadata": {},
   "outputs": [
    {
     "data": {
      "text/html": [
       "<div>\n",
       "<style scoped>\n",
       "    .dataframe tbody tr th:only-of-type {\n",
       "        vertical-align: middle;\n",
       "    }\n",
       "\n",
       "    .dataframe tbody tr th {\n",
       "        vertical-align: top;\n",
       "    }\n",
       "\n",
       "    .dataframe thead th {\n",
       "        text-align: right;\n",
       "    }\n",
       "</style>\n",
       "<table border=\"1\" class=\"dataframe\">\n",
       "  <thead>\n",
       "    <tr style=\"text-align: right;\">\n",
       "      <th></th>\n",
       "      <th>abv</th>\n",
       "      <th>ibu</th>\n",
       "      <th>target_fg</th>\n",
       "      <th>target_og</th>\n",
       "      <th>ebc</th>\n",
       "      <th>srm</th>\n",
       "      <th>ph</th>\n",
       "    </tr>\n",
       "  </thead>\n",
       "  <tbody>\n",
       "    <tr>\n",
       "      <th>233</th>\n",
       "      <td>4.5</td>\n",
       "      <td>37.0</td>\n",
       "      <td>1012.0</td>\n",
       "      <td>1047.0</td>\n",
       "      <td>20.0</td>\n",
       "      <td>10.0</td>\n",
       "      <td>4.2</td>\n",
       "    </tr>\n",
       "    <tr>\n",
       "      <th>234</th>\n",
       "      <td>8.2</td>\n",
       "      <td>70.0</td>\n",
       "      <td>1013.0</td>\n",
       "      <td>1076.0</td>\n",
       "      <td>16.0</td>\n",
       "      <td>8.0</td>\n",
       "      <td>4.4</td>\n",
       "    </tr>\n",
       "    <tr>\n",
       "      <th>235</th>\n",
       "      <td>6.7</td>\n",
       "      <td>67.0</td>\n",
       "      <td>1013.0</td>\n",
       "      <td>1064.0</td>\n",
       "      <td>19.0</td>\n",
       "      <td>9.5</td>\n",
       "      <td>4.4</td>\n",
       "    </tr>\n",
       "    <tr>\n",
       "      <th>236</th>\n",
       "      <td>13.2</td>\n",
       "      <td>85.0</td>\n",
       "      <td>1023.0</td>\n",
       "      <td>1125.0</td>\n",
       "      <td>140.0</td>\n",
       "      <td>71.0</td>\n",
       "      <td>4.4</td>\n",
       "    </tr>\n",
       "    <tr>\n",
       "      <th>237</th>\n",
       "      <td>4.4</td>\n",
       "      <td>70.0</td>\n",
       "      <td>1012.0</td>\n",
       "      <td>1045.0</td>\n",
       "      <td>30.0</td>\n",
       "      <td>15.0</td>\n",
       "      <td>4.4</td>\n",
       "    </tr>\n",
       "  </tbody>\n",
       "</table>\n",
       "</div>"
      ],
      "text/plain": [
       "      abv   ibu  target_fg  target_og    ebc   srm   ph\n",
       "233   4.5  37.0     1012.0     1047.0   20.0  10.0  4.2\n",
       "234   8.2  70.0     1013.0     1076.0   16.0   8.0  4.4\n",
       "235   6.7  67.0     1013.0     1064.0   19.0   9.5  4.4\n",
       "236  13.2  85.0     1023.0     1125.0  140.0  71.0  4.4\n",
       "237   4.4  70.0     1012.0     1045.0   30.0  15.0  4.4"
      ]
     },
     "execution_count": 18,
     "metadata": {},
     "output_type": "execute_result"
    }
   ],
   "source": [
    "df.tail()"
   ]
  },
  {
   "cell_type": "markdown",
   "id": "e00654ad",
   "metadata": {},
   "source": [
    "**Excluindo dados duplicados**\n",
    "\n",
    "Como a Punk API existem apenas 325 dados únicos, e o fluxo de _streaming_ de dados busca dados aleatórios, a possibilidade de buscar um dado repetido é alta. Portanto, é necessário a exclusão de dados duplicados para o treinamento correto."
   ]
  },
  {
   "cell_type": "code",
   "execution_count": 19,
   "id": "aedbcf63",
   "metadata": {},
   "outputs": [],
   "source": [
    "df.drop_duplicates(inplace=True)"
   ]
  },
  {
   "cell_type": "markdown",
   "id": "b6521e93",
   "metadata": {},
   "source": [
    "**Verificando se existem dados nulos ou NaN**"
   ]
  },
  {
   "cell_type": "code",
   "execution_count": 20,
   "id": "464a4ae0",
   "metadata": {},
   "outputs": [
    {
     "data": {
      "text/plain": [
       "abv          0\n",
       "ibu          0\n",
       "target_fg    0\n",
       "target_og    0\n",
       "ebc          2\n",
       "srm          2\n",
       "ph           0\n",
       "dtype: int64"
      ]
     },
     "execution_count": 20,
     "metadata": {},
     "output_type": "execute_result"
    }
   ],
   "source": [
    "df.isnull().sum()"
   ]
  },
  {
   "cell_type": "code",
   "execution_count": 21,
   "id": "4fb0c213",
   "metadata": {},
   "outputs": [
    {
     "data": {
      "text/plain": [
       "abv          0\n",
       "ibu          0\n",
       "target_fg    0\n",
       "target_og    0\n",
       "ebc          2\n",
       "srm          2\n",
       "ph           0\n",
       "dtype: int64"
      ]
     },
     "execution_count": 21,
     "metadata": {},
     "output_type": "execute_result"
    }
   ],
   "source": [
    "df.isna().sum()"
   ]
  },
  {
   "cell_type": "markdown",
   "id": "0acbeca4",
   "metadata": {},
   "source": [
    "**Após a verificação de dados nulos, será feita a exclusão**"
   ]
  },
  {
   "cell_type": "code",
   "execution_count": 22,
   "id": "6705fd54",
   "metadata": {},
   "outputs": [],
   "source": [
    "df.dropna(inplace=True)"
   ]
  },
  {
   "cell_type": "code",
   "execution_count": 23,
   "id": "0bb423fe",
   "metadata": {},
   "outputs": [
    {
     "data": {
      "text/plain": [
       "abv          0\n",
       "ibu          0\n",
       "target_fg    0\n",
       "target_og    0\n",
       "ebc          0\n",
       "srm          0\n",
       "ph           0\n",
       "dtype: int64"
      ]
     },
     "execution_count": 23,
     "metadata": {},
     "output_type": "execute_result"
    }
   ],
   "source": [
    "df.isnull().sum()"
   ]
  },
  {
   "cell_type": "code",
   "execution_count": 24,
   "id": "79a29cdb",
   "metadata": {},
   "outputs": [
    {
     "data": {
      "text/plain": [
       "abv          0\n",
       "ibu          0\n",
       "target_fg    0\n",
       "target_og    0\n",
       "ebc          0\n",
       "srm          0\n",
       "ph           0\n",
       "dtype: int64"
      ]
     },
     "execution_count": 24,
     "metadata": {},
     "output_type": "execute_result"
    }
   ],
   "source": [
    "df.isna().sum()"
   ]
  },
  {
   "cell_type": "code",
   "execution_count": 25,
   "id": "43d6a519",
   "metadata": {},
   "outputs": [],
   "source": [
    "# reiniciando a contagem dos indexes após a exclusão de dados nulos e/ou ausentes\n",
    "df.reset_index(drop=True, inplace=True)"
   ]
  },
  {
   "cell_type": "code",
   "execution_count": 26,
   "id": "feb78e06",
   "metadata": {},
   "outputs": [
    {
     "name": "stdout",
     "output_type": "stream",
     "text": [
      "<class 'pandas.core.frame.DataFrame'>\n",
      "RangeIndex: 151 entries, 0 to 150\n",
      "Data columns (total 7 columns):\n",
      " #   Column     Non-Null Count  Dtype  \n",
      "---  ------     --------------  -----  \n",
      " 0   abv        151 non-null    float32\n",
      " 1   ibu        151 non-null    float32\n",
      " 2   target_fg  151 non-null    float32\n",
      " 3   target_og  151 non-null    float32\n",
      " 4   ebc        151 non-null    float32\n",
      " 5   srm        151 non-null    float32\n",
      " 6   ph         151 non-null    float32\n",
      "dtypes: float32(7)\n",
      "memory usage: 4.3 KB\n"
     ]
    }
   ],
   "source": [
    "df.info()"
   ]
  },
  {
   "cell_type": "markdown",
   "id": "7558f2b8",
   "metadata": {},
   "source": [
    "**Exibindo as informações estatísticas da base de dados**"
   ]
  },
  {
   "cell_type": "code",
   "execution_count": 27,
   "id": "43233915",
   "metadata": {},
   "outputs": [
    {
     "data": {
      "text/html": [
       "<div>\n",
       "<style scoped>\n",
       "    .dataframe tbody tr th:only-of-type {\n",
       "        vertical-align: middle;\n",
       "    }\n",
       "\n",
       "    .dataframe tbody tr th {\n",
       "        vertical-align: top;\n",
       "    }\n",
       "\n",
       "    .dataframe thead th {\n",
       "        text-align: right;\n",
       "    }\n",
       "</style>\n",
       "<table border=\"1\" class=\"dataframe\">\n",
       "  <thead>\n",
       "    <tr style=\"text-align: right;\">\n",
       "      <th></th>\n",
       "      <th>abv</th>\n",
       "      <th>ibu</th>\n",
       "      <th>target_fg</th>\n",
       "      <th>target_og</th>\n",
       "      <th>ebc</th>\n",
       "      <th>srm</th>\n",
       "      <th>ph</th>\n",
       "    </tr>\n",
       "  </thead>\n",
       "  <tbody>\n",
       "    <tr>\n",
       "      <th>count</th>\n",
       "      <td>151.000000</td>\n",
       "      <td>151.000000</td>\n",
       "      <td>151.000000</td>\n",
       "      <td>151.000000</td>\n",
       "      <td>151.000000</td>\n",
       "      <td>151.000000</td>\n",
       "      <td>151.000000</td>\n",
       "    </tr>\n",
       "    <tr>\n",
       "      <th>mean</th>\n",
       "      <td>7.956292</td>\n",
       "      <td>72.437088</td>\n",
       "      <td>1015.774841</td>\n",
       "      <td>1066.500000</td>\n",
       "      <td>73.477478</td>\n",
       "      <td>37.080406</td>\n",
       "      <td>4.439074</td>\n",
       "    </tr>\n",
       "    <tr>\n",
       "      <th>std</th>\n",
       "      <td>4.709277</td>\n",
       "      <td>129.195740</td>\n",
       "      <td>17.457064</td>\n",
       "      <td>27.307945</td>\n",
       "      <td>105.258606</td>\n",
       "      <td>53.198406</td>\n",
       "      <td>0.345634</td>\n",
       "    </tr>\n",
       "    <tr>\n",
       "      <th>min</th>\n",
       "      <td>2.500000</td>\n",
       "      <td>0.000000</td>\n",
       "      <td>1000.000000</td>\n",
       "      <td>1007.000000</td>\n",
       "      <td>5.000000</td>\n",
       "      <td>3.000000</td>\n",
       "      <td>3.200000</td>\n",
       "    </tr>\n",
       "    <tr>\n",
       "      <th>25%</th>\n",
       "      <td>5.200000</td>\n",
       "      <td>35.000000</td>\n",
       "      <td>1009.000000</td>\n",
       "      <td>1048.000000</td>\n",
       "      <td>15.000000</td>\n",
       "      <td>7.810000</td>\n",
       "      <td>4.400000</td>\n",
       "    </tr>\n",
       "    <tr>\n",
       "      <th>50%</th>\n",
       "      <td>7.200000</td>\n",
       "      <td>50.000000</td>\n",
       "      <td>1012.000000</td>\n",
       "      <td>1065.000000</td>\n",
       "      <td>30.000000</td>\n",
       "      <td>15.000000</td>\n",
       "      <td>4.400000</td>\n",
       "    </tr>\n",
       "    <tr>\n",
       "      <th>75%</th>\n",
       "      <td>9.000000</td>\n",
       "      <td>70.000000</td>\n",
       "      <td>1015.000000</td>\n",
       "      <td>1077.500000</td>\n",
       "      <td>70.500000</td>\n",
       "      <td>35.500000</td>\n",
       "      <td>4.400000</td>\n",
       "    </tr>\n",
       "    <tr>\n",
       "      <th>max</th>\n",
       "      <td>41.000000</td>\n",
       "      <td>1157.000000</td>\n",
       "      <td>1125.000000</td>\n",
       "      <td>1157.000000</td>\n",
       "      <td>600.000000</td>\n",
       "      <td>305.000000</td>\n",
       "      <td>5.300000</td>\n",
       "    </tr>\n",
       "  </tbody>\n",
       "</table>\n",
       "</div>"
      ],
      "text/plain": [
       "              abv          ibu    target_fg    target_og         ebc  \\\n",
       "count  151.000000   151.000000   151.000000   151.000000  151.000000   \n",
       "mean     7.956292    72.437088  1015.774841  1066.500000   73.477478   \n",
       "std      4.709277   129.195740    17.457064    27.307945  105.258606   \n",
       "min      2.500000     0.000000  1000.000000  1007.000000    5.000000   \n",
       "25%      5.200000    35.000000  1009.000000  1048.000000   15.000000   \n",
       "50%      7.200000    50.000000  1012.000000  1065.000000   30.000000   \n",
       "75%      9.000000    70.000000  1015.000000  1077.500000   70.500000   \n",
       "max     41.000000  1157.000000  1125.000000  1157.000000  600.000000   \n",
       "\n",
       "              srm          ph  \n",
       "count  151.000000  151.000000  \n",
       "mean    37.080406    4.439074  \n",
       "std     53.198406    0.345634  \n",
       "min      3.000000    3.200000  \n",
       "25%      7.810000    4.400000  \n",
       "50%     15.000000    4.400000  \n",
       "75%     35.500000    4.400000  \n",
       "max    305.000000    5.300000  "
      ]
     },
     "execution_count": 27,
     "metadata": {},
     "output_type": "execute_result"
    }
   ],
   "source": [
    "df.describe()"
   ]
  },
  {
   "cell_type": "markdown",
   "id": "901cf0e0",
   "metadata": {},
   "source": [
    "## **3. Análise Exploratória dos Dados (EDA)**"
   ]
  },
  {
   "cell_type": "code",
   "execution_count": 28,
   "id": "8f5d21be",
   "metadata": {},
   "outputs": [
    {
     "name": "stderr",
     "output_type": "stream",
     "text": [
      "/home/ec2-user/anaconda3/envs/python3/lib/python3.6/site-packages/seaborn/distributions.py:2557: FutureWarning: `distplot` is a deprecated function and will be removed in a future version. Please adapt your code to use either `displot` (a figure-level function with similar flexibility) or `histplot` (an axes-level function for histograms).\n",
      "  warnings.warn(msg, FutureWarning)\n"
     ]
    },
    {
     "data": {
      "image/png": "[encoded data removed]",
      "text/plain": [
       "<Figure size 432x288 with 1 Axes>"
      ]
     },
     "metadata": {},
     "output_type": "display_data"
    }
   ],
   "source": [
    "# Verificando a distribuição da variável target 'ibu'\n",
    "sns.distplot(df['ibu']);"
   ]
  },
  {
   "cell_type": "code",
   "execution_count": 29,
   "id": "9539a69d",
   "metadata": {},
   "outputs": [
    {
     "data": {
      "image/png": "[encoded data removed]",
      "text/plain": [
       "<Figure size 1260x1260 with 56 Axes>"
      ]
     },
     "metadata": {},
     "output_type": "display_data"
    }
   ],
   "source": [
    "# Verificando os gráficos das variáveis em pares\n",
    "sns.pairplot(df);"
   ]
  },
  {
   "cell_type": "code",
   "execution_count": 30,
   "id": "da51d312",
   "metadata": {},
   "outputs": [
    {
     "data": {
      "image/png": "[encoded data removed]",
      "text/plain": [
       "<Figure size 432x288 with 2 Axes>"
      ]
     },
     "metadata": {},
     "output_type": "display_data"
    }
   ],
   "source": [
    "# Verificando a correlação dos dados\n",
    "sns.heatmap(df.corr(), annot=True);"
   ]
  },
  {
   "cell_type": "markdown",
   "id": "d9d281de",
   "metadata": {},
   "source": [
    "**Observação**: Como realizamos dois treinamentos localmente com os mesmos dados, o primeiro com todas as features e o segundo apenas com a feature `abv` que possui maior correlação com a nossa variável target e obtivemos um melhor resultado com o modelo que utilizou todas as features, iremos apenas treinar o modelo de regressão linear múltipla."
   ]
  },
  {
   "cell_type": "markdown",
   "id": "0d0f7b84",
   "metadata": {},
   "source": [
    "# **4. Pré-processamento dos dados**"
   ]
  },
  {
   "cell_type": "markdown",
   "id": "69cbecd4",
   "metadata": {},
   "source": [
    "#### **Selecionando as features e o target para o treinamento do modelo**\n",
    "\n",
    "Neste momento, descartamos as colunas `id` e `name`, pois não serão utilizadas no treinamento."
   ]
  },
  {
   "cell_type": "code",
   "execution_count": 31,
   "id": "3f87a9be",
   "metadata": {},
   "outputs": [],
   "source": [
    "# Selecionando as features\n",
    "features_names = ['abv', 'target_fg', 'target_og', 'ebc', 'srm', 'ph']\n",
    "features = df[features_names]\n",
    "\n",
    "target = df['ibu']"
   ]
  },
  {
   "cell_type": "code",
   "execution_count": 32,
   "id": "0a7f26d5",
   "metadata": {},
   "outputs": [
    {
     "data": {
      "text/plain": [
       "6"
      ]
     },
     "execution_count": 32,
     "metadata": {},
     "output_type": "execute_result"
    }
   ],
   "source": [
    "len(features_names)"
   ]
  },
  {
   "cell_type": "code",
   "execution_count": 33,
   "id": "e97c1482",
   "metadata": {},
   "outputs": [
    {
     "data": {
      "text/plain": [
       "(151, 6)"
      ]
     },
     "execution_count": 33,
     "metadata": {},
     "output_type": "execute_result"
    }
   ],
   "source": [
    "features.shape"
   ]
  },
  {
   "cell_type": "code",
   "execution_count": 34,
   "id": "4a820dfb",
   "metadata": {},
   "outputs": [
    {
     "data": {
      "text/plain": [
       "0     30.0\n",
       "1     22.0\n",
       "2    100.0\n",
       "3     75.0\n",
       "4     35.0\n",
       "Name: ibu, dtype: float32"
      ]
     },
     "execution_count": 34,
     "metadata": {},
     "output_type": "execute_result"
    }
   ],
   "source": [
    "target.head()"
   ]
  },
  {
   "cell_type": "markdown",
   "id": "d2c3ab9f",
   "metadata": {},
   "source": [
    "# **5. Treinamento dos modelos**\n",
    "\n",
    "## **5.1. Regressão Linear/Linear Learner (Múltipla)**"
   ]
  },
  {
   "cell_type": "markdown",
   "id": "7be146b3",
   "metadata": {},
   "source": [
    "Na etapa abaixo a variável `X` irá receber nossas features (variáveis independentes) para o treinamento e a variável `y` receberá a a variável dependente que será nosso target.\n",
    "\n",
    "Ambas variáveis receberão os dados convertidos numpy array com o tipo de dado float32.\n",
    "\n",
    "Por fim, será realizado a separação entre base de treinamento e base de teste. Utilizei a proporção de 80% para treinamento e 20% para teste.\n",
    "\n",
    "* X_train: features para treinamento do modelo.\n",
    "* y_train: target para treinamento do modelo.\n",
    "* X_test: features para teste do modelo.\n",
    "* y_test: target para teste do modelo.\n",
    "\n",
    "**Observação**: Como a base total de dados é pequena, optei por não ter uma base de validação, uma vez que teria poucas amostras para treinamento e teste."
   ]
  },
  {
   "cell_type": "code",
   "execution_count": 35,
   "id": "0f0772c0",
   "metadata": {},
   "outputs": [],
   "source": [
    "X = np.array(features).astype('float32')\n",
    "y = np.array(target).astype('float32')\n",
    "\n",
    "X_train, X_test, y_train, y_test = train_test_split(X, y, \n",
    "                                                    test_size=0.20, \n",
    "                                                    random_state=42)"
   ]
  },
  {
   "cell_type": "code",
   "execution_count": 36,
   "id": "092e2870",
   "metadata": {},
   "outputs": [
    {
     "data": {
      "text/plain": [
       "(120, 6)"
      ]
     },
     "execution_count": 36,
     "metadata": {},
     "output_type": "execute_result"
    }
   ],
   "source": [
    "X_train.shape"
   ]
  },
  {
   "cell_type": "markdown",
   "id": "bdcd2d0b",
   "metadata": {},
   "source": [
    "### **5.1.1. Upload dados pré-processados para o S3**\n",
    "\n",
    "Nesta etapa se faz necessário, após o tratamento dos dados, realizar o upload dos dados no s3 para a posterior leitura e treinamento do modelo."
   ]
  },
  {
   "cell_type": "code",
   "execution_count": 37,
   "id": "d7c70814",
   "metadata": {},
   "outputs": [
    {
     "name": "stdout",
     "output_type": "stream",
     "text": [
      "arn:aws:iam::793574898187:role/iam_platform_role\n"
     ]
    }
   ],
   "source": [
    "# Criando sessão SageMaker\n",
    "sagemaker_session = sagemaker.Session()\n",
    "\n",
    "# Prefixo para o diretório no bucket S3\n",
    "prefix = 'model-sagemaker'\n",
    "\n",
    "role = sagemaker.get_execution_role()\n",
    "print(role)"
   ]
  },
  {
   "cell_type": "code",
   "execution_count": 38,
   "id": "9ef63d37",
   "metadata": {},
   "outputs": [
    {
     "name": "stdout",
     "output_type": "stream",
     "text": [
      "uploaded training data location: s3://cleaned-bucket-platform/model-sagemaker/train/linear-train-data\n"
     ]
    }
   ],
   "source": [
    "# Criação de um objeto bytes para trabalhar como buffer\n",
    "buf = io.BytesIO()\n",
    "smac.write_numpy_to_dense_tensor(buf, X_train, y_train)\n",
    "buf.seek(0)\n",
    "\n",
    "# Sub-pasta para o arquivo de treinamento que será enviado ao S3 \n",
    "key = 'linear-train-data'\n",
    "\n",
    "# Upload arquivo de dado para o S3\n",
    "boto3.resource('s3').Bucket(bucket_name).Object(os.path.join(prefix, 'train', key)).upload_fileobj(buf)\n",
    "s3_train_data = 's3://{}/{}/train/{}'.format(bucket_name, prefix, key)\n",
    "print('uploaded training data location: {}'.format(s3_train_data))"
   ]
  },
  {
   "cell_type": "code",
   "execution_count": 39,
   "id": "23b75c3e",
   "metadata": {},
   "outputs": [
    {
     "name": "stdout",
     "output_type": "stream",
     "text": [
      "uploaded training data location: s3://cleaned-bucket-platform/model-sagemaker/test/linear-test-data\n"
     ]
    }
   ],
   "source": [
    "# Criação de um objeto bytes para trabalhar como buffer\n",
    "buf = io.BytesIO()\n",
    "smac.write_numpy_to_dense_tensor(buf, X_train, y_train)\n",
    "buf.seek(0)\n",
    "\n",
    "# Sub-pasta para o arquivo de treinamento que será enviado ao S3 \n",
    "key = 'linear-test-data'\n",
    "\n",
    "boto3.resource('s3').Bucket(bucket_name).Object(os.path.join(prefix, 'test', key)).upload_fileobj(buf)\n",
    "s3_test_data = 's3://{}/{}/test/{}'.format(bucket_name, prefix, key)\n",
    "print('uploaded training data location: {}'.format(s3_test_data))"
   ]
  },
  {
   "cell_type": "code",
   "execution_count": 40,
   "id": "107a7a87",
   "metadata": {},
   "outputs": [
    {
     "name": "stdout",
     "output_type": "stream",
     "text": [
      "Training artifacts will be uploaded to: s3://cleaned-bucket-platform/model-sagemaker/output\n"
     ]
    }
   ],
   "source": [
    "# Sub-pasta para os artefatos de saída do modelo, exemplo: modelo treinado\n",
    "output_location = 's3://{}/{}/output'.format(bucket_name, prefix)\n",
    "print('Training artifacts will be uploaded to: {}'.format(output_location))"
   ]
  },
  {
   "cell_type": "markdown",
   "id": "624da1e0",
   "metadata": {},
   "source": [
    "Na célula abaixo é criado um objeto chamado `container` que recupera uma imagem do modelo `linear-learner` já existente do SageMaker. \n",
    "\n",
    "A seguir, iremos utilizar este objeto `container` como um dos parâmetros para instanciar um objeto `Estimator`. Outros parâmetros necessários são: quantidade de instâncias para o treinamento, o tipo da instância (configuração), a localização da saída dos artefatos do treinamento."
   ]
  },
  {
   "cell_type": "code",
   "execution_count": 41,
   "id": "78554293",
   "metadata": {},
   "outputs": [],
   "source": [
    "container = image_uris.retrieve('linear-learner', \n",
    "                                boto3.Session().region_name)\n",
    "\n",
    "mult_linear = sagemaker.estimator.Estimator(container,\n",
    "                                           role, \n",
    "                                           instance_count = 1, \n",
    "                                           instance_type = 'ml.c4.xlarge',\n",
    "                                           output_path = output_location,\n",
    "                                           sagemaker_session = sagemaker_session)"
   ]
  },
  {
   "cell_type": "markdown",
   "id": "78518833",
   "metadata": {},
   "source": [
    "A seguir iremos configurar alguns hiperparâmetros para o treinamento.\n",
    "\n",
    "Observação: Existem mais hiperparâmetros que podem ser utilizados, entretanto, os escolhidos foram os mais utilizados por padrão deste modelo."
   ]
  },
  {
   "cell_type": "code",
   "execution_count": 42,
   "id": "4786f6c9",
   "metadata": {},
   "outputs": [],
   "source": [
    "mult_linear.set_hyperparameters(feature_dim = len(features_names),\n",
    "                           predictor_type = 'regressor',\n",
    "                           mini_batch_size = 20,\n",
    "                           epochs = 5,\n",
    "                           num_models = 10,\n",
    "                           loss = 'absolute_loss')"
   ]
  },
  {
   "cell_type": "markdown",
   "id": "3a2df7dd",
   "metadata": {},
   "source": [
    "Realizando o treinamento do modelo `linear-learner`."
   ]
  },
  {
   "cell_type": "code",
   "execution_count": 43,
   "id": "4dd47e3f",
   "metadata": {},
   "outputs": [
    {
     "name": "stdout",
     "output_type": "stream",
     "text": [
      "CPU times: user 3 µs, sys: 0 ns, total: 3 µs\n",
      "Wall time: 7.39 µs\n",
      "2021-04-09 19:57:58 Starting - Starting the training job...\n",
      "2021-04-09 19:57:59 Starting - Launching requested ML instancesProfilerReport-1617998277: InProgress\n",
      "......\n",
      "2021-04-09 19:59:12 Starting - Preparing the instances for training.........\n",
      "2021-04-09 20:00:54 Downloading - Downloading input data...\n",
      "2021-04-09 20:01:21 Training - Training image download completed. Training in progress..\u001b[34mDocker entrypoint called with argument(s): train\u001b[0m\n",
      "\u001b[34mRunning default environment configuration script\u001b[0m\n",
      "\u001b[34m[04/09/2021 20:01:27 INFO 140452992677696] Reading default configuration from /opt/amazon/lib/python3.7/site-packages/algorithm/resources/default-input.json: {'mini_batch_size': '1000', 'epochs': '15', 'feature_dim': 'auto', 'use_bias': 'true', 'binary_classifier_model_selection_criteria': 'accuracy', 'f_beta': '1.0', 'target_recall': '0.8', 'target_precision': '0.8', 'num_models': 'auto', 'num_calibration_samples': '10000000', 'init_method': 'uniform', 'init_scale': '0.07', 'init_sigma': '0.01', 'init_bias': '0.0', 'optimizer': 'auto', 'loss': 'auto', 'margin': '1.0', 'quantile': '0.5', 'loss_insensitivity': '0.01', 'huber_delta': '1.0', 'num_classes': '1', 'accuracy_top_k': '3', 'wd': 'auto', 'l1': 'auto', 'momentum': 'auto', 'learning_rate': 'auto', 'beta_1': 'auto', 'beta_2': 'auto', 'bias_lr_mult': 'auto', 'bias_wd_mult': 'auto', 'use_lr_scheduler': 'true', 'lr_scheduler_step': 'auto', 'lr_scheduler_factor': 'auto', 'lr_scheduler_minimum_lr': 'auto', 'positive_example_weight_mult': '1.0', 'balance_multiclass_weights': 'false', 'normalize_data': 'true', 'normalize_label': 'auto', 'unbias_data': 'auto', 'unbias_label': 'auto', 'num_point_for_scaler': '10000', '_kvstore': 'auto', '_num_gpus': 'auto', '_num_kv_servers': 'auto', '_log_level': 'info', '_tuning_objective_metric': '', 'early_stopping_patience': '3', 'early_stopping_tolerance': '0.001', '_enable_profiler': 'false'}\u001b[0m\n",
      "\u001b[34m[04/09/2021 20:01:27 INFO 140452992677696] Merging with provided configuration from /opt/ml/input/config/hyperparameters.json: {'loss': 'absolute_loss', 'feature_dim': '6', 'num_models': '10', 'predictor_type': 'regressor', 'epochs': '5', 'mini_batch_size': '20'}\u001b[0m\n",
      "\u001b[34m[04/09/2021 20:01:27 INFO 140452992677696] Final configuration: {'mini_batch_size': '20', 'epochs': '5', 'feature_dim': '6', 'use_bias': 'true', 'binary_classifier_model_selection_criteria': 'accuracy', 'f_beta': '1.0', 'target_recall': '0.8', 'target_precision': '0.8', 'num_models': '10', 'num_calibration_samples': '10000000', 'init_method': 'uniform', 'init_scale': '0.07', 'init_sigma': '0.01', 'init_bias': '0.0', 'optimizer': 'auto', 'loss': 'absolute_loss', 'margin': '1.0', 'quantile': '0.5', 'loss_insensitivity': '0.01', 'huber_delta': '1.0', 'num_classes': '1', 'accuracy_top_k': '3', 'wd': 'auto', 'l1': 'auto', 'momentum': 'auto', 'learning_rate': 'auto', 'beta_1': 'auto', 'beta_2': 'auto', 'bias_lr_mult': 'auto', 'bias_wd_mult': 'auto', 'use_lr_scheduler': 'true', 'lr_scheduler_step': 'auto', 'lr_scheduler_factor': 'auto', 'lr_scheduler_minimum_lr': 'auto', 'positive_example_weight_mult': '1.0', 'balance_multiclass_weights': 'false', 'normalize_data': 'true', 'normalize_label': 'auto', 'unbias_data': 'auto', 'unbias_label': 'auto', 'num_point_for_scaler': '10000', '_kvstore': 'auto', '_num_gpus': 'auto', '_num_kv_servers': 'auto', '_log_level': 'info', '_tuning_objective_metric': '', 'early_stopping_patience': '3', 'early_stopping_tolerance': '0.001', '_enable_profiler': 'false', 'predictor_type': 'regressor'}\u001b[0m\n",
      "\u001b[34m[04/09/2021 20:01:27 WARNING 140452992677696] Loggers have already been setup.\u001b[0m\n",
      "\u001b[34mProcess 1 is a worker.\u001b[0m\n",
      "\u001b[34m[04/09/2021 20:01:28 INFO 140452992677696] Using default worker.\u001b[0m\n",
      "\u001b[34m[04/09/2021 20:01:28 INFO 140452992677696] Checkpoint loading and saving are disabled.\u001b[0m\n",
      "\u001b[34m[2021-04-09 20:01:28.261] [tensorio] [info] epoch_stats={\"data_pipeline\": \"/opt/ml/input/data/train\", \"epoch\": 0, \"duration\": 15, \"num_examples\": 1, \"num_bytes\": 1360}\u001b[0m\n",
      "\u001b[34m[04/09/2021 20:01:28 INFO 140452992677696] Create Store: local\u001b[0m\n",
      "\u001b[34m[2021-04-09 20:01:28.326] [tensorio] [info] epoch_stats={\"data_pipeline\": \"/opt/ml/input/data/train\", \"epoch\": 1, \"duration\": 65, \"num_examples\": 6, \"num_bytes\": 8160}\u001b[0m\n",
      "\u001b[34m[04/09/2021 20:01:28 INFO 140452992677696] Scaler algorithm parameters\n",
      " <algorithm.scaler.ScalerAlgorithmStable object at 0x7fbd70573390>\u001b[0m\n",
      "\u001b[34m[04/09/2021 20:01:28 INFO 140452992677696] Scaling model computed with parameters:\n",
      " {'stdev_label': \u001b[0m\n",
      "\u001b[34m[141.50977]\u001b[0m\n",
      "\u001b[34m<NDArray 1 @cpu(0)>, 'stdev_weight': \u001b[0m\n",
      "\u001b[34m[  4.886948    16.539042    26.340473   100.969765    51.014202\n",
      "   0.35798818]\u001b[0m\n",
      "\u001b[34m<NDArray 6 @cpu(0)>, 'mean_label': \u001b[0m\n",
      "\u001b[34m[73.12084]\u001b[0m\n",
      "\u001b[34m<NDArray 1 @cpu(0)>, 'mean_weight': \u001b[0m\n",
      "\u001b[34m[   7.608333  1015.1       1063.5566      73.30083     36.92033\n",
      "    4.4366665]\u001b[0m\n",
      "\u001b[34m<NDArray 6 @cpu(0)>}\u001b[0m\n",
      "\u001b[34m[04/09/2021 20:01:28 INFO 140452992677696] nvidia-smi: took 0.030 seconds to run.\u001b[0m\n",
      "\u001b[34m[04/09/2021 20:01:28 INFO 140452992677696] nvidia-smi identified 0 GPUs.\u001b[0m\n",
      "\u001b[34m[04/09/2021 20:01:28 INFO 140452992677696] Number of GPUs being used: 0\u001b[0m\n",
      "\u001b[34m#metrics {\"StartTime\": 1617998488.3839433, \"EndTime\": 1617998488.383975, \"Dimensions\": {\"Algorithm\": \"Linear Learner\", \"Host\": \"algo-1\", \"Operation\": \"training\", \"Meta\": \"init_train_data_iter\"}, \"Metrics\": {\"Total Records Seen\": {\"sum\": 140.0, \"count\": 1, \"min\": 140, \"max\": 140}, \"Total Batches Seen\": {\"sum\": 7.0, \"count\": 1, \"min\": 7, \"max\": 7}, \"Max Records Seen Between Resets\": {\"sum\": 120.0, \"count\": 1, \"min\": 120, \"max\": 120}, \"Max Batches Seen Between Resets\": {\"sum\": 6.0, \"count\": 1, \"min\": 6, \"max\": 6}, \"Reset Count\": {\"sum\": 2.0, \"count\": 1, \"min\": 2, \"max\": 2}, \"Number of Records Since Last Reset\": {\"sum\": 0.0, \"count\": 1, \"min\": 0, \"max\": 0}, \"Number of Batches Since Last Reset\": {\"sum\": 0.0, \"count\": 1, \"min\": 0, \"max\": 0}}}\n",
      "\u001b[0m\n",
      "\u001b[34m[2021-04-09 20:01:28.455] [tensorio] [info] epoch_stats={\"data_pipeline\": \"/opt/ml/input/data/train\", \"epoch\": 4, \"duration\": 71, \"num_examples\": 6, \"num_bytes\": 8160}\u001b[0m\n",
      "\u001b[34m#metrics {\"StartTime\": 1617998488.4556131, \"EndTime\": 1617998488.4556718, \"Dimensions\": {\"Algorithm\": \"Linear Learner\", \"Host\": \"algo-1\", \"Operation\": \"training\", \"epoch\": 0, \"model\": 0}, \"Metrics\": {\"train_absolute_loss_objective\": {\"sum\": 0.2807646969954173, \"count\": 1, \"min\": 0.2807646969954173, \"max\": 0.2807646969954173}}}\n",
      "\u001b[0m\n",
      "\u001b[34m#metrics {\"StartTime\": 1617998488.4557464, \"EndTime\": 1617998488.455765, \"Dimensions\": {\"Algorithm\": \"Linear Learner\", \"Host\": \"algo-1\", \"Operation\": \"training\", \"epoch\": 0, \"model\": 1}, \"Metrics\": {\"train_absolute_loss_objective\": {\"sum\": 0.29183137814203897, \"count\": 1, \"min\": 0.29183137814203897, \"max\": 0.29183137814203897}}}\n",
      "\u001b[0m\n",
      "\u001b[34m#metrics {\"StartTime\": 1617998488.455821, \"EndTime\": 1617998488.4558384, \"Dimensions\": {\"Algorithm\": \"Linear Learner\", \"Host\": \"algo-1\", \"Operation\": \"training\", \"epoch\": 0, \"model\": 2}, \"Metrics\": {\"train_absolute_loss_objective\": {\"sum\": 0.29385268688201904, \"count\": 1, \"min\": 0.29385268688201904, \"max\": 0.29385268688201904}}}\n",
      "\u001b[0m\n",
      "\u001b[34m#metrics {\"StartTime\": 1617998488.455893, \"EndTime\": 1617998488.4559097, \"Dimensions\": {\"Algorithm\": \"Linear Learner\", \"Host\": \"algo-1\", \"Operation\": \"training\", \"epoch\": 0, \"model\": 3}, \"Metrics\": {\"train_absolute_loss_objective\": {\"sum\": 0.2879562338193258, \"count\": 1, \"min\": 0.2879562338193258, \"max\": 0.2879562338193258}}}\n",
      "\u001b[0m\n",
      "\u001b[34m#metrics {\"StartTime\": 1617998488.455962, \"EndTime\": 1617998488.455977, \"Dimensions\": {\"Algorithm\": \"Linear Learner\", \"Host\": \"algo-1\", \"Operation\": \"training\", \"epoch\": 0, \"model\": 4}, \"Metrics\": {\"train_absolute_loss_objective\": {\"sum\": 0.6594135681788127, \"count\": 1, \"min\": 0.6594135681788127, \"max\": 0.6594135681788127}}}\n",
      "\u001b[0m\n",
      "\u001b[34m#metrics {\"StartTime\": 1617998488.4560277, \"EndTime\": 1617998488.4560437, \"Dimensions\": {\"Algorithm\": \"Linear Learner\", \"Host\": \"algo-1\", \"Operation\": \"training\", \"epoch\": 0, \"model\": 5}, \"Metrics\": {\"train_absolute_loss_objective\": {\"sum\": 0.6834510604540507, \"count\": 1, \"min\": 0.6834510604540507, \"max\": 0.6834510604540507}}}\n",
      "\u001b[0m\n",
      "\u001b[34m#metrics {\"StartTime\": 1617998488.4561362, \"EndTime\": 1617998488.4561565, \"Dimensions\": {\"Algorithm\": \"Linear Learner\", \"Host\": \"algo-1\", \"Operation\": \"training\", \"epoch\": 0, \"model\": 6}, \"Metrics\": {\"train_absolute_loss_objective\": {\"sum\": 0.6671637972195943, \"count\": 1, \"min\": 0.6671637972195943, \"max\": 0.6671637972195943}}}\n",
      "\u001b[0m\n",
      "\u001b[34m#metrics {\"StartTime\": 1617998488.456222, \"EndTime\": 1617998488.4562395, \"Dimensions\": {\"Algorithm\": \"Linear Learner\", \"Host\": \"algo-1\", \"Operation\": \"training\", \"epoch\": 0, \"model\": 7}, \"Metrics\": {\"train_absolute_loss_objective\": {\"sum\": 0.6691847821076711, \"count\": 1, \"min\": 0.6691847821076711, \"max\": 0.6691847821076711}}}\n",
      "\u001b[0m\n",
      "\u001b[34m#metrics {\"StartTime\": 1617998488.456288, \"EndTime\": 1617998488.4563031, \"Dimensions\": {\"Algorithm\": \"Linear Learner\", \"Host\": \"algo-1\", \"Operation\": \"training\", \"epoch\": 0, \"model\": 8}, \"Metrics\": {\"train_absolute_loss_objective\": {\"sum\": 0.30985172986984255, \"count\": 1, \"min\": 0.30985172986984255, \"max\": 0.30985172986984255}}}\n",
      "\u001b[0m\n",
      "\u001b[34m#metrics {\"StartTime\": 1617998488.4563532, \"EndTime\": 1617998488.456369, \"Dimensions\": {\"Algorithm\": \"Linear Learner\", \"Host\": \"algo-1\", \"Operation\": \"training\", \"epoch\": 0, \"model\": 9}, \"Metrics\": {\"train_absolute_loss_objective\": {\"sum\": 0.2875244458516439, \"count\": 1, \"min\": 0.2875244458516439, \"max\": 0.2875244458516439}}}\n",
      "\u001b[0m\n",
      "\u001b[34m[04/09/2021 20:01:28 INFO 140452992677696] #quality_metric: host=algo-1, epoch=0, train absolute_loss_objective <loss>=0.2807646969954173\u001b[0m\n",
      "\u001b[34m[04/09/2021 20:01:28 INFO 140452992677696] #early_stopping_criteria_metric: host=algo-1, epoch=0, criteria=absolute_loss_objective, value=0.2807646969954173\u001b[0m\n",
      "\u001b[34m[04/09/2021 20:01:28 INFO 140452992677696] Epoch 0: Loss improved. Updating best model\u001b[0m\n",
      "\u001b[34m[04/09/2021 20:01:28 INFO 140452992677696] Saving model for epoch: 0\u001b[0m\n",
      "\u001b[34m[04/09/2021 20:01:28 INFO 140452992677696] Saved checkpoint to \"/tmp/tmp8pvhuyy7/mx-mod-0000.params\"\u001b[0m\n",
      "\u001b[34m[04/09/2021 20:01:28 INFO 140452992677696] #progress_metric: host=algo-1, completed 20.0 % of epochs\u001b[0m\n",
      "\u001b[34m#metrics {\"StartTime\": 1617998488.384203, \"EndTime\": 1617998488.4714587, \"Dimensions\": {\"Algorithm\": \"Linear Learner\", \"Host\": \"algo-1\", \"Operation\": \"training\", \"epoch\": 0, \"Meta\": \"training_data_iter\"}, \"Metrics\": {\"Total Records Seen\": {\"sum\": 260.0, \"count\": 1, \"min\": 260, \"max\": 260}, \"Total Batches Seen\": {\"sum\": 13.0, \"count\": 1, \"min\": 13, \"max\": 13}, \"Max Records Seen Between Resets\": {\"sum\": 120.0, \"count\": 1, \"min\": 120, \"max\": 120}, \"Max Batches Seen Between Resets\": {\"sum\": 6.0, \"count\": 1, \"min\": 6, \"max\": 6}, \"Reset Count\": {\"sum\": 3.0, \"count\": 1, \"min\": 3, \"max\": 3}, \"Number of Records Since Last Reset\": {\"sum\": 120.0, \"count\": 1, \"min\": 120, \"max\": 120}, \"Number of Batches Since Last Reset\": {\"sum\": 6.0, \"count\": 1, \"min\": 6, \"max\": 6}}}\n",
      "\u001b[0m\n",
      "\u001b[34m[04/09/2021 20:01:28 INFO 140452992677696] #throughput_metric: host=algo-1, train throughput=1373.2231080262577 records/second\u001b[0m\n",
      "\u001b[34m[2021-04-09 20:01:28.517] [tensorio] [info] epoch_stats={\"data_pipeline\": \"/opt/ml/input/data/train\", \"epoch\": 6, \"duration\": 45, \"num_examples\": 6, \"num_bytes\": 8160}\u001b[0m\n",
      "\u001b[34m#metrics {\"StartTime\": 1617998488.5171926, \"EndTime\": 1617998488.5172455, \"Dimensions\": {\"Algorithm\": \"Linear Learner\", \"Host\": \"algo-1\", \"Operation\": \"training\", \"epoch\": 1, \"model\": 0}, \"Metrics\": {\"train_absolute_loss_objective\": {\"sum\": 0.2598830262819926, \"count\": 1, \"min\": 0.2598830262819926, \"max\": 0.2598830262819926}}}\n",
      "\u001b[0m\n",
      "\u001b[34m#metrics {\"StartTime\": 1617998488.5173278, \"EndTime\": 1617998488.5173476, \"Dimensions\": {\"Algorithm\": \"Linear Learner\", \"Host\": \"algo-1\", \"Operation\": \"training\", \"epoch\": 1, \"model\": 1}, \"Metrics\": {\"train_absolute_loss_objective\": {\"sum\": 0.27346512079238894, \"count\": 1, \"min\": 0.27346512079238894, \"max\": 0.27346512079238894}}}\n",
      "\u001b[0m\n",
      "\u001b[34m#metrics {\"StartTime\": 1617998488.5174084, \"EndTime\": 1617998488.5174248, \"Dimensions\": {\"Algorithm\": \"Linear Learner\", \"Host\": \"algo-1\", \"Operation\": \"training\", \"epoch\": 1, \"model\": 2}, \"Metrics\": {\"train_absolute_loss_objective\": {\"sum\": 0.26769832173983255, \"count\": 1, \"min\": 0.26769832173983255, \"max\": 0.26769832173983255}}}\n",
      "\u001b[0m\n",
      "\u001b[34m#metrics {\"StartTime\": 1617998488.5174837, \"EndTime\": 1617998488.517501, \"Dimensions\": {\"Algorithm\": \"Linear Learner\", \"Host\": \"algo-1\", \"Operation\": \"training\", \"epoch\": 1, \"model\": 3}, \"Metrics\": {\"train_absolute_loss_objective\": {\"sum\": 0.26671769221623737, \"count\": 1, \"min\": 0.26671769221623737, \"max\": 0.26671769221623737}}}\n",
      "\u001b[0m\n",
      "\u001b[34m#metrics {\"StartTime\": 1617998488.5175495, \"EndTime\": 1617998488.5175655, \"Dimensions\": {\"Algorithm\": \"Linear Learner\", \"Host\": \"algo-1\", \"Operation\": \"training\", \"epoch\": 1, \"model\": 4}, \"Metrics\": {\"train_absolute_loss_objective\": {\"sum\": 0.5540644725163778, \"count\": 1, \"min\": 0.5540644725163778, \"max\": 0.5540644725163778}}}\n",
      "\u001b[0m\n",
      "\u001b[34m#metrics {\"StartTime\": 1617998488.51761, \"EndTime\": 1617998488.5176253, \"Dimensions\": {\"Algorithm\": \"Linear Learner\", \"Host\": \"algo-1\", \"Operation\": \"training\", \"epoch\": 1, \"model\": 5}, \"Metrics\": {\"train_absolute_loss_objective\": {\"sum\": 0.5653599222501119, \"count\": 1, \"min\": 0.5653599222501119, \"max\": 0.5653599222501119}}}\n",
      "\u001b[0m\n",
      "\u001b[34m#metrics {\"StartTime\": 1617998488.5176818, \"EndTime\": 1617998488.5176983, \"Dimensions\": {\"Algorithm\": \"Linear Learner\", \"Host\": \"algo-1\", \"Operation\": \"training\", \"epoch\": 1, \"model\": 6}, \"Metrics\": {\"train_absolute_loss_objective\": {\"sum\": 0.6033675988515218, \"count\": 1, \"min\": 0.6033675988515218, \"max\": 0.6033675988515218}}}\n",
      "\u001b[0m\n",
      "\u001b[34m#metrics {\"StartTime\": 1617998488.5177453, \"EndTime\": 1617998488.5177605, \"Dimensions\": {\"Algorithm\": \"Linear Learner\", \"Host\": \"algo-1\", \"Operation\": \"training\", \"epoch\": 1, \"model\": 7}, \"Metrics\": {\"train_absolute_loss_objective\": {\"sum\": 0.5575043121973674, \"count\": 1, \"min\": 0.5575043121973674, \"max\": 0.5575043121973674}}}\n",
      "\u001b[0m\n",
      "\u001b[34m#metrics {\"StartTime\": 1617998488.5178092, \"EndTime\": 1617998488.5178254, \"Dimensions\": {\"Algorithm\": \"Linear Learner\", \"Host\": \"algo-1\", \"Operation\": \"training\", \"epoch\": 1, \"model\": 8}, \"Metrics\": {\"train_absolute_loss_objective\": {\"sum\": 0.2714526573816935, \"count\": 1, \"min\": 0.2714526573816935, \"max\": 0.2714526573816935}}}\n",
      "\u001b[0m\n",
      "\u001b[34m#metrics {\"StartTime\": 1617998488.517869, \"EndTime\": 1617998488.5178847, \"Dimensions\": {\"Algorithm\": \"Linear Learner\", \"Host\": \"algo-1\", \"Operation\": \"training\", \"epoch\": 1, \"model\": 9}, \"Metrics\": {\"train_absolute_loss_objective\": {\"sum\": 0.26114113132158917, \"count\": 1, \"min\": 0.26114113132158917, \"max\": 0.26114113132158917}}}\n",
      "\u001b[0m\n",
      "\u001b[34m[04/09/2021 20:01:28 INFO 140452992677696] #quality_metric: host=algo-1, epoch=1, train absolute_loss_objective <loss>=0.2598830262819926\u001b[0m\n",
      "\u001b[34m[04/09/2021 20:01:28 INFO 140452992677696] #early_stopping_criteria_metric: host=algo-1, epoch=1, criteria=absolute_loss_objective, value=0.2598830262819926\u001b[0m\n",
      "\u001b[34m[04/09/2021 20:01:28 INFO 140452992677696] Epoch 1: Loss improved. Updating best model\u001b[0m\n",
      "\u001b[34m[04/09/2021 20:01:28 INFO 140452992677696] Saving model for epoch: 1\u001b[0m\n",
      "\u001b[34m[04/09/2021 20:01:28 INFO 140452992677696] Saved checkpoint to \"/tmp/tmpl117xqgo/mx-mod-0000.params\"\u001b[0m\n",
      "\u001b[34m[04/09/2021 20:01:28 INFO 140452992677696] #progress_metric: host=algo-1, completed 40.0 % of epochs\u001b[0m\n",
      "\u001b[34m#metrics {\"StartTime\": 1617998488.471759, \"EndTime\": 1617998488.5275533, \"Dimensions\": {\"Algorithm\": \"Linear Learner\", \"Host\": \"algo-1\", \"Operation\": \"training\", \"epoch\": 1, \"Meta\": \"training_data_iter\"}, \"Metrics\": {\"Total Records Seen\": {\"sum\": 380.0, \"count\": 1, \"min\": 380, \"max\": 380}, \"Total Batches Seen\": {\"sum\": 19.0, \"count\": 1, \"min\": 19, \"max\": 19}, \"Max Records Seen Between Resets\": {\"sum\": 120.0, \"count\": 1, \"min\": 120, \"max\": 120}, \"Max Batches Seen Between Resets\": {\"sum\": 6.0, \"count\": 1, \"min\": 6, \"max\": 6}, \"Reset Count\": {\"sum\": 4.0, \"count\": 1, \"min\": 4, \"max\": 4}, \"Number of Records Since Last Reset\": {\"sum\": 120.0, \"count\": 1, \"min\": 120, \"max\": 120}, \"Number of Batches Since Last Reset\": {\"sum\": 6.0, \"count\": 1, \"min\": 6, \"max\": 6}}}\n",
      "\u001b[0m\n",
      "\u001b[34m[04/09/2021 20:01:28 INFO 140452992677696] #throughput_metric: host=algo-1, train throughput=2145.725869367814 records/second\u001b[0m\n",
      "\u001b[34m[2021-04-09 20:01:28.580] [tensorio] [info] epoch_stats={\"data_pipeline\": \"/opt/ml/input/data/train\", \"epoch\": 8, \"duration\": 52, \"num_examples\": 6, \"num_bytes\": 8160}\u001b[0m\n",
      "\u001b[34m#metrics {\"StartTime\": 1617998488.5804467, \"EndTime\": 1617998488.5804956, \"Dimensions\": {\"Algorithm\": \"Linear Learner\", \"Host\": \"algo-1\", \"Operation\": \"training\", \"epoch\": 2, \"model\": 0}, \"Metrics\": {\"train_absolute_loss_objective\": {\"sum\": 0.25574805835882825, \"count\": 1, \"min\": 0.25574805835882825, \"max\": 0.25574805835882825}}}\n",
      "\u001b[0m\n",
      "\u001b[34m#metrics {\"StartTime\": 1617998488.5805764, \"EndTime\": 1617998488.5805936, \"Dimensions\": {\"Algorithm\": \"Linear Learner\", \"Host\": \"algo-1\", \"Operation\": \"training\", \"epoch\": 2, \"model\": 1}, \"Metrics\": {\"train_absolute_loss_objective\": {\"sum\": 0.2546396454175313, \"count\": 1, \"min\": 0.2546396454175313, \"max\": 0.2546396454175313}}}\n",
      "\u001b[0m\n",
      "\u001b[34m#metrics {\"StartTime\": 1617998488.5806415, \"EndTime\": 1617998488.5806594, \"Dimensions\": {\"Algorithm\": \"Linear Learner\", \"Host\": \"algo-1\", \"Operation\": \"training\", \"epoch\": 2, \"model\": 2}, \"Metrics\": {\"train_absolute_loss_objective\": {\"sum\": 0.25606642464796703, \"count\": 1, \"min\": 0.25606642464796703, \"max\": 0.25606642464796703}}}\n",
      "\u001b[0m\n",
      "\u001b[34m#metrics {\"StartTime\": 1617998488.5807424, \"EndTime\": 1617998488.5807605, \"Dimensions\": {\"Algorithm\": \"Linear Learner\", \"Host\": \"algo-1\", \"Operation\": \"training\", \"epoch\": 2, \"model\": 3}, \"Metrics\": {\"train_absolute_loss_objective\": {\"sum\": 0.2560805966456731, \"count\": 1, \"min\": 0.2560805966456731, \"max\": 0.2560805966456731}}}\n",
      "\u001b[0m\n",
      "\u001b[34m#metrics {\"StartTime\": 1617998488.580816, \"EndTime\": 1617998488.5808332, \"Dimensions\": {\"Algorithm\": \"Linear Learner\", \"Host\": \"algo-1\", \"Operation\": \"training\", \"epoch\": 2, \"model\": 4}, \"Metrics\": {\"train_absolute_loss_objective\": {\"sum\": 0.4873486320177714, \"count\": 1, \"min\": 0.4873486320177714, \"max\": 0.4873486320177714}}}\n",
      "\u001b[0m\n",
      "\u001b[34m#metrics {\"StartTime\": 1617998488.5808856, \"EndTime\": 1617998488.580902, \"Dimensions\": {\"Algorithm\": \"Linear Learner\", \"Host\": \"algo-1\", \"Operation\": \"training\", \"epoch\": 2, \"model\": 5}, \"Metrics\": {\"train_absolute_loss_objective\": {\"sum\": 0.3818151533603668, \"count\": 1, \"min\": 0.3818151533603668, \"max\": 0.3818151533603668}}}\n",
      "\u001b[0m\n",
      "\u001b[34m#metrics {\"StartTime\": 1617998488.5809548, \"EndTime\": 1617998488.5809712, \"Dimensions\": {\"Algorithm\": \"Linear Learner\", \"Host\": \"algo-1\", \"Operation\": \"training\", \"epoch\": 2, \"model\": 6}, \"Metrics\": {\"train_absolute_loss_objective\": {\"sum\": 0.46601043542226156, \"count\": 1, \"min\": 0.46601043542226156, \"max\": 0.46601043542226156}}}\n",
      "\u001b[0m\n",
      "\u001b[34m#metrics {\"StartTime\": 1617998488.5810227, \"EndTime\": 1617998488.5810385, \"Dimensions\": {\"Algorithm\": \"Linear Learner\", \"Host\": \"algo-1\", \"Operation\": \"training\", \"epoch\": 2, \"model\": 7}, \"Metrics\": {\"train_absolute_loss_objective\": {\"sum\": 0.4961814840634664, \"count\": 1, \"min\": 0.4961814840634664, \"max\": 0.4961814840634664}}}\n",
      "\u001b[0m\n",
      "\u001b[34m#metrics {\"StartTime\": 1617998488.58109, \"EndTime\": 1617998488.581107, \"Dimensions\": {\"Algorithm\": \"Linear Learner\", \"Host\": \"algo-1\", \"Operation\": \"training\", \"epoch\": 2, \"model\": 8}, \"Metrics\": {\"train_absolute_loss_objective\": {\"sum\": 0.2598723034063975, \"count\": 1, \"min\": 0.2598723034063975, \"max\": 0.2598723034063975}}}\n",
      "\u001b[0m\n",
      "\u001b[34m#metrics {\"StartTime\": 1617998488.5811608, \"EndTime\": 1617998488.5811777, \"Dimensions\": {\"Algorithm\": \"Linear Learner\", \"Host\": \"algo-1\", \"Operation\": \"training\", \"epoch\": 2, \"model\": 9}, \"Metrics\": {\"train_absolute_loss_objective\": {\"sum\": 0.2557302792867025, \"count\": 1, \"min\": 0.2557302792867025, \"max\": 0.2557302792867025}}}\n",
      "\u001b[0m\n",
      "\u001b[34m[04/09/2021 20:01:28 INFO 140452992677696] #quality_metric: host=algo-1, epoch=2, train absolute_loss_objective <loss>=0.25574805835882825\u001b[0m\n",
      "\u001b[34m[04/09/2021 20:01:28 INFO 140452992677696] #early_stopping_criteria_metric: host=algo-1, epoch=2, criteria=absolute_loss_objective, value=0.2546396454175313\u001b[0m\n",
      "\u001b[34m[04/09/2021 20:01:28 INFO 140452992677696] Epoch 2: Loss improved. Updating best model\u001b[0m\n",
      "\u001b[34m[04/09/2021 20:01:28 INFO 140452992677696] Saving model for epoch: 2\u001b[0m\n",
      "\u001b[34m[04/09/2021 20:01:28 INFO 140452992677696] Saved checkpoint to \"/tmp/tmp7la4tiqx/mx-mod-0000.params\"\u001b[0m\n",
      "\u001b[34m[04/09/2021 20:01:28 INFO 140452992677696] #progress_metric: host=algo-1, completed 60.0 % of epochs\u001b[0m\n",
      "\u001b[34m#metrics {\"StartTime\": 1617998488.5278254, \"EndTime\": 1617998488.5914147, \"Dimensions\": {\"Algorithm\": \"Linear Learner\", \"Host\": \"algo-1\", \"Operation\": \"training\", \"epoch\": 2, \"Meta\": \"training_data_iter\"}, \"Metrics\": {\"Total Records Seen\": {\"sum\": 500.0, \"count\": 1, \"min\": 500, \"max\": 500}, \"Total Batches Seen\": {\"sum\": 25.0, \"count\": 1, \"min\": 25, \"max\": 25}, \"Max Records Seen Between Resets\": {\"sum\": 120.0, \"count\": 1, \"min\": 120, \"max\": 120}, \"Max Batches Seen Between Resets\": {\"sum\": 6.0, \"count\": 1, \"min\": 6, \"max\": 6}, \"Reset Count\": {\"sum\": 5.0, \"count\": 1, \"min\": 5, \"max\": 5}, \"Number of Records Since Last Reset\": {\"sum\": 120.0, \"count\": 1, \"min\": 120, \"max\": 120}, \"Number of Batches Since Last Reset\": {\"sum\": 6.0, \"count\": 1, \"min\": 6, \"max\": 6}}}\n",
      "\u001b[0m\n",
      "\u001b[34m[04/09/2021 20:01:28 INFO 140452992677696] #throughput_metric: host=algo-1, train throughput=1883.3381852742968 records/second\u001b[0m\n",
      "\u001b[34m[2021-04-09 20:01:28.638] [tensorio] [info] epoch_stats={\"data_pipeline\": \"/opt/ml/input/data/train\", \"epoch\": 10, \"duration\": 47, \"num_examples\": 6, \"num_bytes\": 8160}\u001b[0m\n",
      "\u001b[34m#metrics {\"StartTime\": 1617998488.6388905, \"EndTime\": 1617998488.6389327, \"Dimensions\": {\"Algorithm\": \"Linear Learner\", \"Host\": \"algo-1\", \"Operation\": \"training\", \"epoch\": 3, \"model\": 0}, \"Metrics\": {\"train_absolute_loss_objective\": {\"sum\": 0.25230435927708944, \"count\": 1, \"min\": 0.25230435927708944, \"max\": 0.25230435927708944}}}\n",
      "\u001b[0m\n",
      "\u001b[34m#metrics {\"StartTime\": 1617998488.638996, \"EndTime\": 1617998488.639009, \"Dimensions\": {\"Algorithm\": \"Linear Learner\", \"Host\": \"algo-1\", \"Operation\": \"training\", \"epoch\": 3, \"model\": 1}, \"Metrics\": {\"train_absolute_loss_objective\": {\"sum\": 0.25355022847652436, \"count\": 1, \"min\": 0.25355022847652436, \"max\": 0.25355022847652436}}}\n",
      "\u001b[0m\n",
      "\u001b[34m#metrics {\"StartTime\": 1617998488.6390877, \"EndTime\": 1617998488.6391032, \"Dimensions\": {\"Algorithm\": \"Linear Learner\", \"Host\": \"algo-1\", \"Operation\": \"training\", \"epoch\": 3, \"model\": 2}, \"Metrics\": {\"train_absolute_loss_objective\": {\"sum\": 0.256364772717158, \"count\": 1, \"min\": 0.256364772717158, \"max\": 0.256364772717158}}}\n",
      "\u001b[0m\n",
      "\u001b[34m#metrics {\"StartTime\": 1617998488.6391485, \"EndTime\": 1617998488.6391594, \"Dimensions\": {\"Algorithm\": \"Linear Learner\", \"Host\": \"algo-1\", \"Operation\": \"training\", \"epoch\": 3, \"model\": 3}, \"Metrics\": {\"train_absolute_loss_objective\": {\"sum\": 0.2565439909696579, \"count\": 1, \"min\": 0.2565439909696579, \"max\": 0.2565439909696579}}}\n",
      "\u001b[0m\n",
      "\u001b[34m#metrics {\"StartTime\": 1617998488.6391947, \"EndTime\": 1617998488.6392043, \"Dimensions\": {\"Algorithm\": \"Linear Learner\", \"Host\": \"algo-1\", \"Operation\": \"training\", \"epoch\": 3, \"model\": 4}, \"Metrics\": {\"train_absolute_loss_objective\": {\"sum\": 0.3841891666253408, \"count\": 1, \"min\": 0.3841891666253408, \"max\": 0.3841891666253408}}}\n",
      "\u001b[0m\n",
      "\u001b[34m#metrics {\"StartTime\": 1617998488.639237, \"EndTime\": 1617998488.639246, \"Dimensions\": {\"Algorithm\": \"Linear Learner\", \"Host\": \"algo-1\", \"Operation\": \"training\", \"epoch\": 3, \"model\": 5}, \"Metrics\": {\"train_absolute_loss_objective\": {\"sum\": 0.3737439791361491, \"count\": 1, \"min\": 0.3737439791361491, \"max\": 0.3737439791361491}}}\n",
      "\u001b[0m\n",
      "\u001b[34m#metrics {\"StartTime\": 1617998488.6392782, \"EndTime\": 1617998488.639287, \"Dimensions\": {\"Algorithm\": \"Linear Learner\", \"Host\": \"algo-1\", \"Operation\": \"training\", \"epoch\": 3, \"model\": 6}, \"Metrics\": {\"train_absolute_loss_objective\": {\"sum\": 0.35856894850730897, \"count\": 1, \"min\": 0.35856894850730897, \"max\": 0.35856894850730897}}}\n",
      "\u001b[0m\n",
      "\u001b[34m#metrics {\"StartTime\": 1617998488.6393192, \"EndTime\": 1617998488.6393282, \"Dimensions\": {\"Algorithm\": \"Linear Learner\", \"Host\": \"algo-1\", \"Operation\": \"training\", \"epoch\": 3, \"model\": 7}, \"Metrics\": {\"train_absolute_loss_objective\": {\"sum\": 0.4128671964009603, \"count\": 1, \"min\": 0.4128671964009603, \"max\": 0.4128671964009603}}}\n",
      "\u001b[0m\n",
      "\u001b[34m#metrics {\"StartTime\": 1617998488.6393602, \"EndTime\": 1617998488.6393695, \"Dimensions\": {\"Algorithm\": \"Linear Learner\", \"Host\": \"algo-1\", \"Operation\": \"training\", \"epoch\": 3, \"model\": 8}, \"Metrics\": {\"train_absolute_loss_objective\": {\"sum\": 0.2599599689245224, \"count\": 1, \"min\": 0.2599599689245224, \"max\": 0.2599599689245224}}}\n",
      "\u001b[0m\n",
      "\u001b[34m#metrics {\"StartTime\": 1617998488.6394014, \"EndTime\": 1617998488.6394105, \"Dimensions\": {\"Algorithm\": \"Linear Learner\", \"Host\": \"algo-1\", \"Operation\": \"training\", \"epoch\": 3, \"model\": 9}, \"Metrics\": {\"train_absolute_loss_objective\": {\"sum\": 0.25069018999735515, \"count\": 1, \"min\": 0.25069018999735515, \"max\": 0.25069018999735515}}}\n",
      "\u001b[0m\n",
      "\u001b[34m[04/09/2021 20:01:28 INFO 140452992677696] #quality_metric: host=algo-1, epoch=3, train absolute_loss_objective <loss>=0.25230435927708944\u001b[0m\n",
      "\u001b[34m[04/09/2021 20:01:28 INFO 140452992677696] #early_stopping_criteria_metric: host=algo-1, epoch=3, criteria=absolute_loss_objective, value=0.25069018999735515\u001b[0m\n",
      "\u001b[34m[04/09/2021 20:01:28 INFO 140452992677696] Epoch 3: Loss improved. Updating best model\u001b[0m\n",
      "\u001b[34m[04/09/2021 20:01:28 INFO 140452992677696] Saving model for epoch: 3\u001b[0m\n",
      "\u001b[34m[04/09/2021 20:01:28 INFO 140452992677696] Saved checkpoint to \"/tmp/tmpujx29u4u/mx-mod-0000.params\"\u001b[0m\n",
      "\u001b[34m[04/09/2021 20:01:28 INFO 140452992677696] #progress_metric: host=algo-1, completed 80.0 % of epochs\u001b[0m\n",
      "\u001b[34m#metrics {\"StartTime\": 1617998488.591705, \"EndTime\": 1617998488.6475127, \"Dimensions\": {\"Algorithm\": \"Linear Learner\", \"Host\": \"algo-1\", \"Operation\": \"training\", \"epoch\": 3, \"Meta\": \"training_data_iter\"}, \"Metrics\": {\"Total Records Seen\": {\"sum\": 620.0, \"count\": 1, \"min\": 620, \"max\": 620}, \"Total Batches Seen\": {\"sum\": 31.0, \"count\": 1, \"min\": 31, \"max\": 31}, \"Max Records Seen Between Resets\": {\"sum\": 120.0, \"count\": 1, \"min\": 120, \"max\": 120}, \"Max Batches Seen Between Resets\": {\"sum\": 6.0, \"count\": 1, \"min\": 6, \"max\": 6}, \"Reset Count\": {\"sum\": 6.0, \"count\": 1, \"min\": 6, \"max\": 6}, \"Number of Records Since Last Reset\": {\"sum\": 120.0, \"count\": 1, \"min\": 120, \"max\": 120}, \"Number of Batches Since Last Reset\": {\"sum\": 6.0, \"count\": 1, \"min\": 6, \"max\": 6}}}\n",
      "\u001b[0m\n",
      "\u001b[34m[04/09/2021 20:01:28 INFO 140452992677696] #throughput_metric: host=algo-1, train throughput=2145.131439871799 records/second\u001b[0m\n",
      "\u001b[34m[2021-04-09 20:01:28.702] [tensorio] [info] epoch_stats={\"data_pipeline\": \"/opt/ml/input/data/train\", \"epoch\": 12, \"duration\": 54, \"num_examples\": 6, \"num_bytes\": 8160}\u001b[0m\n",
      "\u001b[34m#metrics {\"StartTime\": 1617998488.7026377, \"EndTime\": 1617998488.7026913, \"Dimensions\": {\"Algorithm\": \"Linear Learner\", \"Host\": \"algo-1\", \"Operation\": \"training\", \"epoch\": 4, \"model\": 0}, \"Metrics\": {\"train_absolute_loss_objective\": {\"sum\": 0.2513586550951004, \"count\": 1, \"min\": 0.2513586550951004, \"max\": 0.2513586550951004}}}\n",
      "\u001b[0m\n",
      "\u001b[34m#metrics {\"StartTime\": 1617998488.7027745, \"EndTime\": 1617998488.7027917, \"Dimensions\": {\"Algorithm\": \"Linear Learner\", \"Host\": \"algo-1\", \"Operation\": \"training\", \"epoch\": 4, \"model\": 1}, \"Metrics\": {\"train_absolute_loss_objective\": {\"sum\": 0.25172971487045287, \"count\": 1, \"min\": 0.25172971487045287, \"max\": 0.25172971487045287}}}\n",
      "\u001b[0m\n",
      "\u001b[34m#metrics {\"StartTime\": 1617998488.7029843, \"EndTime\": 1617998488.7030046, \"Dimensions\": {\"Algorithm\": \"Linear Learner\", \"Host\": \"algo-1\", \"Operation\": \"training\", \"epoch\": 4, \"model\": 2}, \"Metrics\": {\"train_absolute_loss_objective\": {\"sum\": 0.2520303984483083, \"count\": 1, \"min\": 0.2520303984483083, \"max\": 0.2520303984483083}}}\n",
      "\u001b[0m\n",
      "\u001b[34m#metrics {\"StartTime\": 1617998488.7030585, \"EndTime\": 1617998488.7031345, \"Dimensions\": {\"Algorithm\": \"Linear Learner\", \"Host\": \"algo-1\", \"Operation\": \"training\", \"epoch\": 4, \"model\": 3}, \"Metrics\": {\"train_absolute_loss_objective\": {\"sum\": 0.25107448597749077, \"count\": 1, \"min\": 0.25107448597749077, \"max\": 0.25107448597749077}}}\n",
      "\u001b[0m\n",
      "\u001b[34m#metrics {\"StartTime\": 1617998488.7032695, \"EndTime\": 1617998488.7032878, \"Dimensions\": {\"Algorithm\": \"Linear Learner\", \"Host\": \"algo-1\", \"Operation\": \"training\", \"epoch\": 4, \"model\": 4}, \"Metrics\": {\"train_absolute_loss_objective\": {\"sum\": 0.3477631092071533, \"count\": 1, \"min\": 0.3477631092071533, \"max\": 0.3477631092071533}}}\n",
      "\u001b[0m\n",
      "\u001b[34m#metrics {\"StartTime\": 1617998488.703339, \"EndTime\": 1617998488.7034106, \"Dimensions\": {\"Algorithm\": \"Linear Learner\", \"Host\": \"algo-1\", \"Operation\": \"training\", \"epoch\": 4, \"model\": 5}, \"Metrics\": {\"train_absolute_loss_objective\": {\"sum\": 0.3077363093694051, \"count\": 1, \"min\": 0.3077363093694051, \"max\": 0.3077363093694051}}}\n",
      "\u001b[0m\n",
      "\u001b[34m#metrics {\"StartTime\": 1617998488.703601, \"EndTime\": 1617998488.703621, \"Dimensions\": {\"Algorithm\": \"Linear Learner\", \"Host\": \"algo-1\", \"Operation\": \"training\", \"epoch\": 4, \"model\": 6}, \"Metrics\": {\"train_absolute_loss_objective\": {\"sum\": 0.36081383228302, \"count\": 1, \"min\": 0.36081383228302, \"max\": 0.36081383228302}}}\n",
      "\u001b[0m\n",
      "\u001b[34m#metrics {\"StartTime\": 1617998488.7036743, \"EndTime\": 1617998488.7037525, \"Dimensions\": {\"Algorithm\": \"Linear Learner\", \"Host\": \"algo-1\", \"Operation\": \"training\", \"epoch\": 4, \"model\": 7}, \"Metrics\": {\"train_absolute_loss_objective\": {\"sum\": 0.33946195046106975, \"count\": 1, \"min\": 0.33946195046106975, \"max\": 0.33946195046106975}}}\n",
      "\u001b[0m\n",
      "\u001b[34m#metrics {\"StartTime\": 1617998488.7038748, \"EndTime\": 1617998488.7038937, \"Dimensions\": {\"Algorithm\": \"Linear Learner\", \"Host\": \"algo-1\", \"Operation\": \"training\", \"epoch\": 4, \"model\": 8}, \"Metrics\": {\"train_absolute_loss_objective\": {\"sum\": 0.25484530727068583, \"count\": 1, \"min\": 0.25484530727068583, \"max\": 0.25484530727068583}}}\n",
      "\u001b[0m\n",
      "\u001b[34m#metrics {\"StartTime\": 1617998488.7039473, \"EndTime\": 1617998488.704022, \"Dimensions\": {\"Algorithm\": \"Linear Learner\", \"Host\": \"algo-1\", \"Operation\": \"training\", \"epoch\": 4, \"model\": 9}, \"Metrics\": {\"train_absolute_loss_objective\": {\"sum\": 0.24788573980331421, \"count\": 1, \"min\": 0.24788573980331421, \"max\": 0.24788573980331421}}}\n",
      "\u001b[0m\n",
      "\u001b[34m[04/09/2021 20:01:28 INFO 140452992677696] #quality_metric: host=algo-1, epoch=4, train absolute_loss_objective <loss>=0.2513586550951004\u001b[0m\n",
      "\u001b[34m[04/09/2021 20:01:28 INFO 140452992677696] #early_stopping_criteria_metric: host=algo-1, epoch=4, criteria=absolute_loss_objective, value=0.24788573980331421\u001b[0m\n",
      "\u001b[34m[04/09/2021 20:01:28 INFO 140452992677696] Epoch 4: Loss improved. Updating best model\u001b[0m\n",
      "\u001b[34m[04/09/2021 20:01:28 INFO 140452992677696] Saving model for epoch: 4\u001b[0m\n",
      "\u001b[34m[04/09/2021 20:01:28 INFO 140452992677696] Saved checkpoint to \"/tmp/tmpj13s8d8b/mx-mod-0000.params\"\u001b[0m\n",
      "\u001b[34m[04/09/2021 20:01:28 INFO 140452992677696] #progress_metric: host=algo-1, completed 100.0 % of epochs\u001b[0m\n",
      "\u001b[34m#metrics {\"StartTime\": 1617998488.6477852, \"EndTime\": 1617998488.714778, \"Dimensions\": {\"Algorithm\": \"Linear Learner\", \"Host\": \"algo-1\", \"Operation\": \"training\", \"epoch\": 4, \"Meta\": \"training_data_iter\"}, \"Metrics\": {\"Total Records Seen\": {\"sum\": 740.0, \"count\": 1, \"min\": 740, \"max\": 740}, \"Total Batches Seen\": {\"sum\": 37.0, \"count\": 1, \"min\": 37, \"max\": 37}, \"Max Records Seen Between Resets\": {\"sum\": 120.0, \"count\": 1, \"min\": 120, \"max\": 120}, \"Max Batches Seen Between Resets\": {\"sum\": 6.0, \"count\": 1, \"min\": 6, \"max\": 6}, \"Reset Count\": {\"sum\": 7.0, \"count\": 1, \"min\": 7, \"max\": 7}, \"Number of Records Since Last Reset\": {\"sum\": 120.0, \"count\": 1, \"min\": 120, \"max\": 120}, \"Number of Batches Since Last Reset\": {\"sum\": 6.0, \"count\": 1, \"min\": 6, \"max\": 6}}}\n",
      "\u001b[0m\n",
      "\u001b[34m[04/09/2021 20:01:28 INFO 140452992677696] #throughput_metric: host=algo-1, train throughput=1786.2544184659937 records/second\u001b[0m\n",
      "\u001b[34m[04/09/2021 20:01:28 WARNING 140452992677696] wait_for_all_workers will not sync workers since the kv store is not running distributed\u001b[0m\n",
      "\u001b[34m[04/09/2021 20:01:28 WARNING 140452992677696] wait_for_all_workers will not sync workers since the kv store is not running distributed\u001b[0m\n",
      "\u001b[34m[2021-04-09 20:01:28.716] [tensorio] [info] epoch_stats={\"data_pipeline\": \"/opt/ml/input/data/train\", \"epoch\": 14, \"duration\": 0, \"num_examples\": 1, \"num_bytes\": 1360}\u001b[0m\n",
      "\u001b[34m[2021-04-09 20:01:28.728] [tensorio] [info] epoch_stats={\"data_pipeline\": \"/opt/ml/input/data/train\", \"epoch\": 16, \"duration\": 9, \"num_examples\": 6, \"num_bytes\": 8160}\u001b[0m\n",
      "\u001b[34m[04/09/2021 20:01:28 INFO 140452992677696] #train_score (algo-1) : ('absolute_loss_objective', 34.730384318033856)\u001b[0m\n",
      "\u001b[34m[04/09/2021 20:01:28 INFO 140452992677696] #train_score (algo-1) : ('mse', 16510.674096679686)\u001b[0m\n",
      "\u001b[34m[04/09/2021 20:01:28 INFO 140452992677696] #train_score (algo-1) : ('absolute_loss', 34.730384318033856)\u001b[0m\n",
      "\u001b[34m[04/09/2021 20:01:28 INFO 140452992677696] #quality_metric: host=algo-1, train absolute_loss_objective <loss>=34.730384318033856\u001b[0m\n",
      "\u001b[34m[04/09/2021 20:01:28 INFO 140452992677696] #quality_metric: host=algo-1, train mse <loss>=16510.674096679686\u001b[0m\n",
      "\u001b[34m[04/09/2021 20:01:28 INFO 140452992677696] #quality_metric: host=algo-1, train absolute_loss <loss>=34.730384318033856\u001b[0m\n",
      "\u001b[34m[04/09/2021 20:01:28 INFO 140452992677696] Best model found for hyperparameters: {\"optimizer\": \"adam\", \"learning_rate\": 0.005, \"wd\": 0.01, \"l1\": 0.0, \"lr_scheduler_step\": 100, \"lr_scheduler_factor\": 0.99, \"lr_scheduler_minimum_lr\": 1e-05}\u001b[0m\n",
      "\u001b[34m[04/09/2021 20:01:28 INFO 140452992677696] Saved checkpoint to \"/tmp/tmpdoo773u8/mx-mod-0000.params\"\u001b[0m\n",
      "\u001b[34m[04/09/2021 20:01:28 INFO 140452992677696] Test data is not provided.\u001b[0m\n",
      "\u001b[34m#metrics {\"StartTime\": 1617998488.245661, \"EndTime\": 1617998488.7332437, \"Dimensions\": {\"Algorithm\": \"Linear Learner\", \"Host\": \"algo-1\", \"Operation\": \"training\"}, \"Metrics\": {\"initialize.time\": {\"sum\": 137.4058723449707, \"count\": 1, \"min\": 137.4058723449707, \"max\": 137.4058723449707}, \"epochs\": {\"sum\": 5.0, \"count\": 1, \"min\": 5, \"max\": 5}, \"check_early_stopping.time\": {\"sum\": 6.0253143310546875, \"count\": 5, \"min\": 0.8955001831054688, \"max\": 1.3384819030761719}, \"update.time\": {\"sum\": 304.4908046722412, \"count\": 5, \"min\": 52.49428749084473, \"max\": 77.76069641113281}, \"finalize.time\": {\"sum\": 14.259815216064453, \"count\": 1, \"min\": 14.259815216064453, \"max\": 14.259815216064453}, \"setuptime\": {\"sum\": 24.37758445739746, \"count\": 1, \"min\": 24.37758445739746, \"max\": 24.37758445739746}, \"totaltime\": {\"sum\": 765.3429508209229, \"count\": 1, \"min\": 765.3429508209229, \"max\": 765.3429508209229}}}\n",
      "\u001b[0m\n",
      "\n",
      "2021-04-09 20:01:54 Uploading - Uploading generated training model\n",
      "2021-04-09 20:01:54 Completed - Training job completed\n",
      "Training seconds: 62\n",
      "Billable seconds: 62\n"
     ]
    }
   ],
   "source": [
    "%time\n",
    "mult_linear.fit({'train': s3_train_data})"
   ]
  },
  {
   "cell_type": "markdown",
   "id": "a5c72d77",
   "metadata": {},
   "source": [
    "# **6. Deploy do Modelo e Criação de Endpoint**\n",
    "\n",
    "Para que seja possível realizar inferências utilizando o modelo treinado se faz necessário o seu deploy."
   ]
  },
  {
   "cell_type": "markdown",
   "id": "d6c8ee8d",
   "metadata": {},
   "source": [
    "Realizando o deploy do modelo de regressão linear múltipla\n",
    "\n",
    "A implantação é realizada em uma instância da `Amazon EC2`, os parâmetros do método deploy() são as configurações da Amazon EC2."
   ]
  },
  {
   "cell_type": "code",
   "execution_count": 44,
   "id": "8b39099c",
   "metadata": {},
   "outputs": [
    {
     "name": "stdout",
     "output_type": "stream",
     "text": [
      "--------------!"
     ]
    }
   ],
   "source": [
    "mult_linear_regressor = mult_linear.deploy(initial_instance_count = 1,\n",
    "                                            instance_type = 'ml.m4.xlarge')"
   ]
  },
  {
   "cell_type": "markdown",
   "id": "622087fc",
   "metadata": {},
   "source": [
    "Observe que serializamos nosso modelo para garantir que possamos processar nossos resultados e compará-los com os resultados reais do teste `y`. Depois que seu endpoint tiver sido criado com sucesso, você deverá ver uma mensagem de exclamação e um endpoint aparecerá quando você verificar Endpoints ativos no serviço SageMaker."
   ]
  },
  {
   "cell_type": "code",
   "execution_count": 45,
   "id": "d68f9fe4",
   "metadata": {},
   "outputs": [],
   "source": [
    "mult_linear_regressor.serializer = csv_serializer\n",
    "mult_linear_regressor.deserializer = json_deserializer"
   ]
  },
  {
   "cell_type": "markdown",
   "id": "baaea204",
   "metadata": {},
   "source": [
    "Verificando o nome do endpoint criado após a implantação do modelo treinado."
   ]
  },
  {
   "cell_type": "code",
   "execution_count": 46,
   "id": "adea564a",
   "metadata": {},
   "outputs": [
    {
     "data": {
      "text/plain": [
       "'linear-learner-2021-04-09-20-02-46-335'"
      ]
     },
     "execution_count": 46,
     "metadata": {},
     "output_type": "execute_result"
    }
   ],
   "source": [
    "mult_linear_regressor.endpoint_name"
   ]
  },
  {
   "cell_type": "markdown",
   "id": "c16cd7d5",
   "metadata": {},
   "source": [
    "# **7. Avaliação do Modelo**\n",
    "\n",
    "A seguir será apresentada uma breve explicação das métricas utilizadas para a avaliação do modelo.\n",
    "\n",
    "**MAE** (_Mean Absolute Error_):\n",
    "* O MAE, ou Erro Absoluto Médio é a métrica mais simples de se entender. Essa métrica consiste em calcular o residual de cada ponto, onde valores residuais negativos e positivos não se anulam. Após esse agrupamento, calculamos então a média desses ‘residuais’.\n",
    "\n",
    "**MSE** (_Mean Squared Error_):\n",
    "* Em estatística, o erro quadrático médio (MSE) de um estimador (de um procedimento para estimar uma quantidade não observada) mede a média dos quadrados dos erros - ou seja, a diferença quadrática média entre os valores estimados e o que é estimado. MSE é uma função de risco, correspondendo ao valor esperado da perda de erro quadrada\n",
    "\n",
    "**RMSE** (_Root Mean Squared Error_):\n",
    "* O desvio médio quadrático ou erro quadrático médio é uma medida freqüentemente usada das diferenças entre os valores previstos por um modelo ou estimador e os valores observados. É aplicado a raiz quadrada no resultado da MSE.\n",
    "\n",
    "**R2 Square**:\n",
    "* R-quadrado (R2) é uma medida estatística que representa a proporção da variância para uma variável dependente que é explicada por uma variável independente ou variáveis ​​em um modelo de regressão."
   ]
  },
  {
   "cell_type": "markdown",
   "id": "7a6129ef",
   "metadata": {},
   "source": [
    "Funções para avaliar o modelo treinado"
   ]
  },
  {
   "cell_type": "code",
   "execution_count": 47,
   "id": "337fc820",
   "metadata": {},
   "outputs": [],
   "source": [
    "def print_evaluate(true, predicted):  \n",
    "    mae = metrics.mean_absolute_error(true, predicted)\n",
    "    mse = metrics.mean_squared_error(true, predicted)\n",
    "    rmse = np.sqrt(metrics.mean_squared_error(true, predicted))\n",
    "    r2_square = metrics.r2_score(true, predicted)\n",
    "    print('MAE:', mae)\n",
    "    print('MSE:', mse)\n",
    "    print('RMSE:', rmse)\n",
    "    print('R2 Square', r2_square)\n",
    "    \n",
    "def evaluate(true, predicted):\n",
    "    mae = metrics.mean_absolute_error(true, predicted)\n",
    "    mse = metrics.mean_squared_error(true, predicted)\n",
    "    rmse = np.sqrt(metrics.mean_squared_error(true, predicted))\n",
    "    r2_square = metrics.r2_score(true, predicted)\n",
    "    return mae, mse, rmse, r2_square"
   ]
  },
  {
   "cell_type": "markdown",
   "id": "7a66452f",
   "metadata": {},
   "source": [
    "### **7.1. Avaliação Regressão Linear (Múltipla)**\n",
    "\n",
    "Realizando a inferência dos dados de testes."
   ]
  },
  {
   "cell_type": "code",
   "execution_count": 48,
   "id": "5633a08b",
   "metadata": {},
   "outputs": [
    {
     "name": "stderr",
     "output_type": "stream",
     "text": [
      "The csv_serializer has been renamed in sagemaker>=2.\n",
      "See: https://sagemaker.readthedocs.io/en/stable/v2.html for details.\n",
      "The json_deserializer has been renamed in sagemaker>=2.\n",
      "See: https://sagemaker.readthedocs.io/en/stable/v2.html for details.\n"
     ]
    }
   ],
   "source": [
    "pred_test = mult_linear_regressor.predict(X_test)"
   ]
  },
  {
   "cell_type": "code",
   "execution_count": 49,
   "id": "3d500148",
   "metadata": {},
   "outputs": [
    {
     "data": {
      "text/plain": [
       "{'predictions': [{'score': 54.730712890625},\n",
       "  {'score': 48.421142578125},\n",
       "  {'score': 74.343505859375},\n",
       "  {'score': 81.30902099609375},\n",
       "  {'score': 68.1656494140625},\n",
       "  {'score': 65.45947265625},\n",
       "  {'score': 69.2232666015625},\n",
       "  {'score': 75.79443359375},\n",
       "  {'score': 59.7406005859375},\n",
       "  {'score': 51.2060546875},\n",
       "  {'score': 53.97509765625},\n",
       "  {'score': 55.0848388671875},\n",
       "  {'score': 48.58056640625},\n",
       "  {'score': 67.8798828125},\n",
       "  {'score': 46.7137451171875},\n",
       "  {'score': 37.33319091796875},\n",
       "  {'score': 84.22064208984375},\n",
       "  {'score': 40.4141845703125},\n",
       "  {'score': 81.782470703125},\n",
       "  {'score': 96.43865966796875},\n",
       "  {'score': 52.0802001953125},\n",
       "  {'score': 36.41876220703125},\n",
       "  {'score': 69.2139892578125},\n",
       "  {'score': 53.062255859375},\n",
       "  {'score': 62.3785400390625},\n",
       "  {'score': 51.99761962890625},\n",
       "  {'score': 102.39630126953125},\n",
       "  {'score': 76.8203125},\n",
       "  {'score': 113.43072509765625},\n",
       "  {'score': 50.4619140625},\n",
       "  {'score': 92.3333740234375}]}"
      ]
     },
     "execution_count": 49,
     "metadata": {},
     "output_type": "execute_result"
    }
   ],
   "source": [
    "pred_test"
   ]
  },
  {
   "cell_type": "code",
   "execution_count": 50,
   "id": "c976e91d",
   "metadata": {},
   "outputs": [
    {
     "data": {
      "text/plain": [
       "array([ 54.73071289,  48.42114258,  74.34350586,  81.309021  ,\n",
       "        68.16564941,  65.45947266,  69.2232666 ,  75.79443359,\n",
       "        59.74060059,  51.20605469,  53.97509766,  55.08483887,\n",
       "        48.58056641,  67.87988281,  46.71374512,  37.33319092,\n",
       "        84.22064209,  40.41418457,  81.7824707 ,  96.43865967,\n",
       "        52.0802002 ,  36.41876221,  69.21398926,  53.06225586,\n",
       "        62.37854004,  51.99761963, 102.39630127,  76.8203125 ,\n",
       "       113.4307251 ,  50.46191406,  92.33337402])"
      ]
     },
     "execution_count": 50,
     "metadata": {},
     "output_type": "execute_result"
    }
   ],
   "source": [
    "# Iterando o result json para um NP Array para todas as inferências e para comparar com y_test\n",
    "predictions_test = np.array([res['score'] for res in pred_test['predictions']])\n",
    "predictions_test # np_array"
   ]
  },
  {
   "cell_type": "code",
   "execution_count": 51,
   "id": "7cdb0d7e",
   "metadata": {},
   "outputs": [
    {
     "name": "stdout",
     "output_type": "stream",
     "text": [
      "Avaliação da base de teste:\n",
      "_____________________________________\n",
      "MAE: 40.33667779737903\n",
      "MSE: 3712.1450577282135\n",
      "RMSE: 60.927375273584644\n",
      "R2 Square -0.14555392065110695\n"
     ]
    }
   ],
   "source": [
    "print('Avaliação da base de teste:\\n_____________________________________')\n",
    "print_evaluate(y_test, predictions_test)"
   ]
  },
  {
   "cell_type": "code",
   "execution_count": 52,
   "id": "7b700e68",
   "metadata": {},
   "outputs": [
    {
     "data": {
      "text/html": [
       "<div>\n",
       "<style scoped>\n",
       "    .dataframe tbody tr th:only-of-type {\n",
       "        vertical-align: middle;\n",
       "    }\n",
       "\n",
       "    .dataframe tbody tr th {\n",
       "        vertical-align: top;\n",
       "    }\n",
       "\n",
       "    .dataframe thead th {\n",
       "        text-align: right;\n",
       "    }\n",
       "</style>\n",
       "<table border=\"1\" class=\"dataframe\">\n",
       "  <thead>\n",
       "    <tr style=\"text-align: right;\">\n",
       "      <th></th>\n",
       "      <th>Model</th>\n",
       "      <th>MAE</th>\n",
       "      <th>MSE</th>\n",
       "      <th>RMSE</th>\n",
       "      <th>R2 Square</th>\n",
       "    </tr>\n",
       "  </thead>\n",
       "  <tbody>\n",
       "    <tr>\n",
       "      <th>0</th>\n",
       "      <td>Linear Learner (Mútipla)</td>\n",
       "      <td>40.336678</td>\n",
       "      <td>3712.145058</td>\n",
       "      <td>60.927375</td>\n",
       "      <td>-0.145554</td>\n",
       "    </tr>\n",
       "  </tbody>\n",
       "</table>\n",
       "</div>"
      ],
      "text/plain": [
       "                      Model        MAE          MSE       RMSE  R2 Square\n",
       "0  Linear Learner (Mútipla)  40.336678  3712.145058  60.927375  -0.145554"
      ]
     },
     "execution_count": 52,
     "metadata": {},
     "output_type": "execute_result"
    }
   ],
   "source": [
    "results_df = pd.DataFrame(data=[[\"Linear Learner (Mútipla)\", *evaluate(y_test, predictions_test)]], \n",
    "                          columns=['Model', 'MAE', 'MSE', 'RMSE', 'R2 Square'])\n",
    "\n",
    "results_df"
   ]
  },
  {
   "cell_type": "code",
   "execution_count": 54,
   "id": "b0b20c4e",
   "metadata": {},
   "outputs": [
    {
     "name": "stderr",
     "output_type": "stream",
     "text": [
      "/home/ec2-user/anaconda3/envs/python3/lib/python3.6/site-packages/seaborn/distributions.py:2557: FutureWarning: `distplot` is a deprecated function and will be removed in a future version. Please adapt your code to use either `displot` (a figure-level function with similar flexibility) or `histplot` (an axes-level function for histograms).\n",
      "  warnings.warn(msg, FutureWarning)\n"
     ]
    },
    {
     "data": {
      "image/png": "[encoded data removed]",
      "text/plain": [
       "<Figure size 432x288 with 1 Axes>"
      ]
     },
     "metadata": {},
     "output_type": "display_data"
    }
   ],
   "source": [
    "# Analisando os resíduos do modelo linear-learner do sagemaker\n",
    "sns.distplot((y_test - predictions_test), bins=50);"
   ]
  },
  {
   "cell_type": "markdown",
   "id": "09628bcc",
   "metadata": {},
   "source": [
    "É uma prática comum examinar os resíduos de problemas de regressão Um resíduo de uma observação nos dados de avaliação é a diferença entre o destino verdadeiro e o previsto. Os resíduos representam a parte do destino que o modelo não consegue prever. Um resíduo positivo indica que o modelo subestima o destino (o destino real é maior do que o previsto)."
   ]
  },
  {
   "cell_type": "markdown",
   "id": "753705ac",
   "metadata": {},
   "source": [
    "# **8. Excluindo Endpoint**\n",
    "\n",
    "Exclua o endpoint ao final do uso para evitar cobranças"
   ]
  },
  {
   "cell_type": "code",
   "execution_count": null,
   "id": "f24620f7",
   "metadata": {},
   "outputs": [],
   "source": [
    "sagemaker.Session().delete_endpoint(linear_regressor.endpoint_name)\n",
    "print(f\"deleted {multi_linear_regressor.endpoint_name} successfully!\")"
   ]
  },
  {
   "cell_type": "markdown",
   "id": "e7105a83",
   "metadata": {},
   "source": [
    "É importante salientar que a pouca quantidade de amostras impacta consideravelmente no resultado do modelo.\n",
    "\n",
    "E também existem modelos mais sofisticados para realizar o treinamento. Todavia, o objetivo aqui foi capturar os dados da AWS e realizar o treinamento local."
   ]
  },
  {
   "cell_type": "markdown",
   "id": "9a05a20a",
   "metadata": {},
   "source": [
    "# **9. Conclusão**"
   ]
  },
  {
   "cell_type": "markdown",
   "id": "3bb063cb",
   "metadata": {},
   "source": [
    "Observando o resultado do DataFrame acima do modelo `linear-learner` do SageMaker e os resultados dos modelos de Regressão Linear (Múltipla e Simples) que treinamos localmente (**notebook: model-ml-platform.ipynb**) podemos observar que o modelo do SageMaker obteve melhores resultados.\n",
    "\n",
    "Pois como foi explicado anteriormente, quanto menor os valores das métricas `MAE`, `MSE` e `RMSE` melhor é o modelo, enquanto que o valor da métrica `R2` foi superior, o que também indica melhores resultados.\n",
    "\n",
    "É importante salientar que a pouca quantidade de amostras impacta consideravelmente no resultado do modelo.\n",
    "\n",
    "Observação: Existem modelos mais sofisticados para realizar o treinamento. Todavia, o objetivo aqui foi capturar os dados da AWS, integrar o modelo treinado na arquitetura existente e fazer o seu uso posterior."
   ]
  },
  {
   "cell_type": "markdown",
   "id": "f3071420",
   "metadata": {},
   "source": [
    "# **Referências**\n",
    "\n",
    "https://medium.com/@douglasheberteempty/ml-m%C3%A9tricas-de-regress%C3%A3o-20c1ed73c7e7\n",
    "\n",
    "https://www.freecodecamp.org/news/machine-learning-mean-squared-error-regression-line-c7dde9a26b93/\n",
    "\n",
    "https://www.investopedia.com/terms/r/r-squared.asp\n",
    "\n",
    "https://docs.aws.amazon.com/pt_br/machine-learning/latest/dg/regression.html"
   ]
  }
 ],
 "metadata": {
  "kernelspec": {
   "display_name": "Python 3",
   "language": "python",
   "name": "python3"
  },
  "language_info": {
   "codemirror_mode": {
    "name": "ipython",
    "version": 3
   },
   "file_extension": ".py",
   "mimetype": "text/x-python",
   "name": "python",
   "nbconvert_exporter": "python",
   "pygments_lexer": "ipython3",
   "version": "3.6.13"
  }
 },
 "nbformat": 4,
 "nbformat_minor": 5
}
