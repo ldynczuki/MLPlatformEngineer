{
 "cells": [
  {
   "cell_type": "markdown",
   "id": "dying-status",
   "metadata": {},
   "source": [
    "# **1. Importação das bibliotecas requeridas**"
   ]
  },
  {
   "cell_type": "code",
   "execution_count": 1,
   "id": "coral-nursery",
   "metadata": {},
   "outputs": [],
   "source": [
    "# é preciso converter o dataset para RecordIO format para o Linear Learner entender\n",
    "import io \n",
    "\n",
    "import pandas as pd\n",
    "import numpy as np\n",
    "import os\n",
    "from sklearn import metrics\n",
    "from sklearn.model_selection import train_test_split\n",
    "from sklearn.model_selection import cross_val_score\n",
    "\n",
    "# Bibliotecas aws/sagemaker\n",
    "import boto3\n",
    "import sagemaker\n",
    "import sagemaker.amazon.common as smac\n",
    "from sagemaker.amazon.amazon_estimator import image_uris\n",
    "from sagemaker.predictor import csv_serializer, json_deserializer\n",
    "from sagemaker.amazon.amazon_estimator import get_image_uri\n",
    "\n",
    "import seaborn as sns\n",
    "import matplotlib.pyplot as plt\n",
    "%matplotlib inline\n",
    "\n",
    "sns.set_style(\"whitegrid\")\n",
    "plt.style.use(\"fivethirtyeight\")"
   ]
  },
  {
   "cell_type": "markdown",
   "id": "restricted-pathology",
   "metadata": {},
   "source": [
    "# **2. Carregando dados da AWS**"
   ]
  },
  {
   "cell_type": "markdown",
   "id": "convinced-compilation",
   "metadata": {},
   "source": [
    "### **Buscando objetos no Glue Catalog**"
   ]
  },
  {
   "cell_type": "code",
   "execution_count": 2,
   "id": "affected-wilderness",
   "metadata": {},
   "outputs": [
    {
     "data": {
      "text/plain": [
       "{'DatabaseList': [{'Name': 'database_platform',\n",
       "   'CreateTime': datetime.datetime(2021, 4, 6, 11, 7, 50, tzinfo=tzlocal()),\n",
       "   'CreateTableDefaultPermissions': [{'Principal': {'DataLakePrincipalIdentifier': 'IAM_ALLOWED_PRINCIPALS'},\n",
       "     'Permissions': ['ALL']}],\n",
       "   'CatalogId': '793574898187'},\n",
       "  {'Name': 'sampledb',\n",
       "   'Description': 'Sample database',\n",
       "   'Parameters': {'CreatedBy': 'Athena', 'EXTERNAL': 'TRUE'},\n",
       "   'CreateTime': datetime.datetime(2021, 4, 6, 11, 30, 13, tzinfo=tzlocal()),\n",
       "   'CreateTableDefaultPermissions': [{'Principal': {'DataLakePrincipalIdentifier': 'IAM_ALLOWED_PRINCIPALS'},\n",
       "     'Permissions': ['ALL']}],\n",
       "   'CatalogId': '793574898187'}],\n",
       " 'ResponseMetadata': {'RequestId': '1c9317ef-f160-47fd-8c1d-e03415ba9dc3',\n",
       "  'HTTPStatusCode': 200,\n",
       "  'HTTPHeaders': {'date': 'Wed, 07 Apr 2021 12:13:53 GMT',\n",
       "   'content-type': 'application/x-amz-json-1.1',\n",
       "   'content-length': '578',\n",
       "   'connection': 'keep-alive',\n",
       "   'x-amzn-requestid': '1c9317ef-f160-47fd-8c1d-e03415ba9dc3'},\n",
       "  'RetryAttempts': 0}}"
      ]
     },
     "execution_count": 2,
     "metadata": {},
     "output_type": "execute_result"
    }
   ],
   "source": [
    "glue_client = boto3.client('glue')\n",
    "\n",
    "database_list = glue_client.get_databases()\n",
    "database_list"
   ]
  },
  {
   "cell_type": "code",
   "execution_count": 3,
   "id": "obvious-macedonia",
   "metadata": {},
   "outputs": [],
   "source": [
    "database_name_platform = 'database_platform'\n",
    "\n",
    "for i in range(len(database_list['DatabaseList'])):\n",
    "    if database_list['DatabaseList'][i]['Name'] == database_name_platform:\n",
    "        database_glue = database_list['DatabaseList'][i]"
   ]
  },
  {
   "cell_type": "code",
   "execution_count": 4,
   "id": "weekly-salon",
   "metadata": {},
   "outputs": [
    {
     "data": {
      "text/plain": [
       "{'Name': 'database_platform',\n",
       " 'CreateTime': datetime.datetime(2021, 4, 6, 11, 7, 50, tzinfo=tzlocal()),\n",
       " 'CreateTableDefaultPermissions': [{'Principal': {'DataLakePrincipalIdentifier': 'IAM_ALLOWED_PRINCIPALS'},\n",
       "   'Permissions': ['ALL']}],\n",
       " 'CatalogId': '793574898187'}"
      ]
     },
     "execution_count": 4,
     "metadata": {},
     "output_type": "execute_result"
    }
   ],
   "source": [
    "database_glue"
   ]
  },
  {
   "cell_type": "code",
   "execution_count": 5,
   "id": "assumed-tactics",
   "metadata": {},
   "outputs": [
    {
     "data": {
      "text/plain": [
       "{'TableList': [{'Name': 'cleaned',\n",
       "   'DatabaseName': 'database_platform',\n",
       "   'CreateTime': datetime.datetime(2021, 4, 6, 11, 7, 52, tzinfo=tzlocal()),\n",
       "   'UpdateTime': datetime.datetime(2021, 4, 6, 11, 7, 52, tzinfo=tzlocal()),\n",
       "   'Retention': 0,\n",
       "   'StorageDescriptor': {'Columns': [{'Name': 'id',\n",
       "      'Type': 'string',\n",
       "      'Comment': '',\n",
       "      'Parameters': {}},\n",
       "     {'Name': 'name', 'Type': 'string', 'Comment': '', 'Parameters': {}},\n",
       "     {'Name': 'abv', 'Type': 'string', 'Comment': '', 'Parameters': {}},\n",
       "     {'Name': 'ibu', 'Type': 'string', 'Comment': '', 'Parameters': {}},\n",
       "     {'Name': 'target_fg', 'Type': 'string', 'Comment': '', 'Parameters': {}},\n",
       "     {'Name': 'target_og', 'Type': 'string', 'Comment': '', 'Parameters': {}},\n",
       "     {'Name': 'ebc', 'Type': 'string', 'Comment': '', 'Parameters': {}},\n",
       "     {'Name': 'srm', 'Type': 'string', 'Comment': '', 'Parameters': {}},\n",
       "     {'Name': 'ph', 'Type': 'string', 'Comment': '', 'Parameters': {}}],\n",
       "    'Location': 's3://cleaned-bucket-platform/processing-sucess',\n",
       "    'InputFormat': 'org.apache.hadoop.mapred.TextInputFormat',\n",
       "    'OutputFormat': 'org.apache.hadoop.hive.ql.io.HiveIgnoreKeyTextOutputFormat',\n",
       "    'Compressed': False,\n",
       "    'NumberOfBuckets': 0,\n",
       "    'SerdeInfo': {'Name': 'ser_platform',\n",
       "     'SerializationLibrary': 'org.apache.hadoop.hive.serde2.OpenCSVSerde',\n",
       "     'Parameters': {'serialization.format': '1'}},\n",
       "    'BucketColumns': [],\n",
       "    'SortColumns': [],\n",
       "    'Parameters': {},\n",
       "    'StoredAsSubDirectories': False},\n",
       "   'PartitionKeys': [],\n",
       "   'TableType': 'EXTERNAL_TABLE',\n",
       "   'Parameters': {'EXTERNAL': 'TRUE',\n",
       "    'classification': 'csv',\n",
       "    'parquet.compression': 'UNCOMPRESSED'},\n",
       "   'CreatedBy': 'arn:aws:iam::793574898187:root',\n",
       "   'IsRegisteredWithLakeFormation': False,\n",
       "   'CatalogId': '793574898187'}],\n",
       " 'ResponseMetadata': {'RequestId': '4cf9ae56-3c3c-46fd-b53c-3f7cf3519fde',\n",
       "  'HTTPStatusCode': 200,\n",
       "  'HTTPHeaders': {'date': 'Wed, 07 Apr 2021 12:13:53 GMT',\n",
       "   'content-type': 'application/x-amz-json-1.1',\n",
       "   'content-length': '1464',\n",
       "   'connection': 'keep-alive',\n",
       "   'x-amzn-requestid': '4cf9ae56-3c3c-46fd-b53c-3f7cf3519fde'},\n",
       "  'RetryAttempts': 0}}"
      ]
     },
     "execution_count": 5,
     "metadata": {},
     "output_type": "execute_result"
    }
   ],
   "source": [
    "table_list = glue_client.get_tables(CatalogId=database_glue['CatalogId'],\n",
    "                                    DatabaseName=database_glue['Name']\n",
    ")\n",
    "\n",
    "table_list"
   ]
  },
  {
   "cell_type": "code",
   "execution_count": 6,
   "id": "eight-dryer",
   "metadata": {},
   "outputs": [
    {
     "data": {
      "text/plain": [
       "{'Name': 'cleaned',\n",
       " 'DatabaseName': 'database_platform',\n",
       " 'CreateTime': datetime.datetime(2021, 4, 6, 11, 7, 52, tzinfo=tzlocal()),\n",
       " 'UpdateTime': datetime.datetime(2021, 4, 6, 11, 7, 52, tzinfo=tzlocal()),\n",
       " 'Retention': 0,\n",
       " 'StorageDescriptor': {'Columns': [{'Name': 'id',\n",
       "    'Type': 'string',\n",
       "    'Comment': '',\n",
       "    'Parameters': {}},\n",
       "   {'Name': 'name', 'Type': 'string', 'Comment': '', 'Parameters': {}},\n",
       "   {'Name': 'abv', 'Type': 'string', 'Comment': '', 'Parameters': {}},\n",
       "   {'Name': 'ibu', 'Type': 'string', 'Comment': '', 'Parameters': {}},\n",
       "   {'Name': 'target_fg', 'Type': 'string', 'Comment': '', 'Parameters': {}},\n",
       "   {'Name': 'target_og', 'Type': 'string', 'Comment': '', 'Parameters': {}},\n",
       "   {'Name': 'ebc', 'Type': 'string', 'Comment': '', 'Parameters': {}},\n",
       "   {'Name': 'srm', 'Type': 'string', 'Comment': '', 'Parameters': {}},\n",
       "   {'Name': 'ph', 'Type': 'string', 'Comment': '', 'Parameters': {}}],\n",
       "  'Location': 's3://cleaned-bucket-platform/processing-sucess',\n",
       "  'InputFormat': 'org.apache.hadoop.mapred.TextInputFormat',\n",
       "  'OutputFormat': 'org.apache.hadoop.hive.ql.io.HiveIgnoreKeyTextOutputFormat',\n",
       "  'Compressed': False,\n",
       "  'NumberOfBuckets': 0,\n",
       "  'SerdeInfo': {'Name': 'ser_platform',\n",
       "   'SerializationLibrary': 'org.apache.hadoop.hive.serde2.OpenCSVSerde',\n",
       "   'Parameters': {'serialization.format': '1'}},\n",
       "  'BucketColumns': [],\n",
       "  'SortColumns': [],\n",
       "  'Parameters': {},\n",
       "  'StoredAsSubDirectories': False},\n",
       " 'PartitionKeys': [],\n",
       " 'TableType': 'EXTERNAL_TABLE',\n",
       " 'Parameters': {'EXTERNAL': 'TRUE',\n",
       "  'classification': 'csv',\n",
       "  'parquet.compression': 'UNCOMPRESSED'},\n",
       " 'CreatedBy': 'arn:aws:iam::793574898187:root',\n",
       " 'IsRegisteredWithLakeFormation': False,\n",
       " 'CatalogId': '793574898187'}"
      ]
     },
     "execution_count": 6,
     "metadata": {},
     "output_type": "execute_result"
    }
   ],
   "source": [
    "table_name = 'cleaned'\n",
    "\n",
    "for i in range(len(table_list['TableList'])):\n",
    "    if table_list['TableList'][i]['Name'] == table_name:\n",
    "        table_glue_cleaned = table_list['TableList'][i]\n",
    "\n",
    "table_glue_cleaned"
   ]
  },
  {
   "cell_type": "code",
   "execution_count": 7,
   "id": "inside-perry",
   "metadata": {},
   "outputs": [
    {
     "data": {
      "text/plain": [
       "'s3://cleaned-bucket-platform/processing-sucess'"
      ]
     },
     "execution_count": 7,
     "metadata": {},
     "output_type": "execute_result"
    }
   ],
   "source": [
    "s3_location_table = table_glue_cleaned['StorageDescriptor']['Location']\n",
    "s3_location_table"
   ]
  },
  {
   "cell_type": "code",
   "execution_count": 8,
   "id": "south-acting",
   "metadata": {},
   "outputs": [
    {
     "name": "stdout",
     "output_type": "stream",
     "text": [
      "cleaned-bucket-platform\n",
      "processing-sucess\n"
     ]
    }
   ],
   "source": [
    "bucket_name = s3_location_table.split('/')[2]\n",
    "folder_data = s3_location_table.split('/')[3]\n",
    "\n",
    "print(bucket_name)\n",
    "print(folder_data)"
   ]
  },
  {
   "cell_type": "markdown",
   "id": "massive-coordination",
   "metadata": {},
   "source": [
    "### **Capturando dados do bucket S3**\n",
    "\n",
    "Será feito uma busca por dados que estão no diretório \"bucket_name/processing-sucess\"."
   ]
  },
  {
   "cell_type": "code",
   "execution_count": 9,
   "id": "historical-shell",
   "metadata": {},
   "outputs": [],
   "source": [
    "s3_client = boto3.client('s3')"
   ]
  },
  {
   "cell_type": "code",
   "execution_count": 10,
   "id": "exotic-ferry",
   "metadata": {},
   "outputs": [
    {
     "name": "stdout",
     "output_type": "stream",
     "text": [
      "188\n"
     ]
    }
   ],
   "source": [
    "# Obtendo uma lista de objetos do bucket\n",
    "obj_list = s3_client.list_objects(Bucket=bucket_name)\n",
    "\n",
    "files=[]\n",
    "for contents in obj_list['Contents']:\n",
    "    if contents['Key'].split('/')[0].split('/')[0] == folder_data:\n",
    "        files.append(contents['Key'])\n",
    "    \n",
    "print(len(files))"
   ]
  },
  {
   "cell_type": "code",
   "execution_count": 11,
   "id": "guided-bench",
   "metadata": {},
   "outputs": [
    {
     "name": "stdout",
     "output_type": "stream",
     "text": [
      "processing-sucess/202104061114_clean.csv\n"
     ]
    }
   ],
   "source": [
    "# Visualizar um exemplo do dado\n",
    "file_name=files[0]\n",
    "\n",
    "print(file_name)"
   ]
  },
  {
   "cell_type": "code",
   "execution_count": 12,
   "id": "listed-mitchell",
   "metadata": {},
   "outputs": [
    {
     "data": {
      "text/plain": [
       "{'ResponseMetadata': {'RequestId': 'H1Y5Y1VS706ZRERB',\n",
       "  'HostId': 'CWGkSoqStUkrsx4lAAPAQY0K/Twukz20k7NgYB2KqeyAZiT6Tgqk/LOBR2hcdhbVdGeA3Y7dnOU=',\n",
       "  'HTTPStatusCode': 200,\n",
       "  'HTTPHeaders': {'x-amz-id-2': 'CWGkSoqStUkrsx4lAAPAQY0K/Twukz20k7NgYB2KqeyAZiT6Tgqk/LOBR2hcdhbVdGeA3Y7dnOU=',\n",
       "   'x-amz-request-id': 'H1Y5Y1VS706ZRERB',\n",
       "   'date': 'Wed, 07 Apr 2021 12:14:01 GMT',\n",
       "   'last-modified': 'Tue, 06 Apr 2021 11:14:22 GMT',\n",
       "   'etag': '\"327764b0082a63b8c9cf3a7317bf75e8\"',\n",
       "   'accept-ranges': 'bytes',\n",
       "   'content-type': 'binary/octet-stream',\n",
       "   'content-length': '51',\n",
       "   'server': 'AmazonS3'},\n",
       "  'RetryAttempts': 0},\n",
       " 'AcceptRanges': 'bytes',\n",
       " 'LastModified': datetime.datetime(2021, 4, 6, 11, 14, 22, tzinfo=tzutc()),\n",
       " 'ContentLength': 51,\n",
       " 'ETag': '\"327764b0082a63b8c9cf3a7317bf75e8\"',\n",
       " 'ContentType': 'binary/octet-stream',\n",
       " 'Metadata': {},\n",
       " 'Body': <botocore.response.StreamingBody at 0x7ffb47b732b0>}"
      ]
     },
     "metadata": {},
     "output_type": "display_data"
    }
   ],
   "source": [
    "# captura um objeto do S3 como exemplo para visualizar os metadados \n",
    "data_object = s3_client.get_object(Bucket=bucket_name, Key=file_name)\n",
    "\n",
    "# visualizando o conteúdo do objeto\n",
    "display(data_object)"
   ]
  },
  {
   "cell_type": "code",
   "execution_count": 13,
   "id": "talented-excess",
   "metadata": {},
   "outputs": [
    {
     "name": "stdout",
     "output_type": "stream",
     "text": [
      "Data type:  <class 'bytes'>\n"
     ]
    }
   ],
   "source": [
    "# Verificando o tipo de dados da chave \"Body\" para leitura posterior\n",
    "data_body = data_object[\"Body\"].read()\n",
    "print('Data type: ', type(data_body))"
   ]
  },
  {
   "cell_type": "markdown",
   "id": "adjustable-transsexual",
   "metadata": {},
   "source": [
    "* É do tipo de dado `bytes`, para realizar a leitura devemos utilizar [io.BytesIO(file)](https://docs.python.org/3/library/io.html#binary-i-o)."
   ]
  },
  {
   "cell_type": "code",
   "execution_count": 14,
   "id": "closed-palestine",
   "metadata": {},
   "outputs": [],
   "source": [
    "# Leitura dos dados no formato bytes\n",
    "data_stream = io.BytesIO(data_body)"
   ]
  },
  {
   "cell_type": "markdown",
   "id": "english-emphasis",
   "metadata": {},
   "source": [
    "### **Criação do DataFrame com os dados do S3**"
   ]
  },
  {
   "cell_type": "code",
   "execution_count": 15,
   "id": "outside-concord",
   "metadata": {},
   "outputs": [
    {
     "data": {
      "text/html": [
       "<div>\n",
       "<style scoped>\n",
       "    .dataframe tbody tr th:only-of-type {\n",
       "        vertical-align: middle;\n",
       "    }\n",
       "\n",
       "    .dataframe tbody tr th {\n",
       "        vertical-align: top;\n",
       "    }\n",
       "\n",
       "    .dataframe thead th {\n",
       "        text-align: right;\n",
       "    }\n",
       "</style>\n",
       "<table border=\"1\" class=\"dataframe\">\n",
       "  <thead>\n",
       "    <tr style=\"text-align: right;\">\n",
       "      <th></th>\n",
       "      <th>id</th>\n",
       "      <th>name</th>\n",
       "      <th>abv</th>\n",
       "      <th>ibu</th>\n",
       "      <th>target_fg</th>\n",
       "      <th>target_og</th>\n",
       "      <th>ebc</th>\n",
       "      <th>srm</th>\n",
       "      <th>ph</th>\n",
       "    </tr>\n",
       "  </thead>\n",
       "  <tbody>\n",
       "    <tr>\n",
       "      <th>0</th>\n",
       "      <td>100</td>\n",
       "      <td>Elvis Juice V2.0 - Prototype Challenge</td>\n",
       "      <td>6.5</td>\n",
       "      <td>60.0</td>\n",
       "      <td>1010.0</td>\n",
       "      <td>1060.0</td>\n",
       "      <td>25.0</td>\n",
       "      <td>12.5</td>\n",
       "      <td>4.4</td>\n",
       "    </tr>\n",
       "    <tr>\n",
       "      <th>1</th>\n",
       "      <td>186</td>\n",
       "      <td>Jasmine IPA</td>\n",
       "      <td>5.8</td>\n",
       "      <td>40.0</td>\n",
       "      <td>1014.0</td>\n",
       "      <td>1060.0</td>\n",
       "      <td>35.0</td>\n",
       "      <td>17.5</td>\n",
       "      <td>4.4</td>\n",
       "    </tr>\n",
       "    <tr>\n",
       "      <th>2</th>\n",
       "      <td>118</td>\n",
       "      <td>Bounty Hunter - Shareholder Brew</td>\n",
       "      <td>6.5</td>\n",
       "      <td>35.0</td>\n",
       "      <td>1020.0</td>\n",
       "      <td>1068.0</td>\n",
       "      <td>250.0</td>\n",
       "      <td>125.0</td>\n",
       "      <td>4.2</td>\n",
       "    </tr>\n",
       "    <tr>\n",
       "      <th>3</th>\n",
       "      <td>208</td>\n",
       "      <td>Sunshine On Rye - B-Sides</td>\n",
       "      <td>7.2</td>\n",
       "      <td>130.0</td>\n",
       "      <td>1010.0</td>\n",
       "      <td>1065.0</td>\n",
       "      <td>14.0</td>\n",
       "      <td>7.0</td>\n",
       "      <td>5.2</td>\n",
       "    </tr>\n",
       "    <tr>\n",
       "      <th>4</th>\n",
       "      <td>305</td>\n",
       "      <td>Native Son</td>\n",
       "      <td>8.5</td>\n",
       "      <td>70.0</td>\n",
       "      <td>1010.0</td>\n",
       "      <td>1073.0</td>\n",
       "      <td>18.0</td>\n",
       "      <td>9.0</td>\n",
       "      <td>4.6</td>\n",
       "    </tr>\n",
       "  </tbody>\n",
       "</table>\n",
       "</div>"
      ],
      "text/plain": [
       "    id                                    name  abv    ibu  target_fg  \\\n",
       "0  100  Elvis Juice V2.0 - Prototype Challenge  6.5   60.0     1010.0   \n",
       "1  186                             Jasmine IPA  5.8   40.0     1014.0   \n",
       "2  118        Bounty Hunter - Shareholder Brew  6.5   35.0     1020.0   \n",
       "3  208               Sunshine On Rye - B-Sides  7.2  130.0     1010.0   \n",
       "4  305                              Native Son  8.5   70.0     1010.0   \n",
       "\n",
       "   target_og    ebc    srm   ph  \n",
       "0     1060.0   25.0   12.5  4.4  \n",
       "1     1060.0   35.0   17.5  4.4  \n",
       "2     1068.0  250.0  125.0  4.2  \n",
       "3     1065.0   14.0    7.0  5.2  \n",
       "4     1073.0   18.0    9.0  4.6  "
      ]
     },
     "execution_count": 15,
     "metadata": {},
     "output_type": "execute_result"
    }
   ],
   "source": [
    "list_columns = ['id', 'name', 'abv', 'ibu', 'target_fg', 'target_og', 'ebc', 'srm', 'ph']\n",
    "\n",
    "# Criando dicionário de chave e tipo para a criação do DataFrame\n",
    "dict_type    = {'id': 'int32', 'name': 'string', 'abv': 'float32', 'ibu': \n",
    "                'float32', 'target_fg': 'float32', 'target_og': 'float32', \n",
    "                'ebc': 'float32', 'srm': 'float32', 'ph': 'float32'}\n",
    "\n",
    "df = pd.DataFrame(columns=list_columns)\n",
    "\n",
    "for file in files:\n",
    "\n",
    "    # obtendo um objeto s3\n",
    "    data_object = s3_client.get_object(Bucket=bucket_name, Key=file)\n",
    "    \n",
    "    # lendo os dados da chave \"Body\"\n",
    "    data_body = data_object[\"Body\"].read()\n",
    "    \n",
    "    # lendo dados em bytes\n",
    "    data_stream = io.BytesIO(data_body)\n",
    "    \n",
    "    counties_df = pd.read_csv(data_stream, names=list_columns, dtype=dict_type, header=None, delimiter=\",\") \n",
    "\n",
    "    df = counties_df.append(df, ignore_index=True)\n",
    "\n",
    "df.head()"
   ]
  },
  {
   "cell_type": "code",
   "execution_count": 16,
   "id": "rational-minute",
   "metadata": {},
   "outputs": [
    {
     "data": {
      "text/plain": [
       "Index(['id', 'name', 'abv', 'ibu', 'target_fg', 'target_og', 'ebc', 'srm',\n",
       "       'ph'],\n",
       "      dtype='object')"
      ]
     },
     "execution_count": 16,
     "metadata": {},
     "output_type": "execute_result"
    }
   ],
   "source": [
    "# Exibindo as colunas do dataframe\n",
    "df.columns"
   ]
  },
  {
   "cell_type": "markdown",
   "id": "whole-democracy",
   "metadata": {},
   "source": [
    "### **Excluindo as colunas não utilizadas para a modelagem**"
   ]
  },
  {
   "cell_type": "code",
   "execution_count": 17,
   "id": "trained-contribution",
   "metadata": {},
   "outputs": [],
   "source": [
    "df.drop(columns=['id', 'name'], axis=1, inplace=True)"
   ]
  },
  {
   "cell_type": "code",
   "execution_count": 18,
   "id": "extraordinary-hampton",
   "metadata": {},
   "outputs": [
    {
     "data": {
      "text/html": [
       "<div>\n",
       "<style scoped>\n",
       "    .dataframe tbody tr th:only-of-type {\n",
       "        vertical-align: middle;\n",
       "    }\n",
       "\n",
       "    .dataframe tbody tr th {\n",
       "        vertical-align: top;\n",
       "    }\n",
       "\n",
       "    .dataframe thead th {\n",
       "        text-align: right;\n",
       "    }\n",
       "</style>\n",
       "<table border=\"1\" class=\"dataframe\">\n",
       "  <thead>\n",
       "    <tr style=\"text-align: right;\">\n",
       "      <th></th>\n",
       "      <th>abv</th>\n",
       "      <th>ibu</th>\n",
       "      <th>target_fg</th>\n",
       "      <th>target_og</th>\n",
       "      <th>ebc</th>\n",
       "      <th>srm</th>\n",
       "      <th>ph</th>\n",
       "    </tr>\n",
       "  </thead>\n",
       "  <tbody>\n",
       "    <tr>\n",
       "      <th>0</th>\n",
       "      <td>6.5</td>\n",
       "      <td>60.0</td>\n",
       "      <td>1010.0</td>\n",
       "      <td>1060.0</td>\n",
       "      <td>25.0</td>\n",
       "      <td>12.5</td>\n",
       "      <td>4.4</td>\n",
       "    </tr>\n",
       "    <tr>\n",
       "      <th>1</th>\n",
       "      <td>5.8</td>\n",
       "      <td>40.0</td>\n",
       "      <td>1014.0</td>\n",
       "      <td>1060.0</td>\n",
       "      <td>35.0</td>\n",
       "      <td>17.5</td>\n",
       "      <td>4.4</td>\n",
       "    </tr>\n",
       "    <tr>\n",
       "      <th>2</th>\n",
       "      <td>6.5</td>\n",
       "      <td>35.0</td>\n",
       "      <td>1020.0</td>\n",
       "      <td>1068.0</td>\n",
       "      <td>250.0</td>\n",
       "      <td>125.0</td>\n",
       "      <td>4.2</td>\n",
       "    </tr>\n",
       "    <tr>\n",
       "      <th>3</th>\n",
       "      <td>7.2</td>\n",
       "      <td>130.0</td>\n",
       "      <td>1010.0</td>\n",
       "      <td>1065.0</td>\n",
       "      <td>14.0</td>\n",
       "      <td>7.0</td>\n",
       "      <td>5.2</td>\n",
       "    </tr>\n",
       "    <tr>\n",
       "      <th>4</th>\n",
       "      <td>8.5</td>\n",
       "      <td>70.0</td>\n",
       "      <td>1010.0</td>\n",
       "      <td>1073.0</td>\n",
       "      <td>18.0</td>\n",
       "      <td>9.0</td>\n",
       "      <td>4.6</td>\n",
       "    </tr>\n",
       "  </tbody>\n",
       "</table>\n",
       "</div>"
      ],
      "text/plain": [
       "   abv    ibu  target_fg  target_og    ebc    srm   ph\n",
       "0  6.5   60.0     1010.0     1060.0   25.0   12.5  4.4\n",
       "1  5.8   40.0     1014.0     1060.0   35.0   17.5  4.4\n",
       "2  6.5   35.0     1020.0     1068.0  250.0  125.0  4.2\n",
       "3  7.2  130.0     1010.0     1065.0   14.0    7.0  5.2\n",
       "4  8.5   70.0     1010.0     1073.0   18.0    9.0  4.6"
      ]
     },
     "execution_count": 18,
     "metadata": {},
     "output_type": "execute_result"
    }
   ],
   "source": [
    "df.head()"
   ]
  },
  {
   "cell_type": "code",
   "execution_count": 19,
   "id": "pregnant-australia",
   "metadata": {},
   "outputs": [
    {
     "data": {
      "text/html": [
       "<div>\n",
       "<style scoped>\n",
       "    .dataframe tbody tr th:only-of-type {\n",
       "        vertical-align: middle;\n",
       "    }\n",
       "\n",
       "    .dataframe tbody tr th {\n",
       "        vertical-align: top;\n",
       "    }\n",
       "\n",
       "    .dataframe thead th {\n",
       "        text-align: right;\n",
       "    }\n",
       "</style>\n",
       "<table border=\"1\" class=\"dataframe\">\n",
       "  <thead>\n",
       "    <tr style=\"text-align: right;\">\n",
       "      <th></th>\n",
       "      <th>abv</th>\n",
       "      <th>ibu</th>\n",
       "      <th>target_fg</th>\n",
       "      <th>target_og</th>\n",
       "      <th>ebc</th>\n",
       "      <th>srm</th>\n",
       "      <th>ph</th>\n",
       "    </tr>\n",
       "  </thead>\n",
       "  <tbody>\n",
       "    <tr>\n",
       "      <th>183</th>\n",
       "      <td>4.5</td>\n",
       "      <td>37.0</td>\n",
       "      <td>1012.0</td>\n",
       "      <td>1047.0</td>\n",
       "      <td>20.0</td>\n",
       "      <td>10.0</td>\n",
       "      <td>4.2</td>\n",
       "    </tr>\n",
       "    <tr>\n",
       "      <th>184</th>\n",
       "      <td>8.2</td>\n",
       "      <td>70.0</td>\n",
       "      <td>1013.0</td>\n",
       "      <td>1076.0</td>\n",
       "      <td>16.0</td>\n",
       "      <td>8.0</td>\n",
       "      <td>4.4</td>\n",
       "    </tr>\n",
       "    <tr>\n",
       "      <th>185</th>\n",
       "      <td>6.7</td>\n",
       "      <td>67.0</td>\n",
       "      <td>1013.0</td>\n",
       "      <td>1064.0</td>\n",
       "      <td>19.0</td>\n",
       "      <td>9.5</td>\n",
       "      <td>4.4</td>\n",
       "    </tr>\n",
       "    <tr>\n",
       "      <th>186</th>\n",
       "      <td>13.2</td>\n",
       "      <td>85.0</td>\n",
       "      <td>1023.0</td>\n",
       "      <td>1125.0</td>\n",
       "      <td>140.0</td>\n",
       "      <td>71.0</td>\n",
       "      <td>4.4</td>\n",
       "    </tr>\n",
       "    <tr>\n",
       "      <th>187</th>\n",
       "      <td>4.4</td>\n",
       "      <td>70.0</td>\n",
       "      <td>1012.0</td>\n",
       "      <td>1045.0</td>\n",
       "      <td>30.0</td>\n",
       "      <td>15.0</td>\n",
       "      <td>4.4</td>\n",
       "    </tr>\n",
       "  </tbody>\n",
       "</table>\n",
       "</div>"
      ],
      "text/plain": [
       "      abv   ibu  target_fg  target_og    ebc   srm   ph\n",
       "183   4.5  37.0     1012.0     1047.0   20.0  10.0  4.2\n",
       "184   8.2  70.0     1013.0     1076.0   16.0   8.0  4.4\n",
       "185   6.7  67.0     1013.0     1064.0   19.0   9.5  4.4\n",
       "186  13.2  85.0     1023.0     1125.0  140.0  71.0  4.4\n",
       "187   4.4  70.0     1012.0     1045.0   30.0  15.0  4.4"
      ]
     },
     "execution_count": 19,
     "metadata": {},
     "output_type": "execute_result"
    }
   ],
   "source": [
    "df.tail()"
   ]
  },
  {
   "cell_type": "markdown",
   "id": "diagnostic-solid",
   "metadata": {},
   "source": [
    "**Excluindo dados duplicados**"
   ]
  },
  {
   "cell_type": "code",
   "execution_count": 20,
   "id": "ancient-hamilton",
   "metadata": {},
   "outputs": [],
   "source": [
    "df.drop_duplicates(inplace=True)"
   ]
  },
  {
   "cell_type": "markdown",
   "id": "recent-mouse",
   "metadata": {},
   "source": [
    "**Verificando se existem dados nulos ou NaN**"
   ]
  },
  {
   "cell_type": "code",
   "execution_count": 21,
   "id": "likely-reservoir",
   "metadata": {},
   "outputs": [
    {
     "data": {
      "text/plain": [
       "abv          0\n",
       "ibu          0\n",
       "target_fg    0\n",
       "target_og    0\n",
       "ebc          1\n",
       "srm          1\n",
       "ph           0\n",
       "dtype: int64"
      ]
     },
     "execution_count": 21,
     "metadata": {},
     "output_type": "execute_result"
    }
   ],
   "source": [
    "df.isnull().sum()"
   ]
  },
  {
   "cell_type": "code",
   "execution_count": 22,
   "id": "aerial-entrepreneur",
   "metadata": {},
   "outputs": [
    {
     "data": {
      "text/plain": [
       "abv          0\n",
       "ibu          0\n",
       "target_fg    0\n",
       "target_og    0\n",
       "ebc          1\n",
       "srm          1\n",
       "ph           0\n",
       "dtype: int64"
      ]
     },
     "execution_count": 22,
     "metadata": {},
     "output_type": "execute_result"
    }
   ],
   "source": [
    "df.isna().sum()"
   ]
  },
  {
   "cell_type": "markdown",
   "id": "global-punishment",
   "metadata": {},
   "source": [
    "**Como existem os mesmos dados nulos e NaN para as mesmas colunas e com a mesma quantidade, vou excluir**"
   ]
  },
  {
   "cell_type": "code",
   "execution_count": 23,
   "id": "usual-minneapolis",
   "metadata": {},
   "outputs": [],
   "source": [
    "df.dropna(inplace=True)"
   ]
  },
  {
   "cell_type": "code",
   "execution_count": 24,
   "id": "incredible-excellence",
   "metadata": {},
   "outputs": [
    {
     "data": {
      "text/plain": [
       "abv          0\n",
       "ibu          0\n",
       "target_fg    0\n",
       "target_og    0\n",
       "ebc          0\n",
       "srm          0\n",
       "ph           0\n",
       "dtype: int64"
      ]
     },
     "execution_count": 24,
     "metadata": {},
     "output_type": "execute_result"
    }
   ],
   "source": [
    "df.isnull().sum()"
   ]
  },
  {
   "cell_type": "code",
   "execution_count": 25,
   "id": "dense-membrane",
   "metadata": {},
   "outputs": [
    {
     "data": {
      "text/plain": [
       "abv          0\n",
       "ibu          0\n",
       "target_fg    0\n",
       "target_og    0\n",
       "ebc          0\n",
       "srm          0\n",
       "ph           0\n",
       "dtype: int64"
      ]
     },
     "execution_count": 25,
     "metadata": {},
     "output_type": "execute_result"
    }
   ],
   "source": [
    "df.isna().sum()"
   ]
  },
  {
   "cell_type": "code",
   "execution_count": 26,
   "id": "impressive-alaska",
   "metadata": {},
   "outputs": [],
   "source": [
    "# reiniciando a contagem dos indexes após a exclusão de dados nulos e/ou ausentes\n",
    "df.reset_index(drop=True, inplace=True)"
   ]
  },
  {
   "cell_type": "code",
   "execution_count": 27,
   "id": "adult-boards",
   "metadata": {},
   "outputs": [
    {
     "name": "stdout",
     "output_type": "stream",
     "text": [
      "<class 'pandas.core.frame.DataFrame'>\n",
      "RangeIndex: 126 entries, 0 to 125\n",
      "Data columns (total 7 columns):\n",
      " #   Column     Non-Null Count  Dtype  \n",
      "---  ------     --------------  -----  \n",
      " 0   abv        126 non-null    float32\n",
      " 1   ibu        126 non-null    float32\n",
      " 2   target_fg  126 non-null    float32\n",
      " 3   target_og  126 non-null    float32\n",
      " 4   ebc        126 non-null    float32\n",
      " 5   srm        126 non-null    float32\n",
      " 6   ph         126 non-null    float32\n",
      "dtypes: float32(7)\n",
      "memory usage: 3.6 KB\n"
     ]
    }
   ],
   "source": [
    "df.info()"
   ]
  },
  {
   "cell_type": "code",
   "execution_count": 28,
   "id": "preceding-grain",
   "metadata": {},
   "outputs": [
    {
     "data": {
      "text/html": [
       "<div>\n",
       "<style scoped>\n",
       "    .dataframe tbody tr th:only-of-type {\n",
       "        vertical-align: middle;\n",
       "    }\n",
       "\n",
       "    .dataframe tbody tr th {\n",
       "        vertical-align: top;\n",
       "    }\n",
       "\n",
       "    .dataframe thead th {\n",
       "        text-align: right;\n",
       "    }\n",
       "</style>\n",
       "<table border=\"1\" class=\"dataframe\">\n",
       "  <thead>\n",
       "    <tr style=\"text-align: right;\">\n",
       "      <th></th>\n",
       "      <th>abv</th>\n",
       "      <th>ibu</th>\n",
       "      <th>target_fg</th>\n",
       "      <th>target_og</th>\n",
       "      <th>ebc</th>\n",
       "      <th>srm</th>\n",
       "      <th>ph</th>\n",
       "    </tr>\n",
       "  </thead>\n",
       "  <tbody>\n",
       "    <tr>\n",
       "      <th>count</th>\n",
       "      <td>126.000000</td>\n",
       "      <td>126.000000</td>\n",
       "      <td>126.000000</td>\n",
       "      <td>126.000000</td>\n",
       "      <td>126.000000</td>\n",
       "      <td>126.000000</td>\n",
       "      <td>126.000000</td>\n",
       "    </tr>\n",
       "    <tr>\n",
       "      <th>mean</th>\n",
       "      <td>7.690478</td>\n",
       "      <td>68.031746</td>\n",
       "      <td>1015.039673</td>\n",
       "      <td>1067.192139</td>\n",
       "      <td>69.699203</td>\n",
       "      <td>35.144608</td>\n",
       "      <td>4.446032</td>\n",
       "    </tr>\n",
       "    <tr>\n",
       "      <th>std</th>\n",
       "      <td>3.965843</td>\n",
       "      <td>107.769676</td>\n",
       "      <td>13.657174</td>\n",
       "      <td>27.675142</td>\n",
       "      <td>97.635040</td>\n",
       "      <td>49.288284</td>\n",
       "      <td>0.357916</td>\n",
       "    </tr>\n",
       "    <tr>\n",
       "      <th>min</th>\n",
       "      <td>2.500000</td>\n",
       "      <td>0.000000</td>\n",
       "      <td>1000.000000</td>\n",
       "      <td>1007.000000</td>\n",
       "      <td>8.000000</td>\n",
       "      <td>4.000000</td>\n",
       "      <td>3.200000</td>\n",
       "    </tr>\n",
       "    <tr>\n",
       "      <th>25%</th>\n",
       "      <td>5.200000</td>\n",
       "      <td>32.750000</td>\n",
       "      <td>1010.000000</td>\n",
       "      <td>1048.000000</td>\n",
       "      <td>15.000000</td>\n",
       "      <td>8.000000</td>\n",
       "      <td>4.400000</td>\n",
       "    </tr>\n",
       "    <tr>\n",
       "      <th>50%</th>\n",
       "      <td>7.150000</td>\n",
       "      <td>50.000000</td>\n",
       "      <td>1011.000000</td>\n",
       "      <td>1065.000000</td>\n",
       "      <td>30.000000</td>\n",
       "      <td>15.000000</td>\n",
       "      <td>4.400000</td>\n",
       "    </tr>\n",
       "    <tr>\n",
       "      <th>75%</th>\n",
       "      <td>8.500000</td>\n",
       "      <td>70.000000</td>\n",
       "      <td>1015.750000</td>\n",
       "      <td>1076.750000</td>\n",
       "      <td>70.750000</td>\n",
       "      <td>35.750000</td>\n",
       "      <td>4.400000</td>\n",
       "    </tr>\n",
       "    <tr>\n",
       "      <th>max</th>\n",
       "      <td>32.000000</td>\n",
       "      <td>1157.000000</td>\n",
       "      <td>1120.000000</td>\n",
       "      <td>1157.000000</td>\n",
       "      <td>600.000000</td>\n",
       "      <td>305.000000</td>\n",
       "      <td>5.300000</td>\n",
       "    </tr>\n",
       "  </tbody>\n",
       "</table>\n",
       "</div>"
      ],
      "text/plain": [
       "              abv          ibu    target_fg    target_og         ebc  \\\n",
       "count  126.000000   126.000000   126.000000   126.000000  126.000000   \n",
       "mean     7.690478    68.031746  1015.039673  1067.192139   69.699203   \n",
       "std      3.965843   107.769676    13.657174    27.675142   97.635040   \n",
       "min      2.500000     0.000000  1000.000000  1007.000000    8.000000   \n",
       "25%      5.200000    32.750000  1010.000000  1048.000000   15.000000   \n",
       "50%      7.150000    50.000000  1011.000000  1065.000000   30.000000   \n",
       "75%      8.500000    70.000000  1015.750000  1076.750000   70.750000   \n",
       "max     32.000000  1157.000000  1120.000000  1157.000000  600.000000   \n",
       "\n",
       "              srm          ph  \n",
       "count  126.000000  126.000000  \n",
       "mean    35.144608    4.446032  \n",
       "std     49.288284    0.357916  \n",
       "min      4.000000    3.200000  \n",
       "25%      8.000000    4.400000  \n",
       "50%     15.000000    4.400000  \n",
       "75%     35.750000    4.400000  \n",
       "max    305.000000    5.300000  "
      ]
     },
     "execution_count": 28,
     "metadata": {},
     "output_type": "execute_result"
    }
   ],
   "source": [
    "df.describe()"
   ]
  },
  {
   "cell_type": "markdown",
   "id": "worthy-transcript",
   "metadata": {},
   "source": [
    "## **3. Análise Exploratória dos Dados (EDA)**"
   ]
  },
  {
   "cell_type": "code",
   "execution_count": 29,
   "id": "large-scenario",
   "metadata": {},
   "outputs": [
    {
     "name": "stderr",
     "output_type": "stream",
     "text": [
      "/home/ec2-user/anaconda3/envs/python3/lib/python3.6/site-packages/seaborn/distributions.py:2557: FutureWarning: `distplot` is a deprecated function and will be removed in a future version. Please adapt your code to use either `displot` (a figure-level function with similar flexibility) or `histplot` (an axes-level function for histograms).\n",
      "  warnings.warn(msg, FutureWarning)\n"
     ]
    },
    {
     "data": {
      "image/png": "[encoded data removed]",
      "text/plain": [
       "<Figure size 432x288 with 1 Axes>"
      ]
     },
     "metadata": {},
     "output_type": "display_data"
    }
   ],
   "source": [
    "sns.distplot(df['ibu']);"
   ]
  },
  {
   "cell_type": "code",
   "execution_count": 30,
   "id": "separate-transsexual",
   "metadata": {},
   "outputs": [
    {
     "data": {
      "image/png": "[encoded data removed]",
      "text/plain": [
       "<Figure size 1260x1260 with 56 Axes>"
      ]
     },
     "metadata": {},
     "output_type": "display_data"
    }
   ],
   "source": [
    "sns.pairplot(df);"
   ]
  },
  {
   "cell_type": "code",
   "execution_count": 31,
   "id": "worth-concern",
   "metadata": {},
   "outputs": [
    {
     "data": {
      "image/png": "[encoded data removed]",
      "text/plain": [
       "<Figure size 432x288 with 2 Axes>"
      ]
     },
     "metadata": {},
     "output_type": "display_data"
    }
   ],
   "source": [
    "# Verificando a correlação dos dados\n",
    "sns.heatmap(df.corr(), annot=True);"
   ]
  },
  {
   "cell_type": "markdown",
   "id": "waiting-doubt",
   "metadata": {},
   "source": [
    "# **4. Pré-processamento dos dados**"
   ]
  },
  {
   "cell_type": "markdown",
   "id": "deluxe-dodge",
   "metadata": {},
   "source": [
    "#### **Selecionando as features e o target para o treinamento do modelo**"
   ]
  },
  {
   "cell_type": "code",
   "execution_count": 32,
   "id": "funny-client",
   "metadata": {},
   "outputs": [],
   "source": [
    "# Selecionando as features\n",
    "features_names = ['abv', 'target_fg', 'target_og', 'ebc', 'srm', 'ph']\n",
    "features = df[features_names]\n",
    "\n",
    "target = df['ibu']"
   ]
  },
  {
   "cell_type": "code",
   "execution_count": 33,
   "id": "focal-glance",
   "metadata": {},
   "outputs": [
    {
     "data": {
      "text/plain": [
       "6"
      ]
     },
     "execution_count": 33,
     "metadata": {},
     "output_type": "execute_result"
    }
   ],
   "source": [
    "len(features_names)"
   ]
  },
  {
   "cell_type": "code",
   "execution_count": 34,
   "id": "minimal-chicago",
   "metadata": {},
   "outputs": [
    {
     "data": {
      "text/html": [
       "<div>\n",
       "<style scoped>\n",
       "    .dataframe tbody tr th:only-of-type {\n",
       "        vertical-align: middle;\n",
       "    }\n",
       "\n",
       "    .dataframe tbody tr th {\n",
       "        vertical-align: top;\n",
       "    }\n",
       "\n",
       "    .dataframe thead th {\n",
       "        text-align: right;\n",
       "    }\n",
       "</style>\n",
       "<table border=\"1\" class=\"dataframe\">\n",
       "  <thead>\n",
       "    <tr style=\"text-align: right;\">\n",
       "      <th></th>\n",
       "      <th>abv</th>\n",
       "      <th>target_fg</th>\n",
       "      <th>target_og</th>\n",
       "      <th>ebc</th>\n",
       "      <th>srm</th>\n",
       "      <th>ph</th>\n",
       "    </tr>\n",
       "  </thead>\n",
       "  <tbody>\n",
       "    <tr>\n",
       "      <th>0</th>\n",
       "      <td>6.5</td>\n",
       "      <td>1010.0</td>\n",
       "      <td>1060.0</td>\n",
       "      <td>25.0</td>\n",
       "      <td>12.5</td>\n",
       "      <td>4.4</td>\n",
       "    </tr>\n",
       "    <tr>\n",
       "      <th>1</th>\n",
       "      <td>5.8</td>\n",
       "      <td>1014.0</td>\n",
       "      <td>1060.0</td>\n",
       "      <td>35.0</td>\n",
       "      <td>17.5</td>\n",
       "      <td>4.4</td>\n",
       "    </tr>\n",
       "    <tr>\n",
       "      <th>2</th>\n",
       "      <td>6.5</td>\n",
       "      <td>1020.0</td>\n",
       "      <td>1068.0</td>\n",
       "      <td>250.0</td>\n",
       "      <td>125.0</td>\n",
       "      <td>4.2</td>\n",
       "    </tr>\n",
       "    <tr>\n",
       "      <th>3</th>\n",
       "      <td>7.2</td>\n",
       "      <td>1010.0</td>\n",
       "      <td>1065.0</td>\n",
       "      <td>14.0</td>\n",
       "      <td>7.0</td>\n",
       "      <td>5.2</td>\n",
       "    </tr>\n",
       "    <tr>\n",
       "      <th>4</th>\n",
       "      <td>8.5</td>\n",
       "      <td>1010.0</td>\n",
       "      <td>1073.0</td>\n",
       "      <td>18.0</td>\n",
       "      <td>9.0</td>\n",
       "      <td>4.6</td>\n",
       "    </tr>\n",
       "  </tbody>\n",
       "</table>\n",
       "</div>"
      ],
      "text/plain": [
       "   abv  target_fg  target_og    ebc    srm   ph\n",
       "0  6.5     1010.0     1060.0   25.0   12.5  4.4\n",
       "1  5.8     1014.0     1060.0   35.0   17.5  4.4\n",
       "2  6.5     1020.0     1068.0  250.0  125.0  4.2\n",
       "3  7.2     1010.0     1065.0   14.0    7.0  5.2\n",
       "4  8.5     1010.0     1073.0   18.0    9.0  4.6"
      ]
     },
     "execution_count": 34,
     "metadata": {},
     "output_type": "execute_result"
    }
   ],
   "source": [
    "features.head()"
   ]
  },
  {
   "cell_type": "code",
   "execution_count": 35,
   "id": "taken-enzyme",
   "metadata": {},
   "outputs": [
    {
     "data": {
      "text/plain": [
       "0     60.0\n",
       "1     40.0\n",
       "2     35.0\n",
       "3    130.0\n",
       "4     70.0\n",
       "Name: ibu, dtype: float32"
      ]
     },
     "execution_count": 35,
     "metadata": {},
     "output_type": "execute_result"
    }
   ],
   "source": [
    "target.head()"
   ]
  },
  {
   "cell_type": "code",
   "execution_count": 36,
   "id": "prerequisite-destiny",
   "metadata": {},
   "outputs": [],
   "source": [
    "X = np.array(features).astype('float32')\n",
    "y = np.array(target).astype('float32')\n",
    "\n",
    "X_train, X_test, y_train, y_test = train_test_split(X, y, \n",
    "                                                    test_size=0.20, \n",
    "                                                    random_state=42)"
   ]
  },
  {
   "cell_type": "code",
   "execution_count": 37,
   "id": "discrete-valentine",
   "metadata": {},
   "outputs": [
    {
     "data": {
      "text/plain": [
       "(100, 6)"
      ]
     },
     "execution_count": 37,
     "metadata": {},
     "output_type": "execute_result"
    }
   ],
   "source": [
    "X_train.shape"
   ]
  },
  {
   "cell_type": "code",
   "execution_count": 38,
   "id": "interracial-dining",
   "metadata": {},
   "outputs": [
    {
     "data": {
      "text/plain": [
       "array([[   7.  , 1010.  , 1065.  ,   15.  ,    7.5 ,    4.4 ],\n",
       "       [   9.2 , 1085.  , 1016.  ,   78.8 ,   40.  ,    4.2 ],\n",
       "       [   5.2 , 1011.  , 1048.  ,   35.  ,   17.5 ,    4.4 ],\n",
       "       [   8.2 , 1013.  , 1076.  ,   16.  ,    8.  ,    4.4 ],\n",
       "       [   5.5 , 1020.  , 1062.  ,  230.  ,  115.  ,    4.4 ],\n",
       "       [   4.5 , 1011.  , 1045.  ,   20.  ,   10.  ,    4.2 ],\n",
       "       [   4.1 , 1010.  , 1041.7 ,   15.  ,   15.  ,    4.4 ],\n",
       "       [   5.2 , 1010.  , 1048.  ,   16.  ,    8.  ,    5.2 ],\n",
       "       [   4.5 , 1012.  , 1047.  ,   20.  ,   10.  ,    4.2 ],\n",
       "       [  17.  , 1015.  , 1125.  ,  500.  ,  254.  ,    4.4 ],\n",
       "       [   5.6 , 1011.  , 1055.  ,   15.  ,    7.6 ,    4.4 ],\n",
       "       [   6.  , 1010.  , 1056.  ,   17.  ,    8.5 ,    4.4 ],\n",
       "       [  12.  , 1035.  , 1125.  ,  600.  ,  305.  ,    4.1 ],\n",
       "       [   7.2 , 1010.  , 1065.  ,   17.  ,    8.5 ,    4.4 ],\n",
       "       [  10.  , 1020.  , 1098.  ,  130.  ,   65.  ,    4.4 ],\n",
       "       [   7.5 , 1013.  , 1068.  ,   30.  ,   15.  ,    4.4 ],\n",
       "       [   4.5 , 1011.  , 1045.  ,   25.  ,   12.5 ,    4.4 ],\n",
       "       [   5.5 , 1009.  , 1052.  ,   55.  ,   28.  ,    4.3 ],\n",
       "       [   4.7 , 1010.  , 1046.  ,   12.  ,    6.  ,    4.4 ],\n",
       "       [   2.5 , 1008.  , 1027.  ,   10.  ,    5.  ,    4.2 ],\n",
       "       [   4.5 , 1009.  , 1043.  ,   10.  ,    5.  ,    4.2 ],\n",
       "       [  10.5 , 1022.  , 1102.  ,   64.  ,   32.  ,    4.4 ],\n",
       "       [   6.5 , 1011.  , 1059.  ,   50.  ,   25.  ,    4.4 ],\n",
       "       [  12.5 , 1016.  , 1087.  ,   40.  ,   20.  ,    4.4 ],\n",
       "       [   7.2 , 1010.  , 1065.  ,   15.  ,    7.5 ,    4.4 ],\n",
       "       [   4.7 , 1019.  , 1055.  ,  200.  ,  100.  ,    4.4 ],\n",
       "       [   7.2 , 1012.  , 1067.  ,   30.  ,   15.  ,    4.4 ],\n",
       "       [   7.4 , 1016.  , 1072.  ,  200.  ,  101.6 ,    5.1 ],\n",
       "       [  11.5 , 1016.  , 1104.  ,   38.  ,   19.  ,    4.4 ],\n",
       "       [  10.5 , 1010.  , 1090.  ,   15.  ,    8.  ,    4.4 ],\n",
       "       [   5.2 , 1010.  , 1048.  ,   13.  ,    6.5 ,    4.4 ],\n",
       "       [   5.2 , 1011.  , 1051.  ,   50.  ,   25.  ,    4.3 ],\n",
       "       [   8.2 , 1009.  , 1070.  ,   15.  ,    8.  ,    4.4 ],\n",
       "       [   9.5 , 1022.  , 1095.  ,  250.  ,  125.  ,    4.4 ],\n",
       "       [  12.7 , 1038.  , 1113.5 ,  250.  ,  125.  ,    5.2 ],\n",
       "       [  16.5 , 1000.  , 1112.  ,   20.  ,   10.  ,    4.4 ],\n",
       "       [   5.5 , 1010.  , 1052.  ,   25.  ,   12.  ,    4.2 ],\n",
       "       [   3.5 , 1010.  , 1037.  ,   37.  ,   19.  ,    4.4 ],\n",
       "       [   7.5 , 1012.  , 1069.  ,   50.  ,   25.  ,    4.4 ],\n",
       "       [   7.2 , 1016.  , 1071.  ,  120.  ,   61.  ,    4.2 ],\n",
       "       [  13.  , 1008.  , 1110.  ,   23.  ,   11.6 ,    5.1 ],\n",
       "       [   5.6 , 1009.  , 1052.  ,   11.  ,    6.  ,    4.2 ],\n",
       "       [  10.6 , 1012.  , 1090.  ,   30.  ,   15.  ,    4.4 ],\n",
       "       [   3.6 , 1009.  , 1036.  ,    8.  ,    4.  ,    4.1 ],\n",
       "       [  10.  , 1020.  , 1097.  ,   65.  ,   32.5 ,    4.4 ],\n",
       "       [   7.2 , 1010.  , 1065.  ,   14.  ,    7.  ,    5.2 ],\n",
       "       [   6.7 , 1013.  , 1064.  ,   19.  ,    9.5 ,    4.4 ],\n",
       "       [   7.3 , 1020.  , 1079.  ,  120.  ,   60.  ,    4.4 ],\n",
       "       [   4.  , 1010.  , 1041.  ,   45.  ,   22.5 ,    5.2 ],\n",
       "       [  12.  , 1038.  , 1128.  ,  100.  ,   50.  ,    4.4 ],\n",
       "       [   2.7 , 1010.  , 1033.  ,   57.  ,   29.  ,    4.4 ],\n",
       "       [   9.  , 1019.  , 1080.  ,   97.  ,   49.  ,    4.4 ],\n",
       "       [   5.2 , 1008.  , 1046.  ,    8.  ,    4.  ,    4.1 ],\n",
       "       [   8.8 , 1017.  , 1084.  ,  190.  ,   95.  ,    4.5 ],\n",
       "       [   8.  , 1014.  , 1080.  ,  160.  ,   81.28,    4.1 ],\n",
       "       [  15.  , 1003.  , 1120.  ,  100.  ,   50.  ,    4.4 ],\n",
       "       [   4.5 , 1009.  , 1044.  ,   12.  ,    6.  ,    4.6 ],\n",
       "       [  32.  , 1028.  , 1157.  ,  250.  ,  127.  ,    4.4 ],\n",
       "       [   4.7 , 1008.  , 1043.  ,   13.  ,    7.  ,    4.6 ],\n",
       "       [   5.5 , 1011.  , 1053.  ,   25.  ,   12.5 ,    4.4 ],\n",
       "       [   3.2 , 1008.  , 1038.  ,    8.  ,    4.  ,    3.2 ],\n",
       "       [   6.7 , 1010.  , 1063.  ,   15.  ,    7.5 ,    5.2 ],\n",
       "       [   4.6 , 1008.  , 1043.  ,   15.  ,    7.5 ,    4.4 ],\n",
       "       [   4.5 , 1011.  , 1043.  ,   17.  ,    8.6 ,    5.3 ],\n",
       "       [   4.9 , 1010.  , 1047.5 ,  120.  ,   60.  ,    4.3 ],\n",
       "       [   7.6 , 1012.  , 1067.  ,   20.  ,   10.  ,    4.4 ],\n",
       "       [   7.2 , 1010.  , 1065.  ,  104.  ,   53.  ,    4.4 ],\n",
       "       [   4.5 , 1013.  , 1047.  ,   10.  ,    5.  ,    5.3 ],\n",
       "       [  14.2 , 1120.  , 1025.  ,   67.  ,   34.  ,    4.  ],\n",
       "       [   7.6 , 1015.  , 1073.  ,   59.  ,   29.5 ,    4.4 ],\n",
       "       [   5.7 , 1009.  , 1053.  ,   25.  ,   12.5 ,    4.4 ],\n",
       "       [   4.1 , 1010.  , 1041.  ,   17.  ,    8.5 ,    5.2 ],\n",
       "       [   6.5 , 1012.  , 1060.  ,  135.  ,   69.  ,    4.5 ],\n",
       "       [   5.4 , 1049.  , 1008.  ,   19.  ,    8.  ,    4.1 ],\n",
       "       [  17.2 , 1030.  , 1156.  ,  128.  ,   64.  ,    4.4 ],\n",
       "       [   7.1 , 1014.  , 1067.  ,   71.  ,   36.  ,    4.4 ],\n",
       "       [   7.5 , 1013.  , 1069.  ,   50.  ,   25.  ,    4.4 ],\n",
       "       [   7.5 , 1012.  , 1069.  ,   20.  ,   10.  ,    4.3 ],\n",
       "       [   8.3 , 1013.  , 1076.  ,   30.  ,   15.  ,    4.4 ],\n",
       "       [   5.8 , 1014.  , 1060.  ,   35.  ,   17.5 ,    4.4 ],\n",
       "       [  16.2 , 1028.  , 1157.  ,  250.  ,  127.  ,    4.4 ],\n",
       "       [   6.7 , 1015.  , 1066.  ,   30.  ,   15.  ,    4.4 ],\n",
       "       [   6.5 , 1020.  , 1068.  ,  250.  ,  125.  ,    4.2 ],\n",
       "       [   6.3 , 1012.  , 1060.  ,   30.  ,   15.  ,    4.4 ],\n",
       "       [   5.2 , 1008.  , 1055.  ,   15.  ,    7.  ,    3.8 ],\n",
       "       [   9.  , 1000.  , 1071.  ,   12.  ,    6.  ,    3.6 ],\n",
       "       [   4.5 , 1012.  , 1047.  ,  140.  ,   70.  ,    5.2 ],\n",
       "       [   5.1 , 1009.  , 1049.  ,   25.  ,   12.7 ,    5.2 ],\n",
       "       [   6.5 , 1010.  , 1060.  ,   35.  ,   18.  ,    4.4 ],\n",
       "       [   5.4 , 1014.  , 1055.  ,   30.  ,   15.  ,    4.4 ],\n",
       "       [  14.5 , 1014.  , 1093.  ,   40.  ,   20.  ,    4.4 ],\n",
       "       [   4.4 , 1012.  , 1045.  ,   30.  ,   15.  ,    4.4 ],\n",
       "       [   7.5 , 1013.  , 1068.  ,   30.  ,   15.  ,    4.4 ],\n",
       "       [   7.2 , 1009.  , 1065.  ,   20.  ,   10.  ,    4.4 ],\n",
       "       [   9.  , 1025.  , 1094.  ,  400.  ,  200.  ,    4.3 ],\n",
       "       [   9.2 , 1016.  , 1085.  ,   40.  ,   20.  ,    4.4 ],\n",
       "       [   4.  , 1005.  , 1035.  ,   15.  ,    7.62,    5.1 ],\n",
       "       [   7.5 , 1004.  , 1065.  ,    9.  ,    5.  ,    4.6 ],\n",
       "       [   2.8 , 1012.  , 1032.5 ,   42.  ,   21.  ,    4.4 ],\n",
       "       [   5.  , 1007.  , 1048.  ,   12.  ,    6.  ,    4.2 ]],\n",
       "      dtype=float32)"
      ]
     },
     "execution_count": 38,
     "metadata": {},
     "output_type": "execute_result"
    }
   ],
   "source": [
    "X_train"
   ]
  },
  {
   "cell_type": "markdown",
   "id": "responsible-pavilion",
   "metadata": {},
   "source": [
    "### **4.1 Upload dados pré-processados para o S3**\n",
    "\n",
    "Nesta etapa se faz necessário, após o tratamento dos dados, realizar o upload dos dados no s3 para a posterior leitura e treinamento do modelo."
   ]
  },
  {
   "cell_type": "code",
   "execution_count": 39,
   "id": "neural-yukon",
   "metadata": {},
   "outputs": [
    {
     "name": "stdout",
     "output_type": "stream",
     "text": [
      "arn:aws:iam::793574898187:role/service-role/AmazonSageMaker-ExecutionRole-20210404T150765\n"
     ]
    }
   ],
   "source": [
    "# Criando sessão SageMaker\n",
    "sagemaker_session = sagemaker.Session()\n",
    "\n",
    "# Prefixo para o diretório no bucket S3\n",
    "prefix = 'model-sagemaker'\n",
    "\n",
    "role = sagemaker.get_execution_role()\n",
    "print(role)"
   ]
  },
  {
   "cell_type": "code",
   "execution_count": 40,
   "id": "sitting-admission",
   "metadata": {},
   "outputs": [
    {
     "name": "stdout",
     "output_type": "stream",
     "text": [
      "uploaded training data location: s3://cleaned-bucket-platform/model-sagemaker/train/linear-train-data\n"
     ]
    }
   ],
   "source": [
    "# Criação de um objeto bytes para trabalhar como buffer\n",
    "buf = io.BytesIO() # create an in-memory byte array (buf is a buffer I will be writing to)\n",
    "smac.write_numpy_to_dense_tensor(buf, X_train, y_train)\n",
    "buf.seek(0)\n",
    "\n",
    "# Sub-pasta para o arquivo de treinamento que será enviado ao S3 \n",
    "key = 'linear-train-data'\n",
    "\n",
    "# Upload arquivo de dado para o S3\n",
    "boto3.resource('s3').Bucket(bucket_name).Object(os.path.join(prefix, 'train', key)).upload_fileobj(buf)\n",
    "s3_train_data = 's3://{}/{}/train/{}'.format(bucket_name, prefix, key)\n",
    "print('uploaded training data location: {}'.format(s3_train_data))"
   ]
  },
  {
   "cell_type": "code",
   "execution_count": 41,
   "id": "higher-homeless",
   "metadata": {},
   "outputs": [
    {
     "name": "stdout",
     "output_type": "stream",
     "text": [
      "uploaded training data location: s3://cleaned-bucket-platform/model-sagemaker/test/linear-test-data\n"
     ]
    }
   ],
   "source": [
    "# Criação de um objeto bytes para trabalhar como buffer\n",
    "buf = io.BytesIO() # create an in-memory byte array (buf is a buffer I will be writing to)\n",
    "smac.write_numpy_to_dense_tensor(buf, X_train, y_train)\n",
    "buf.seek(0)\n",
    "\n",
    "# Sub-pasta para o arquivo de treinamento que será enviado ao S3 \n",
    "key = 'linear-test-data'\n",
    "\n",
    "boto3.resource('s3').Bucket(bucket_name).Object(os.path.join(prefix, 'test', key)).upload_fileobj(buf)\n",
    "s3_test_data = 's3://{}/{}/test/{}'.format(bucket_name, prefix, key)\n",
    "print('uploaded training data location: {}'.format(s3_test_data))"
   ]
  },
  {
   "cell_type": "code",
   "execution_count": 42,
   "id": "previous-lewis",
   "metadata": {},
   "outputs": [
    {
     "name": "stdout",
     "output_type": "stream",
     "text": [
      "Training artifacts will be uploaded to: s3://cleaned-bucket-platform/model-sagemaker/output\n"
     ]
    }
   ],
   "source": [
    "# Sub-pasta para os artefatos de saída do modelo, exemplo: modelo treinado\n",
    "output_location = 's3://{}/{}/output'.format(bucket_name, prefix)\n",
    "print('Training artifacts will be uploaded to: {}'.format(output_location))"
   ]
  },
  {
   "cell_type": "markdown",
   "id": "italic-residence",
   "metadata": {},
   "source": [
    "# **5. Treinamento do Modelo**\n",
    "\n",
    "* Linear Learner (Linear Regression)"
   ]
  },
  {
   "cell_type": "code",
   "execution_count": 43,
   "id": "bridal-metabolism",
   "metadata": {},
   "outputs": [],
   "source": [
    "container = image_uris.retrieve('linear-learner', \n",
    "                                boto3.Session().region_name)\n",
    "\n",
    "linear = sagemaker.estimator.Estimator(container,\n",
    "                                       role, \n",
    "                                       instance_count = 1, \n",
    "                                       instance_type = 'ml.c4.xlarge',\n",
    "                                       output_path = output_location,\n",
    "                                       sagemaker_session = sagemaker_session)"
   ]
  },
  {
   "cell_type": "code",
   "execution_count": 44,
   "id": "widespread-software",
   "metadata": {},
   "outputs": [],
   "source": [
    "linear.set_hyperparameters(feature_dim = len(features_names),\n",
    "                           predictor_type = 'regressor',\n",
    "                           mini_batch_size = 20,\n",
    "                           epochs = 5,\n",
    "                           num_models = 10,\n",
    "                           loss = 'absolute_loss')"
   ]
  },
  {
   "cell_type": "code",
   "execution_count": 45,
   "id": "reverse-understanding",
   "metadata": {},
   "outputs": [],
   "source": [
    "# job_name = \"sagemaker-linear-learner-\" + strftime(\"%H-%M-%S\", gmtime())\n",
    "# print(\"Training job\", job_name)"
   ]
  },
  {
   "cell_type": "code",
   "execution_count": 46,
   "id": "norwegian-possession",
   "metadata": {},
   "outputs": [
    {
     "name": "stdout",
     "output_type": "stream",
     "text": [
      "CPU times: user 3 µs, sys: 0 ns, total: 3 µs\n",
      "Wall time: 7.15 µs\n",
      "2021-04-07 12:15:44 Starting - Starting the training job...\n",
      "2021-04-07 12:15:46 Starting - Launching requested ML instancesProfilerReport-1617797744: InProgress\n",
      "......\n",
      "2021-04-07 12:16:58 Starting - Preparing the instances for training......\n",
      "2021-04-07 12:17:58 Downloading - Downloading input data...\n",
      "2021-04-07 12:18:45 Training - Training image download completed. Training in progress.\n",
      "2021-04-07 12:18:45 Uploading - Uploading generated training model.\u001b[34mDocker entrypoint called with argument(s): train\u001b[0m\n",
      "\u001b[34mRunning default environment configuration script\u001b[0m\n",
      "\u001b[34m[04/07/2021 12:18:43 INFO 140555040532288] Reading default configuration from /opt/amazon/lib/python3.7/site-packages/algorithm/resources/default-input.json: {'mini_batch_size': '1000', 'epochs': '15', 'feature_dim': 'auto', 'use_bias': 'true', 'binary_classifier_model_selection_criteria': 'accuracy', 'f_beta': '1.0', 'target_recall': '0.8', 'target_precision': '0.8', 'num_models': 'auto', 'num_calibration_samples': '10000000', 'init_method': 'uniform', 'init_scale': '0.07', 'init_sigma': '0.01', 'init_bias': '0.0', 'optimizer': 'auto', 'loss': 'auto', 'margin': '1.0', 'quantile': '0.5', 'loss_insensitivity': '0.01', 'huber_delta': '1.0', 'num_classes': '1', 'accuracy_top_k': '3', 'wd': 'auto', 'l1': 'auto', 'momentum': 'auto', 'learning_rate': 'auto', 'beta_1': 'auto', 'beta_2': 'auto', 'bias_lr_mult': 'auto', 'bias_wd_mult': 'auto', 'use_lr_scheduler': 'true', 'lr_scheduler_step': 'auto', 'lr_scheduler_factor': 'auto', 'lr_scheduler_minimum_lr': 'auto', 'positive_example_weight_mult': '1.0', 'balance_multiclass_weights': 'false', 'normalize_data': 'true', 'normalize_label': 'auto', 'unbias_data': 'auto', 'unbias_label': 'auto', 'num_point_for_scaler': '10000', '_kvstore': 'auto', '_num_gpus': 'auto', '_num_kv_servers': 'auto', '_log_level': 'info', '_tuning_objective_metric': '', 'early_stopping_patience': '3', 'early_stopping_tolerance': '0.001', '_enable_profiler': 'false'}\u001b[0m\n",
      "\u001b[34m[04/07/2021 12:18:43 INFO 140555040532288] Merging with provided configuration from /opt/ml/input/config/hyperparameters.json: {'loss': 'absolute_loss', 'feature_dim': '6', 'num_models': '10', 'predictor_type': 'regressor', 'epochs': '5', 'mini_batch_size': '20'}\u001b[0m\n",
      "\u001b[34m[04/07/2021 12:18:43 INFO 140555040532288] Final configuration: {'mini_batch_size': '20', 'epochs': '5', 'feature_dim': '6', 'use_bias': 'true', 'binary_classifier_model_selection_criteria': 'accuracy', 'f_beta': '1.0', 'target_recall': '0.8', 'target_precision': '0.8', 'num_models': '10', 'num_calibration_samples': '10000000', 'init_method': 'uniform', 'init_scale': '0.07', 'init_sigma': '0.01', 'init_bias': '0.0', 'optimizer': 'auto', 'loss': 'absolute_loss', 'margin': '1.0', 'quantile': '0.5', 'loss_insensitivity': '0.01', 'huber_delta': '1.0', 'num_classes': '1', 'accuracy_top_k': '3', 'wd': 'auto', 'l1': 'auto', 'momentum': 'auto', 'learning_rate': 'auto', 'beta_1': 'auto', 'beta_2': 'auto', 'bias_lr_mult': 'auto', 'bias_wd_mult': 'auto', 'use_lr_scheduler': 'true', 'lr_scheduler_step': 'auto', 'lr_scheduler_factor': 'auto', 'lr_scheduler_minimum_lr': 'auto', 'positive_example_weight_mult': '1.0', 'balance_multiclass_weights': 'false', 'normalize_data': 'true', 'normalize_label': 'auto', 'unbias_data': 'auto', 'unbias_label': 'auto', 'num_point_for_scaler': '10000', '_kvstore': 'auto', '_num_gpus': 'auto', '_num_kv_servers': 'auto', '_log_level': 'info', '_tuning_objective_metric': '', 'early_stopping_patience': '3', 'early_stopping_tolerance': '0.001', '_enable_profiler': 'false', 'predictor_type': 'regressor'}\u001b[0m\n",
      "\u001b[34m[04/07/2021 12:18:43 WARNING 140555040532288] Loggers have already been setup.\u001b[0m\n",
      "\u001b[34mProcess 1 is a worker.\u001b[0m\n",
      "\u001b[34m[04/07/2021 12:18:43 INFO 140555040532288] Using default worker.\u001b[0m\n",
      "\u001b[34m[04/07/2021 12:18:44 INFO 140555040532288] Checkpoint loading and saving are disabled.\u001b[0m\n",
      "\u001b[34m[2021-04-07 12:18:44.135] [tensorio] [info] epoch_stats={\"data_pipeline\": \"/opt/ml/input/data/train\", \"epoch\": 0, \"duration\": 14, \"num_examples\": 1, \"num_bytes\": 1360}\u001b[0m\n",
      "\u001b[34m[04/07/2021 12:18:44 INFO 140555040532288] Create Store: local\u001b[0m\n",
      "\u001b[34m[2021-04-07 12:18:44.186] [tensorio] [info] epoch_stats={\"data_pipeline\": \"/opt/ml/input/data/train\", \"epoch\": 1, \"duration\": 50, \"num_examples\": 5, \"num_bytes\": 6800}\u001b[0m\n",
      "\u001b[34m[04/07/2021 12:18:44 INFO 140555040532288] Scaler algorithm parameters\n",
      " <algorithm.scaler.ScalerAlgorithmStable object at 0x7fd524f45950>\u001b[0m\n",
      "\u001b[34m[04/07/2021 12:18:44 INFO 140555040532288] Scaling model computed with parameters:\n",
      " {'stdev_label': \u001b[0m\n",
      "\u001b[34m[119.25087]\u001b[0m\n",
      "\u001b[34m<NDArray 1 @cpu(0)>, 'stdev_weight': \u001b[0m\n",
      "\u001b[34m[  4.086872    14.744394    28.50667    100.238625    50.633175\n",
      "   0.34178793]\u001b[0m\n",
      "\u001b[34m<NDArray 6 @cpu(0)>, 'mean_label': \u001b[0m\n",
      "\u001b[34m[72.18001]\u001b[0m\n",
      "\u001b[34m<NDArray 1 @cpu(0)>, 'mean_weight': \u001b[0m\n",
      "\u001b[34m[   7.574001  1015.27      1066.6421      71.158005    35.895\n",
      "    4.4410005]\u001b[0m\n",
      "\u001b[34m<NDArray 6 @cpu(0)>}\u001b[0m\n",
      "\u001b[34m[04/07/2021 12:18:44 INFO 140555040532288] nvidia-smi: took 0.030 seconds to run.\u001b[0m\n",
      "\u001b[34m[04/07/2021 12:18:44 INFO 140555040532288] nvidia-smi identified 0 GPUs.\u001b[0m\n",
      "\u001b[34m[04/07/2021 12:18:44 INFO 140555040532288] Number of GPUs being used: 0\u001b[0m\n",
      "\u001b[34m#metrics {\"StartTime\": 1617797924.241719, \"EndTime\": 1617797924.241749, \"Dimensions\": {\"Algorithm\": \"Linear Learner\", \"Host\": \"algo-1\", \"Operation\": \"training\", \"Meta\": \"init_train_data_iter\"}, \"Metrics\": {\"Total Records Seen\": {\"sum\": 120.0, \"count\": 1, \"min\": 120, \"max\": 120}, \"Total Batches Seen\": {\"sum\": 6.0, \"count\": 1, \"min\": 6, \"max\": 6}, \"Max Records Seen Between Resets\": {\"sum\": 100.0, \"count\": 1, \"min\": 100, \"max\": 100}, \"Max Batches Seen Between Resets\": {\"sum\": 5.0, \"count\": 1, \"min\": 5, \"max\": 5}, \"Reset Count\": {\"sum\": 2.0, \"count\": 1, \"min\": 2, \"max\": 2}, \"Number of Records Since Last Reset\": {\"sum\": 0.0, \"count\": 1, \"min\": 0, \"max\": 0}, \"Number of Batches Since Last Reset\": {\"sum\": 0.0, \"count\": 1, \"min\": 0, \"max\": 0}}}\n",
      "\u001b[0m\n",
      "\u001b[34m[2021-04-07 12:18:44.293] [tensorio] [info] epoch_stats={\"data_pipeline\": \"/opt/ml/input/data/train\", \"epoch\": 4, \"duration\": 51, \"num_examples\": 5, \"num_bytes\": 6800}\u001b[0m\n",
      "\u001b[34m#metrics {\"StartTime\": 1617797924.2938058, \"EndTime\": 1617797924.293852, \"Dimensions\": {\"Algorithm\": \"Linear Learner\", \"Host\": \"algo-1\", \"Operation\": \"training\", \"epoch\": 0, \"model\": 0}, \"Metrics\": {\"train_absolute_loss_objective\": {\"sum\": 0.3262724566459656, \"count\": 1, \"min\": 0.3262724566459656, \"max\": 0.3262724566459656}}}\n",
      "\u001b[0m\n",
      "\u001b[34m#metrics {\"StartTime\": 1617797924.2939136, \"EndTime\": 1617797924.2939267, \"Dimensions\": {\"Algorithm\": \"Linear Learner\", \"Host\": \"algo-1\", \"Operation\": \"training\", \"epoch\": 0, \"model\": 1}, \"Metrics\": {\"train_absolute_loss_objective\": {\"sum\": 0.33802750110626223, \"count\": 1, \"min\": 0.33802750110626223, \"max\": 0.33802750110626223}}}\n",
      "\u001b[0m\n",
      "\u001b[34m#metrics {\"StartTime\": 1617797924.293967, \"EndTime\": 1617797924.2939777, \"Dimensions\": {\"Algorithm\": \"Linear Learner\", \"Host\": \"algo-1\", \"Operation\": \"training\", \"epoch\": 0, \"model\": 2}, \"Metrics\": {\"train_absolute_loss_objective\": {\"sum\": 0.3297025990486145, \"count\": 1, \"min\": 0.3297025990486145, \"max\": 0.3297025990486145}}}\n",
      "\u001b[0m\n",
      "\u001b[34m#metrics {\"StartTime\": 1617797924.2940464, \"EndTime\": 1617797924.2940602, \"Dimensions\": {\"Algorithm\": \"Linear Learner\", \"Host\": \"algo-1\", \"Operation\": \"training\", \"epoch\": 0, \"model\": 3}, \"Metrics\": {\"train_absolute_loss_objective\": {\"sum\": 0.3282556772232056, \"count\": 1, \"min\": 0.3282556772232056, \"max\": 0.3282556772232056}}}\n",
      "\u001b[0m\n",
      "\u001b[34m#metrics {\"StartTime\": 1617797924.2941048, \"EndTime\": 1617797924.2941165, \"Dimensions\": {\"Algorithm\": \"Linear Learner\", \"Host\": \"algo-1\", \"Operation\": \"training\", \"epoch\": 0, \"model\": 4}, \"Metrics\": {\"train_absolute_loss_objective\": {\"sum\": 0.6626283311843872, \"count\": 1, \"min\": 0.6626283311843872, \"max\": 0.6626283311843872}}}\n",
      "\u001b[0m\n",
      "\u001b[34m#metrics {\"StartTime\": 1617797924.2941525, \"EndTime\": 1617797924.2941625, \"Dimensions\": {\"Algorithm\": \"Linear Learner\", \"Host\": \"algo-1\", \"Operation\": \"training\", \"epoch\": 0, \"model\": 5}, \"Metrics\": {\"train_absolute_loss_objective\": {\"sum\": 0.6656695747375488, \"count\": 1, \"min\": 0.6656695747375488, \"max\": 0.6656695747375488}}}\n",
      "\u001b[0m\n",
      "\u001b[34m#metrics {\"StartTime\": 1617797924.2942264, \"EndTime\": 1617797924.2942412, \"Dimensions\": {\"Algorithm\": \"Linear Learner\", \"Host\": \"algo-1\", \"Operation\": \"training\", \"epoch\": 0, \"model\": 6}, \"Metrics\": {\"train_absolute_loss_objective\": {\"sum\": 0.6552336072921753, \"count\": 1, \"min\": 0.6552336072921753, \"max\": 0.6552336072921753}}}\n",
      "\u001b[0m\n",
      "\u001b[34m#metrics {\"StartTime\": 1617797924.2942827, \"EndTime\": 1617797924.2942934, \"Dimensions\": {\"Algorithm\": \"Linear Learner\", \"Host\": \"algo-1\", \"Operation\": \"training\", \"epoch\": 0, \"model\": 7}, \"Metrics\": {\"train_absolute_loss_objective\": {\"sum\": 0.6506843996047974, \"count\": 1, \"min\": 0.6506843996047974, \"max\": 0.6506843996047974}}}\n",
      "\u001b[0m\n",
      "\u001b[34m#metrics {\"StartTime\": 1617797924.2943516, \"EndTime\": 1617797924.294364, \"Dimensions\": {\"Algorithm\": \"Linear Learner\", \"Host\": \"algo-1\", \"Operation\": \"training\", \"epoch\": 0, \"model\": 8}, \"Metrics\": {\"train_absolute_loss_objective\": {\"sum\": 0.3611372661590576, \"count\": 1, \"min\": 0.3611372661590576, \"max\": 0.3611372661590576}}}\n",
      "\u001b[0m\n",
      "\u001b[34m#metrics {\"StartTime\": 1617797924.2944129, \"EndTime\": 1617797924.2944255, \"Dimensions\": {\"Algorithm\": \"Linear Learner\", \"Host\": \"algo-1\", \"Operation\": \"training\", \"epoch\": 0, \"model\": 9}, \"Metrics\": {\"train_absolute_loss_objective\": {\"sum\": 0.3380159378051758, \"count\": 1, \"min\": 0.3380159378051758, \"max\": 0.3380159378051758}}}\n",
      "\u001b[0m\n",
      "\u001b[34m[04/07/2021 12:18:44 INFO 140555040532288] #quality_metric: host=algo-1, epoch=0, train absolute_loss_objective <loss>=0.3262724566459656\u001b[0m\n",
      "\u001b[34m[04/07/2021 12:18:44 INFO 140555040532288] #early_stopping_criteria_metric: host=algo-1, epoch=0, criteria=absolute_loss_objective, value=0.3262724566459656\u001b[0m\n",
      "\u001b[34m[04/07/2021 12:18:44 INFO 140555040532288] Epoch 0: Loss improved. Updating best model\u001b[0m\n",
      "\u001b[34m[04/07/2021 12:18:44 INFO 140555040532288] Saving model for epoch: 0\u001b[0m\n",
      "\u001b[34m[04/07/2021 12:18:44 INFO 140555040532288] Saved checkpoint to \"/tmp/tmpwt62atrw/mx-mod-0000.params\"\u001b[0m\n",
      "\u001b[34m[04/07/2021 12:18:44 INFO 140555040532288] #progress_metric: host=algo-1, completed 20.0 % of epochs\u001b[0m\n",
      "\u001b[34m#metrics {\"StartTime\": 1617797924.2419984, \"EndTime\": 1617797924.3061328, \"Dimensions\": {\"Algorithm\": \"Linear Learner\", \"Host\": \"algo-1\", \"Operation\": \"training\", \"epoch\": 0, \"Meta\": \"training_data_iter\"}, \"Metrics\": {\"Total Records Seen\": {\"sum\": 220.0, \"count\": 1, \"min\": 220, \"max\": 220}, \"Total Batches Seen\": {\"sum\": 11.0, \"count\": 1, \"min\": 11, \"max\": 11}, \"Max Records Seen Between Resets\": {\"sum\": 100.0, \"count\": 1, \"min\": 100, \"max\": 100}, \"Max Batches Seen Between Resets\": {\"sum\": 5.0, \"count\": 1, \"min\": 5, \"max\": 5}, \"Reset Count\": {\"sum\": 3.0, \"count\": 1, \"min\": 3, \"max\": 3}, \"Number of Records Since Last Reset\": {\"sum\": 100.0, \"count\": 1, \"min\": 100, \"max\": 100}, \"Number of Batches Since Last Reset\": {\"sum\": 5.0, \"count\": 1, \"min\": 5, \"max\": 5}}}\n",
      "\u001b[0m\n",
      "\u001b[34m[04/07/2021 12:18:44 INFO 140555040532288] #throughput_metric: host=algo-1, train throughput=1556.0566431828215 records/second\u001b[0m\n",
      "\u001b[34m[2021-04-07 12:18:44.345] [tensorio] [info] epoch_stats={\"data_pipeline\": \"/opt/ml/input/data/train\", \"epoch\": 6, \"duration\": 39, \"num_examples\": 5, \"num_bytes\": 6800}\u001b[0m\n",
      "\u001b[34m#metrics {\"StartTime\": 1617797924.3457332, \"EndTime\": 1617797924.3457785, \"Dimensions\": {\"Algorithm\": \"Linear Learner\", \"Host\": \"algo-1\", \"Operation\": \"training\", \"epoch\": 1, \"model\": 0}, \"Metrics\": {\"train_absolute_loss_objective\": {\"sum\": 0.3102205753326416, \"count\": 1, \"min\": 0.3102205753326416, \"max\": 0.3102205753326416}}}\n",
      "\u001b[0m\n",
      "\u001b[34m#metrics {\"StartTime\": 1617797924.3458424, \"EndTime\": 1617797924.345861, \"Dimensions\": {\"Algorithm\": \"Linear Learner\", \"Host\": \"algo-1\", \"Operation\": \"training\", \"epoch\": 1, \"model\": 1}, \"Metrics\": {\"train_absolute_loss_objective\": {\"sum\": 0.3098438572883606, \"count\": 1, \"min\": 0.3098438572883606, \"max\": 0.3098438572883606}}}\n",
      "\u001b[0m\n",
      "\u001b[34m#metrics {\"StartTime\": 1617797924.3459175, \"EndTime\": 1617797924.3459346, \"Dimensions\": {\"Algorithm\": \"Linear Learner\", \"Host\": \"algo-1\", \"Operation\": \"training\", \"epoch\": 1, \"model\": 2}, \"Metrics\": {\"train_absolute_loss_objective\": {\"sum\": 0.3055985188484192, \"count\": 1, \"min\": 0.3055985188484192, \"max\": 0.3055985188484192}}}\n",
      "\u001b[0m\n",
      "\u001b[34m#metrics {\"StartTime\": 1617797924.3459904, \"EndTime\": 1617797924.3460083, \"Dimensions\": {\"Algorithm\": \"Linear Learner\", \"Host\": \"algo-1\", \"Operation\": \"training\", \"epoch\": 1, \"model\": 3}, \"Metrics\": {\"train_absolute_loss_objective\": {\"sum\": 0.3053145384788513, \"count\": 1, \"min\": 0.3053145384788513, \"max\": 0.3053145384788513}}}\n",
      "\u001b[0m\n",
      "\u001b[34m#metrics {\"StartTime\": 1617797924.3460586, \"EndTime\": 1617797924.3460748, \"Dimensions\": {\"Algorithm\": \"Linear Learner\", \"Host\": \"algo-1\", \"Operation\": \"training\", \"epoch\": 1, \"model\": 4}, \"Metrics\": {\"train_absolute_loss_objective\": {\"sum\": 0.5880569648742676, \"count\": 1, \"min\": 0.5880569648742676, \"max\": 0.5880569648742676}}}\n",
      "\u001b[0m\n",
      "\u001b[34m#metrics {\"StartTime\": 1617797924.3461242, \"EndTime\": 1617797924.3461404, \"Dimensions\": {\"Algorithm\": \"Linear Learner\", \"Host\": \"algo-1\", \"Operation\": \"training\", \"epoch\": 1, \"model\": 5}, \"Metrics\": {\"train_absolute_loss_objective\": {\"sum\": 0.5061098098754883, \"count\": 1, \"min\": 0.5061098098754883, \"max\": 0.5061098098754883}}}\n",
      "\u001b[0m\n",
      "\u001b[34m#metrics {\"StartTime\": 1617797924.3461876, \"EndTime\": 1617797924.3462026, \"Dimensions\": {\"Algorithm\": \"Linear Learner\", \"Host\": \"algo-1\", \"Operation\": \"training\", \"epoch\": 1, \"model\": 6}, \"Metrics\": {\"train_absolute_loss_objective\": {\"sum\": 0.5195922565460205, \"count\": 1, \"min\": 0.5195922565460205, \"max\": 0.5195922565460205}}}\n",
      "\u001b[0m\n",
      "\u001b[34m#metrics {\"StartTime\": 1617797924.346254, \"EndTime\": 1617797924.3462713, \"Dimensions\": {\"Algorithm\": \"Linear Learner\", \"Host\": \"algo-1\", \"Operation\": \"training\", \"epoch\": 1, \"model\": 7}, \"Metrics\": {\"train_absolute_loss_objective\": {\"sum\": 0.49647347927093505, \"count\": 1, \"min\": 0.49647347927093505, \"max\": 0.49647347927093505}}}\n",
      "\u001b[0m\n",
      "\u001b[34m#metrics {\"StartTime\": 1617797924.3463225, \"EndTime\": 1617797924.3463616, \"Dimensions\": {\"Algorithm\": \"Linear Learner\", \"Host\": \"algo-1\", \"Operation\": \"training\", \"epoch\": 1, \"model\": 8}, \"Metrics\": {\"train_absolute_loss_objective\": {\"sum\": 0.31844881772994993, \"count\": 1, \"min\": 0.31844881772994993, \"max\": 0.31844881772994993}}}\n",
      "\u001b[0m\n",
      "\u001b[34m#metrics {\"StartTime\": 1617797924.3464172, \"EndTime\": 1617797924.3464344, \"Dimensions\": {\"Algorithm\": \"Linear Learner\", \"Host\": \"algo-1\", \"Operation\": \"training\", \"epoch\": 1, \"model\": 9}, \"Metrics\": {\"train_absolute_loss_objective\": {\"sum\": 0.3112555170059204, \"count\": 1, \"min\": 0.3112555170059204, \"max\": 0.3112555170059204}}}\n",
      "\u001b[0m\n",
      "\u001b[34m[04/07/2021 12:18:44 INFO 140555040532288] #quality_metric: host=algo-1, epoch=1, train absolute_loss_objective <loss>=0.3102205753326416\u001b[0m\n",
      "\u001b[34m[04/07/2021 12:18:44 INFO 140555040532288] #early_stopping_criteria_metric: host=algo-1, epoch=1, criteria=absolute_loss_objective, value=0.3053145384788513\u001b[0m\n",
      "\u001b[34m[04/07/2021 12:18:44 INFO 140555040532288] Epoch 1: Loss improved. Updating best model\u001b[0m\n",
      "\u001b[34m[04/07/2021 12:18:44 INFO 140555040532288] Saving model for epoch: 1\u001b[0m\n",
      "\u001b[34m[04/07/2021 12:18:44 INFO 140555040532288] Saved checkpoint to \"/tmp/tmp5_o92dwo/mx-mod-0000.params\"\u001b[0m\n",
      "\u001b[34m[04/07/2021 12:18:44 INFO 140555040532288] #progress_metric: host=algo-1, completed 40.0 % of epochs\u001b[0m\n",
      "\u001b[34m#metrics {\"StartTime\": 1617797924.306432, \"EndTime\": 1617797924.3532681, \"Dimensions\": {\"Algorithm\": \"Linear Learner\", \"Host\": \"algo-1\", \"Operation\": \"training\", \"epoch\": 1, \"Meta\": \"training_data_iter\"}, \"Metrics\": {\"Total Records Seen\": {\"sum\": 320.0, \"count\": 1, \"min\": 320, \"max\": 320}, \"Total Batches Seen\": {\"sum\": 16.0, \"count\": 1, \"min\": 16, \"max\": 16}, \"Max Records Seen Between Resets\": {\"sum\": 100.0, \"count\": 1, \"min\": 100, \"max\": 100}, \"Max Batches Seen Between Resets\": {\"sum\": 5.0, \"count\": 1, \"min\": 5, \"max\": 5}, \"Reset Count\": {\"sum\": 4.0, \"count\": 1, \"min\": 4, \"max\": 4}, \"Number of Records Since Last Reset\": {\"sum\": 100.0, \"count\": 1, \"min\": 100, \"max\": 100}, \"Number of Batches Since Last Reset\": {\"sum\": 5.0, \"count\": 1, \"min\": 5, \"max\": 5}}}\n",
      "\u001b[0m\n",
      "\u001b[34m[04/07/2021 12:18:44 INFO 140555040532288] #throughput_metric: host=algo-1, train throughput=2130.039814739579 records/second\u001b[0m\n",
      "\u001b[34m[2021-04-07 12:18:44.392] [tensorio] [info] epoch_stats={\"data_pipeline\": \"/opt/ml/input/data/train\", \"epoch\": 8, \"duration\": 38, \"num_examples\": 5, \"num_bytes\": 6800}\u001b[0m\n",
      "\u001b[34m#metrics {\"StartTime\": 1617797924.392182, \"EndTime\": 1617797924.3922398, \"Dimensions\": {\"Algorithm\": \"Linear Learner\", \"Host\": \"algo-1\", \"Operation\": \"training\", \"epoch\": 2, \"model\": 0}, \"Metrics\": {\"train_absolute_loss_objective\": {\"sum\": 0.31011343955993653, \"count\": 1, \"min\": 0.31011343955993653, \"max\": 0.31011343955993653}}}\n",
      "\u001b[0m\n",
      "\u001b[34m#metrics {\"StartTime\": 1617797924.3922977, \"EndTime\": 1617797924.3923116, \"Dimensions\": {\"Algorithm\": \"Linear Learner\", \"Host\": \"algo-1\", \"Operation\": \"training\", \"epoch\": 2, \"model\": 1}, \"Metrics\": {\"train_absolute_loss_objective\": {\"sum\": 0.31499513626098635, \"count\": 1, \"min\": 0.31499513626098635, \"max\": 0.31499513626098635}}}\n",
      "\u001b[0m\n",
      "\u001b[34m#metrics {\"StartTime\": 1617797924.3923512, \"EndTime\": 1617797924.3923616, \"Dimensions\": {\"Algorithm\": \"Linear Learner\", \"Host\": \"algo-1\", \"Operation\": \"training\", \"epoch\": 2, \"model\": 2}, \"Metrics\": {\"train_absolute_loss_objective\": {\"sum\": 0.3136289691925049, \"count\": 1, \"min\": 0.3136289691925049, \"max\": 0.3136289691925049}}}\n",
      "\u001b[0m\n",
      "\u001b[34m#metrics {\"StartTime\": 1617797924.392437, \"EndTime\": 1617797924.3924527, \"Dimensions\": {\"Algorithm\": \"Linear Learner\", \"Host\": \"algo-1\", \"Operation\": \"training\", \"epoch\": 2, \"model\": 3}, \"Metrics\": {\"train_absolute_loss_objective\": {\"sum\": 0.31499682426452635, \"count\": 1, \"min\": 0.31499682426452635, \"max\": 0.31499682426452635}}}\n",
      "\u001b[0m\n",
      "\u001b[34m#metrics {\"StartTime\": 1617797924.3924959, \"EndTime\": 1617797924.3925066, \"Dimensions\": {\"Algorithm\": \"Linear Learner\", \"Host\": \"algo-1\", \"Operation\": \"training\", \"epoch\": 2, \"model\": 4}, \"Metrics\": {\"train_absolute_loss_objective\": {\"sum\": 0.6074143028259278, \"count\": 1, \"min\": 0.6074143028259278, \"max\": 0.6074143028259278}}}\n",
      "\u001b[0m\n",
      "\u001b[34m#metrics {\"StartTime\": 1617797924.3925698, \"EndTime\": 1617797924.3925836, \"Dimensions\": {\"Algorithm\": \"Linear Learner\", \"Host\": \"algo-1\", \"Operation\": \"training\", \"epoch\": 2, \"model\": 5}, \"Metrics\": {\"train_absolute_loss_objective\": {\"sum\": 0.4477721309661865, \"count\": 1, \"min\": 0.4477721309661865, \"max\": 0.4477721309661865}}}\n",
      "\u001b[0m\n",
      "\u001b[34m#metrics {\"StartTime\": 1617797924.3926249, \"EndTime\": 1617797924.392635, \"Dimensions\": {\"Algorithm\": \"Linear Learner\", \"Host\": \"algo-1\", \"Operation\": \"training\", \"epoch\": 2, \"model\": 6}, \"Metrics\": {\"train_absolute_loss_objective\": {\"sum\": 0.5292953824996949, \"count\": 1, \"min\": 0.5292953824996949, \"max\": 0.5292953824996949}}}\n",
      "\u001b[0m\n",
      "\u001b[34m#metrics {\"StartTime\": 1617797924.392669, \"EndTime\": 1617797924.3926785, \"Dimensions\": {\"Algorithm\": \"Linear Learner\", \"Host\": \"algo-1\", \"Operation\": \"training\", \"epoch\": 2, \"model\": 7}, \"Metrics\": {\"train_absolute_loss_objective\": {\"sum\": 0.5499404430389404, \"count\": 1, \"min\": 0.5499404430389404, \"max\": 0.5499404430389404}}}\n",
      "\u001b[0m\n",
      "\u001b[34m#metrics {\"StartTime\": 1617797924.392736, \"EndTime\": 1617797924.3927493, \"Dimensions\": {\"Algorithm\": \"Linear Learner\", \"Host\": \"algo-1\", \"Operation\": \"training\", \"epoch\": 2, \"model\": 8}, \"Metrics\": {\"train_absolute_loss_objective\": {\"sum\": 0.32258704662322996, \"count\": 1, \"min\": 0.32258704662322996, \"max\": 0.32258704662322996}}}\n",
      "\u001b[0m\n",
      "\u001b[34m#metrics {\"StartTime\": 1617797924.3927872, \"EndTime\": 1617797924.3927972, \"Dimensions\": {\"Algorithm\": \"Linear Learner\", \"Host\": \"algo-1\", \"Operation\": \"training\", \"epoch\": 2, \"model\": 9}, \"Metrics\": {\"train_absolute_loss_objective\": {\"sum\": 0.3140473699569702, \"count\": 1, \"min\": 0.3140473699569702, \"max\": 0.3140473699569702}}}\n",
      "\u001b[0m\n",
      "\u001b[34m[04/07/2021 12:18:44 INFO 140555040532288] #quality_metric: host=algo-1, epoch=2, train absolute_loss_objective <loss>=0.31011343955993653\u001b[0m\n",
      "\u001b[34m[04/07/2021 12:18:44 INFO 140555040532288] #early_stopping_criteria_metric: host=algo-1, epoch=2, criteria=absolute_loss_objective, value=0.31011343955993653\u001b[0m\n",
      "\u001b[34m[04/07/2021 12:18:44 INFO 140555040532288] Saving model for epoch: 2\u001b[0m\n",
      "\u001b[34m[04/07/2021 12:18:44 INFO 140555040532288] Saved checkpoint to \"/tmp/tmpgvuc5e7u/mx-mod-0000.params\"\u001b[0m\n",
      "\u001b[34m[04/07/2021 12:18:44 INFO 140555040532288] #progress_metric: host=algo-1, completed 60.0 % of epochs\u001b[0m\n",
      "\u001b[34m#metrics {\"StartTime\": 1617797924.3535142, \"EndTime\": 1617797924.3989573, \"Dimensions\": {\"Algorithm\": \"Linear Learner\", \"Host\": \"algo-1\", \"Operation\": \"training\", \"epoch\": 2, \"Meta\": \"training_data_iter\"}, \"Metrics\": {\"Total Records Seen\": {\"sum\": 420.0, \"count\": 1, \"min\": 420, \"max\": 420}, \"Total Batches Seen\": {\"sum\": 21.0, \"count\": 1, \"min\": 21, \"max\": 21}, \"Max Records Seen Between Resets\": {\"sum\": 100.0, \"count\": 1, \"min\": 100, \"max\": 100}, \"Max Batches Seen Between Resets\": {\"sum\": 5.0, \"count\": 1, \"min\": 5, \"max\": 5}, \"Reset Count\": {\"sum\": 5.0, \"count\": 1, \"min\": 5, \"max\": 5}, \"Number of Records Since Last Reset\": {\"sum\": 100.0, \"count\": 1, \"min\": 100, \"max\": 100}, \"Number of Batches Since Last Reset\": {\"sum\": 5.0, \"count\": 1, \"min\": 5, \"max\": 5}}}\n",
      "\u001b[0m\n",
      "\u001b[34m[04/07/2021 12:18:44 INFO 140555040532288] #throughput_metric: host=algo-1, train throughput=2195.453427203015 records/second\u001b[0m\n",
      "\u001b[34m[2021-04-07 12:18:44.439] [tensorio] [info] epoch_stats={\"data_pipeline\": \"/opt/ml/input/data/train\", \"epoch\": 10, \"duration\": 40, \"num_examples\": 5, \"num_bytes\": 6800}\u001b[0m\n",
      "\u001b[34m#metrics {\"StartTime\": 1617797924.43945, \"EndTime\": 1617797924.4394953, \"Dimensions\": {\"Algorithm\": \"Linear Learner\", \"Host\": \"algo-1\", \"Operation\": \"training\", \"epoch\": 3, \"model\": 0}, \"Metrics\": {\"train_absolute_loss_objective\": {\"sum\": 0.30633504390716554, \"count\": 1, \"min\": 0.30633504390716554, \"max\": 0.30633504390716554}}}\n",
      "\u001b[0m\n",
      "\u001b[34m#metrics {\"StartTime\": 1617797924.4395645, \"EndTime\": 1617797924.4395843, \"Dimensions\": {\"Algorithm\": \"Linear Learner\", \"Host\": \"algo-1\", \"Operation\": \"training\", \"epoch\": 3, \"model\": 1}, \"Metrics\": {\"train_absolute_loss_objective\": {\"sum\": 0.3105347776412964, \"count\": 1, \"min\": 0.3105347776412964, \"max\": 0.3105347776412964}}}\n",
      "\u001b[0m\n",
      "\u001b[34m#metrics {\"StartTime\": 1617797924.4396412, \"EndTime\": 1617797924.4396582, \"Dimensions\": {\"Algorithm\": \"Linear Learner\", \"Host\": \"algo-1\", \"Operation\": \"training\", \"epoch\": 3, \"model\": 2}, \"Metrics\": {\"train_absolute_loss_objective\": {\"sum\": 0.3088409066200256, \"count\": 1, \"min\": 0.3088409066200256, \"max\": 0.3088409066200256}}}\n",
      "\u001b[0m\n",
      "\u001b[34m#metrics {\"StartTime\": 1617797924.4397116, \"EndTime\": 1617797924.4397266, \"Dimensions\": {\"Algorithm\": \"Linear Learner\", \"Host\": \"algo-1\", \"Operation\": \"training\", \"epoch\": 3, \"model\": 3}, \"Metrics\": {\"train_absolute_loss_objective\": {\"sum\": 0.31152442216873166, \"count\": 1, \"min\": 0.31152442216873166, \"max\": 0.31152442216873166}}}\n",
      "\u001b[0m\n",
      "\u001b[34m#metrics {\"StartTime\": 1617797924.4397712, \"EndTime\": 1617797924.4397836, \"Dimensions\": {\"Algorithm\": \"Linear Learner\", \"Host\": \"algo-1\", \"Operation\": \"training\", \"epoch\": 3, \"model\": 4}, \"Metrics\": {\"train_absolute_loss_objective\": {\"sum\": 0.42099923610687257, \"count\": 1, \"min\": 0.42099923610687257, \"max\": 0.42099923610687257}}}\n",
      "\u001b[0m\n",
      "\u001b[34m#metrics {\"StartTime\": 1617797924.4398248, \"EndTime\": 1617797924.4398367, \"Dimensions\": {\"Algorithm\": \"Linear Learner\", \"Host\": \"algo-1\", \"Operation\": \"training\", \"epoch\": 3, \"model\": 5}, \"Metrics\": {\"train_absolute_loss_objective\": {\"sum\": 0.42807448863983155, \"count\": 1, \"min\": 0.42807448863983155, \"max\": 0.42807448863983155}}}\n",
      "\u001b[0m\n",
      "\u001b[34m#metrics {\"StartTime\": 1617797924.4398773, \"EndTime\": 1617797924.4398894, \"Dimensions\": {\"Algorithm\": \"Linear Learner\", \"Host\": \"algo-1\", \"Operation\": \"training\", \"epoch\": 3, \"model\": 6}, \"Metrics\": {\"train_absolute_loss_objective\": {\"sum\": 0.39352299690246584, \"count\": 1, \"min\": 0.39352299690246584, \"max\": 0.39352299690246584}}}\n",
      "\u001b[0m\n",
      "\u001b[34m#metrics {\"StartTime\": 1617797924.4399319, \"EndTime\": 1617797924.4399464, \"Dimensions\": {\"Algorithm\": \"Linear Learner\", \"Host\": \"algo-1\", \"Operation\": \"training\", \"epoch\": 3, \"model\": 7}, \"Metrics\": {\"train_absolute_loss_objective\": {\"sum\": 0.419060959815979, \"count\": 1, \"min\": 0.419060959815979, \"max\": 0.419060959815979}}}\n",
      "\u001b[0m\n",
      "\u001b[34m#metrics {\"StartTime\": 1617797924.4399965, \"EndTime\": 1617797924.4400127, \"Dimensions\": {\"Algorithm\": \"Linear Learner\", \"Host\": \"algo-1\", \"Operation\": \"training\", \"epoch\": 3, \"model\": 8}, \"Metrics\": {\"train_absolute_loss_objective\": {\"sum\": 0.31378818035125733, \"count\": 1, \"min\": 0.31378818035125733, \"max\": 0.31378818035125733}}}\n",
      "\u001b[0m\n",
      "\u001b[34m#metrics {\"StartTime\": 1617797924.4400637, \"EndTime\": 1617797924.44008, \"Dimensions\": {\"Algorithm\": \"Linear Learner\", \"Host\": \"algo-1\", \"Operation\": \"training\", \"epoch\": 3, \"model\": 9}, \"Metrics\": {\"train_absolute_loss_objective\": {\"sum\": 0.30879613637924197, \"count\": 1, \"min\": 0.30879613637924197, \"max\": 0.30879613637924197}}}\n",
      "\u001b[0m\n",
      "\u001b[34m[04/07/2021 12:18:44 INFO 140555040532288] #quality_metric: host=algo-1, epoch=3, train absolute_loss_objective <loss>=0.30633504390716554\u001b[0m\n",
      "\u001b[34m[04/07/2021 12:18:44 INFO 140555040532288] #early_stopping_criteria_metric: host=algo-1, epoch=3, criteria=absolute_loss_objective, value=0.30633504390716554\u001b[0m\n",
      "\u001b[34m[04/07/2021 12:18:44 INFO 140555040532288] Saving model for epoch: 3\u001b[0m\n",
      "\u001b[34m[04/07/2021 12:18:44 INFO 140555040532288] Saved checkpoint to \"/tmp/tmpktvvd9b5/mx-mod-0000.params\"\u001b[0m\n",
      "\u001b[34m[04/07/2021 12:18:44 INFO 140555040532288] #progress_metric: host=algo-1, completed 80.0 % of epochs\u001b[0m\n",
      "\u001b[34m#metrics {\"StartTime\": 1617797924.3992043, \"EndTime\": 1617797924.4472468, \"Dimensions\": {\"Algorithm\": \"Linear Learner\", \"Host\": \"algo-1\", \"Operation\": \"training\", \"epoch\": 3, \"Meta\": \"training_data_iter\"}, \"Metrics\": {\"Total Records Seen\": {\"sum\": 520.0, \"count\": 1, \"min\": 520, \"max\": 520}, \"Total Batches Seen\": {\"sum\": 26.0, \"count\": 1, \"min\": 26, \"max\": 26}, \"Max Records Seen Between Resets\": {\"sum\": 100.0, \"count\": 1, \"min\": 100, \"max\": 100}, \"Max Batches Seen Between Resets\": {\"sum\": 5.0, \"count\": 1, \"min\": 5, \"max\": 5}, \"Reset Count\": {\"sum\": 6.0, \"count\": 1, \"min\": 6, \"max\": 6}, \"Number of Records Since Last Reset\": {\"sum\": 100.0, \"count\": 1, \"min\": 100, \"max\": 100}, \"Number of Batches Since Last Reset\": {\"sum\": 5.0, \"count\": 1, \"min\": 5, \"max\": 5}}}\n",
      "\u001b[0m\n",
      "\u001b[34m[04/07/2021 12:18:44 INFO 140555040532288] #throughput_metric: host=algo-1, train throughput=2076.2956105916073 records/second\u001b[0m\n",
      "\u001b[34m[2021-04-07 12:18:44.486] [tensorio] [info] epoch_stats={\"data_pipeline\": \"/opt/ml/input/data/train\", \"epoch\": 12, \"duration\": 38, \"num_examples\": 5, \"num_bytes\": 6800}\u001b[0m\n",
      "\u001b[34m#metrics {\"StartTime\": 1617797924.4862285, \"EndTime\": 1617797924.4862666, \"Dimensions\": {\"Algorithm\": \"Linear Learner\", \"Host\": \"algo-1\", \"Operation\": \"training\", \"epoch\": 4, \"model\": 0}, \"Metrics\": {\"train_absolute_loss_objective\": {\"sum\": 0.30424692153930666, \"count\": 1, \"min\": 0.30424692153930666, \"max\": 0.30424692153930666}}}\n",
      "\u001b[0m\n",
      "\u001b[34m#metrics {\"StartTime\": 1617797924.486324, \"EndTime\": 1617797924.4863374, \"Dimensions\": {\"Algorithm\": \"Linear Learner\", \"Host\": \"algo-1\", \"Operation\": \"training\", \"epoch\": 4, \"model\": 1}, \"Metrics\": {\"train_absolute_loss_objective\": {\"sum\": 0.30629735231399535, \"count\": 1, \"min\": 0.30629735231399535, \"max\": 0.30629735231399535}}}\n",
      "\u001b[0m\n",
      "\u001b[34m#metrics {\"StartTime\": 1617797924.4864047, \"EndTime\": 1617797924.486418, \"Dimensions\": {\"Algorithm\": \"Linear Learner\", \"Host\": \"algo-1\", \"Operation\": \"training\", \"epoch\": 4, \"model\": 2}, \"Metrics\": {\"train_absolute_loss_objective\": {\"sum\": 0.3056278944015503, \"count\": 1, \"min\": 0.3056278944015503, \"max\": 0.3056278944015503}}}\n",
      "\u001b[0m\n",
      "\u001b[34m#metrics {\"StartTime\": 1617797924.4864578, \"EndTime\": 1617797924.4864688, \"Dimensions\": {\"Algorithm\": \"Linear Learner\", \"Host\": \"algo-1\", \"Operation\": \"training\", \"epoch\": 4, \"model\": 3}, \"Metrics\": {\"train_absolute_loss_objective\": {\"sum\": 0.3081549859046936, \"count\": 1, \"min\": 0.3081549859046936, \"max\": 0.3081549859046936}}}\n",
      "\u001b[0m\n",
      "\u001b[34m#metrics {\"StartTime\": 1617797924.4865046, \"EndTime\": 1617797924.4865148, \"Dimensions\": {\"Algorithm\": \"Linear Learner\", \"Host\": \"algo-1\", \"Operation\": \"training\", \"epoch\": 4, \"model\": 4}, \"Metrics\": {\"train_absolute_loss_objective\": {\"sum\": 0.4627485942840576, \"count\": 1, \"min\": 0.4627485942840576, \"max\": 0.4627485942840576}}}\n",
      "\u001b[0m\n",
      "\u001b[34m#metrics {\"StartTime\": 1617797924.4865491, \"EndTime\": 1617797924.4865592, \"Dimensions\": {\"Algorithm\": \"Linear Learner\", \"Host\": \"algo-1\", \"Operation\": \"training\", \"epoch\": 4, \"model\": 5}, \"Metrics\": {\"train_absolute_loss_objective\": {\"sum\": 0.4178128147125244, \"count\": 1, \"min\": 0.4178128147125244, \"max\": 0.4178128147125244}}}\n",
      "\u001b[0m\n",
      "\u001b[34m#metrics {\"StartTime\": 1617797924.486593, \"EndTime\": 1617797924.4866025, \"Dimensions\": {\"Algorithm\": \"Linear Learner\", \"Host\": \"algo-1\", \"Operation\": \"training\", \"epoch\": 4, \"model\": 6}, \"Metrics\": {\"train_absolute_loss_objective\": {\"sum\": 0.4460741996765137, \"count\": 1, \"min\": 0.4460741996765137, \"max\": 0.4460741996765137}}}\n",
      "\u001b[0m\n",
      "\u001b[34m#metrics {\"StartTime\": 1617797924.486636, \"EndTime\": 1617797924.4866455, \"Dimensions\": {\"Algorithm\": \"Linear Learner\", \"Host\": \"algo-1\", \"Operation\": \"training\", \"epoch\": 4, \"model\": 7}, \"Metrics\": {\"train_absolute_loss_objective\": {\"sum\": 0.39705982208251955, \"count\": 1, \"min\": 0.39705982208251955, \"max\": 0.39705982208251955}}}\n",
      "\u001b[0m\n",
      "\u001b[34m#metrics {\"StartTime\": 1617797924.4866793, \"EndTime\": 1617797924.486689, \"Dimensions\": {\"Algorithm\": \"Linear Learner\", \"Host\": \"algo-1\", \"Operation\": \"training\", \"epoch\": 4, \"model\": 8}, \"Metrics\": {\"train_absolute_loss_objective\": {\"sum\": 0.31180399656295776, \"count\": 1, \"min\": 0.31180399656295776, \"max\": 0.31180399656295776}}}\n",
      "\u001b[0m\n",
      "\u001b[34m#metrics {\"StartTime\": 1617797924.4867227, \"EndTime\": 1617797924.4867325, \"Dimensions\": {\"Algorithm\": \"Linear Learner\", \"Host\": \"algo-1\", \"Operation\": \"training\", \"epoch\": 4, \"model\": 9}, \"Metrics\": {\"train_absolute_loss_objective\": {\"sum\": 0.30500345706939697, \"count\": 1, \"min\": 0.30500345706939697, \"max\": 0.30500345706939697}}}\n",
      "\u001b[0m\n",
      "\u001b[34m[04/07/2021 12:18:44 INFO 140555040532288] #quality_metric: host=algo-1, epoch=4, train absolute_loss_objective <loss>=0.30424692153930666\u001b[0m\n",
      "\u001b[34m[04/07/2021 12:18:44 INFO 140555040532288] #early_stopping_criteria_metric: host=algo-1, epoch=4, criteria=absolute_loss_objective, value=0.30424692153930666\u001b[0m\n",
      "\u001b[34m[04/07/2021 12:18:44 INFO 140555040532288] Epoch 4: Loss improved. Updating best model\u001b[0m\n",
      "\u001b[34m[04/07/2021 12:18:44 INFO 140555040532288] Saving model for epoch: 4\u001b[0m\n",
      "\u001b[34m[04/07/2021 12:18:44 INFO 140555040532288] Saved checkpoint to \"/tmp/tmpy49sqm5e/mx-mod-0000.params\"\u001b[0m\n",
      "\u001b[34m[04/07/2021 12:18:44 INFO 140555040532288] #progress_metric: host=algo-1, completed 100.0 % of epochs\u001b[0m\n",
      "\u001b[34m#metrics {\"StartTime\": 1617797924.4474993, \"EndTime\": 1617797924.4938235, \"Dimensions\": {\"Algorithm\": \"Linear Learner\", \"Host\": \"algo-1\", \"Operation\": \"training\", \"epoch\": 4, \"Meta\": \"training_data_iter\"}, \"Metrics\": {\"Total Records Seen\": {\"sum\": 620.0, \"count\": 1, \"min\": 620, \"max\": 620}, \"Total Batches Seen\": {\"sum\": 31.0, \"count\": 1, \"min\": 31, \"max\": 31}, \"Max Records Seen Between Resets\": {\"sum\": 100.0, \"count\": 1, \"min\": 100, \"max\": 100}, \"Max Batches Seen Between Resets\": {\"sum\": 5.0, \"count\": 1, \"min\": 5, \"max\": 5}, \"Reset Count\": {\"sum\": 7.0, \"count\": 1, \"min\": 7, \"max\": 7}, \"Number of Records Since Last Reset\": {\"sum\": 100.0, \"count\": 1, \"min\": 100, \"max\": 100}, \"Number of Batches Since Last Reset\": {\"sum\": 5.0, \"count\": 1, \"min\": 5, \"max\": 5}}}\n",
      "\u001b[0m\n",
      "\u001b[34m[04/07/2021 12:18:44 INFO 140555040532288] #throughput_metric: host=algo-1, train throughput=2152.5588651899902 records/second\u001b[0m\n",
      "\u001b[34m[04/07/2021 12:18:44 WARNING 140555040532288] wait_for_all_workers will not sync workers since the kv store is not running distributed\u001b[0m\n",
      "\u001b[34m[04/07/2021 12:18:44 WARNING 140555040532288] wait_for_all_workers will not sync workers since the kv store is not running distributed\u001b[0m\n",
      "\u001b[34m[2021-04-07 12:18:44.494] [tensorio] [info] epoch_stats={\"data_pipeline\": \"/opt/ml/input/data/train\", \"epoch\": 14, \"duration\": 0, \"num_examples\": 1, \"num_bytes\": 1360}\u001b[0m\n",
      "\u001b[34m[2021-04-07 12:18:44.502] [tensorio] [info] epoch_stats={\"data_pipeline\": \"/opt/ml/input/data/train\", \"epoch\": 16, \"duration\": 5, \"num_examples\": 5, \"num_bytes\": 6800}\u001b[0m\n",
      "\u001b[34m[04/07/2021 12:18:44 INFO 140555040532288] #train_score (algo-1) : ('absolute_loss_objective', 36.16307495117187)\u001b[0m\n",
      "\u001b[34m[04/07/2021 12:18:44 INFO 140555040532288] #train_score (algo-1) : ('mse', 12879.217998046875)\u001b[0m\n",
      "\u001b[34m[04/07/2021 12:18:44 INFO 140555040532288] #train_score (algo-1) : ('absolute_loss', 36.16307495117187)\u001b[0m\n",
      "\u001b[34m[04/07/2021 12:18:44 INFO 140555040532288] #quality_metric: host=algo-1, train absolute_loss_objective <loss>=36.16307495117187\u001b[0m\n",
      "\u001b[34m[04/07/2021 12:18:44 INFO 140555040532288] #quality_metric: host=algo-1, train mse <loss>=12879.217998046875\u001b[0m\n",
      "\u001b[34m[04/07/2021 12:18:44 INFO 140555040532288] #quality_metric: host=algo-1, train absolute_loss <loss>=36.16307495117187\u001b[0m\n",
      "\u001b[34m[04/07/2021 12:18:44 INFO 140555040532288] Best model found for hyperparameters: {\"optimizer\": \"adam\", \"learning_rate\": 0.005, \"l1\": 0.0, \"wd\": 0.0001, \"lr_scheduler_step\": 10, \"lr_scheduler_factor\": 0.99, \"lr_scheduler_minimum_lr\": 1e-05}\u001b[0m\n",
      "\u001b[34m[04/07/2021 12:18:44 INFO 140555040532288] Saved checkpoint to \"/tmp/tmpi1x980mu/mx-mod-0000.params\"\u001b[0m\n",
      "\u001b[34m[04/07/2021 12:18:44 INFO 140555040532288] Test data is not provided.\u001b[0m\n",
      "\u001b[34m#metrics {\"StartTime\": 1617797924.120805, \"EndTime\": 1617797924.5062435, \"Dimensions\": {\"Algorithm\": \"Linear Learner\", \"Host\": \"algo-1\", \"Operation\": \"training\"}, \"Metrics\": {\"initialize.time\": {\"sum\": 120.06044387817383, \"count\": 1, \"min\": 120.06044387817383, \"max\": 120.06044387817383}, \"epochs\": {\"sum\": 5.0, \"count\": 1, \"min\": 5, \"max\": 5}, \"check_early_stopping.time\": {\"sum\": 3.3223628997802734, \"count\": 5, \"min\": 0.15854835510253906, \"max\": 1.0459423065185547}, \"update.time\": {\"sum\": 234.72213745117188, \"count\": 5, \"min\": 43.00403594970703, \"max\": 58.020591735839844}, \"finalize.time\": {\"sum\": 9.047985076904297, \"count\": 1, \"min\": 9.047985076904297, \"max\": 9.047985076904297}, \"setuptime\": {\"sum\": 24.236440658569336, \"count\": 1, \"min\": 24.236440658569336, \"max\": 24.236440658569336}, \"totaltime\": {\"sum\": 747.1408843994141, \"count\": 1, \"min\": 747.1408843994141, \"max\": 747.1408843994141}}}\n",
      "\u001b[0m\n",
      "\n",
      "2021-04-07 12:18:58 Completed - Training job completed\n",
      "Training seconds: 58\n",
      "Billable seconds: 58\n"
     ]
    }
   ],
   "source": [
    "%time\n",
    "#Pass in S3 training_data path variable we declared earlier\n",
    "# linear.fit({'train': s3_train_data}, job_name=job_name)\n",
    "linear.fit({'train': s3_train_data})"
   ]
  },
  {
   "cell_type": "markdown",
   "id": "dress-fireplace",
   "metadata": {},
   "source": [
    "# **6. Deploy do Modelo e Criação de Endpoint**\n",
    "\n",
    "Para que seja possível realizar inferências no modelo linear learner é preciso fazer o seu deploy."
   ]
  },
  {
   "cell_type": "code",
   "execution_count": 47,
   "id": "fiscal-lafayette",
   "metadata": {},
   "outputs": [
    {
     "name": "stdout",
     "output_type": "stream",
     "text": [
      "-------------!"
     ]
    }
   ],
   "source": [
    "linear_regressor = linear.deploy(initial_instance_count = 1,\n",
    "                                 instance_type = 'ml.m4.xlarge')"
   ]
  },
  {
   "cell_type": "markdown",
   "id": "miniature-rouge",
   "metadata": {},
   "source": [
    "Observe que também serializamos nosso modelo para garantir que possamos processar nossos resultados e compará-los com os resultados reais do teste Y. Depois que seu endpoint tiver sido criado com sucesso, você deverá ver uma mensagem de exclamação e um endpoint aparecerá quando você verificar Endpoints ativos no serviço SageMaker."
   ]
  },
  {
   "cell_type": "code",
   "execution_count": 49,
   "id": "southeast-courage",
   "metadata": {},
   "outputs": [],
   "source": [
    "linear_regressor.serializer = csv_serializer\n",
    "linear_regressor.deserializer = json_deserializer"
   ]
  },
  {
   "cell_type": "code",
   "execution_count": 50,
   "id": "grand-biodiversity",
   "metadata": {},
   "outputs": [
    {
     "data": {
      "text/plain": [
       "'linear-learner-2021-04-07-00-49-57-095'"
      ]
     },
     "execution_count": 50,
     "metadata": {},
     "output_type": "execute_result"
    }
   ],
   "source": [
    "linear_regressor.endpoint_name"
   ]
  },
  {
   "cell_type": "markdown",
   "id": "minimal-programmer",
   "metadata": {},
   "source": [
    "# **7. Inferência do Modelo**"
   ]
  },
  {
   "cell_type": "code",
   "execution_count": null,
   "id": "younger-horse",
   "metadata": {},
   "outputs": [],
   "source": [
    "pred_test = linear_regressor.predict(X_test)\n",
    "pred_train = linear_regressor.predict(X_train)"
   ]
  },
  {
   "cell_type": "code",
   "execution_count": null,
   "id": "laughing-premiere",
   "metadata": {},
   "outputs": [],
   "source": [
    "pred_test"
   ]
  },
  {
   "cell_type": "code",
   "execution_count": null,
   "id": "ranking-facility",
   "metadata": {},
   "outputs": [],
   "source": [
    "# Iterando o result json para um NP Array para todas as inferências e para comparar com y_test\n",
    "predictions_test = np.array([res['score'] for res in pred_test['predictions']])\n",
    "predictions_test # np_array"
   ]
  },
  {
   "cell_type": "code",
   "execution_count": null,
   "id": "danish-effect",
   "metadata": {},
   "outputs": [],
   "source": [
    "# Iterando o result json para um NP Array para todas as inferências e para comparar com y_test\n",
    "predictions_train = np.array([res['score'] for res in pred_train['predictions']])\n",
    "predictions_train # np_array"
   ]
  },
  {
   "cell_type": "code",
   "execution_count": null,
   "id": "general-worth",
   "metadata": {},
   "outputs": [],
   "source": [
    "y_test"
   ]
  },
  {
   "cell_type": "markdown",
   "id": "elegant-shanghai",
   "metadata": {},
   "source": [
    "# **8. Avaliação do Modelo**"
   ]
  },
  {
   "cell_type": "markdown",
   "id": "closing-integration",
   "metadata": {},
   "source": [
    "Funções para avaliar o modelo treinado"
   ]
  },
  {
   "cell_type": "code",
   "execution_count": 216,
   "id": "direct-range",
   "metadata": {},
   "outputs": [],
   "source": [
    "def print_evaluate(true, predicted):  \n",
    "    mae = metrics.mean_absolute_error(true, predicted)\n",
    "    mse = metrics.mean_squared_error(true, predicted)\n",
    "    rmse = np.sqrt(metrics.mean_squared_error(true, predicted))\n",
    "    r2_square = metrics.r2_score(true, predicted)\n",
    "    print('MAE:', mae)\n",
    "    print('MSE:', mse)\n",
    "    print('RMSE:', rmse)\n",
    "    print('R2 Square', r2_square)\n",
    "    \n",
    "def evaluate(true, predicted):\n",
    "    mae = metrics.mean_absolute_error(true, predicted)\n",
    "    mse = metrics.mean_squared_error(true, predicted)\n",
    "    rmse = np.sqrt(metrics.mean_squared_error(true, predicted))\n",
    "    r2_square = metrics.r2_score(true, predicted)\n",
    "    return mae, mse, rmse, r2_square"
   ]
  },
  {
   "cell_type": "code",
   "execution_count": 217,
   "id": "quiet-avenue",
   "metadata": {},
   "outputs": [
    {
     "name": "stdout",
     "output_type": "stream",
     "text": [
      "Train set evaluation:\n",
      "_____________________________________\n",
      "MAE: 37.982853412628174\n",
      "MSE: 18131.63677899512\n",
      "RMSE: 134.6537663008173\n",
      "R2 Square 0.09954175082775352\n",
      "\n",
      "*************************************\n",
      "\n",
      "Test set evaluation:\n",
      "_____________________________________\n",
      "MAE: 26.83193588256836\n",
      "MSE: 2692.909498392837\n",
      "RMSE: 51.8932509907872\n",
      "R2 Square -0.0051543319715472435\n"
     ]
    }
   ],
   "source": [
    "print('Train set evaluation:\\n_____________________________________')\n",
    "print_evaluate(y_train, predictions_train)\n",
    "print('\\n*************************************\\n')\n",
    "print('Test set evaluation:\\n_____________________________________')\n",
    "print_evaluate(y_test, predictions_test)"
   ]
  },
  {
   "cell_type": "code",
   "execution_count": 218,
   "id": "strange-southeast",
   "metadata": {},
   "outputs": [
    {
     "data": {
      "text/plain": [
       "<matplotlib.collections.PathCollection at 0x7f09f8593630>"
      ]
     },
     "execution_count": 218,
     "metadata": {},
     "output_type": "execute_result"
    },
    {
     "data": {
      "image/png": "[encoded data removed]",
      "text/plain": [
       "<Figure size 432x288 with 1 Axes>"
      ]
     },
     "metadata": {},
     "output_type": "display_data"
    }
   ],
   "source": [
    "plt.scatter(y_test, predictions_test)"
   ]
  },
  {
   "cell_type": "code",
   "execution_count": 160,
   "id": "adverse-accused",
   "metadata": {},
   "outputs": [
    {
     "name": "stderr",
     "output_type": "stream",
     "text": [
      "/home/ec2-user/anaconda3/envs/python3/lib/python3.6/site-packages/seaborn/distributions.py:2557: FutureWarning: `distplot` is a deprecated function and will be removed in a future version. Please adapt your code to use either `displot` (a figure-level function with similar flexibility) or `histplot` (an axes-level function for histograms).\n",
      "  warnings.warn(msg, FutureWarning)\n"
     ]
    },
    {
     "data": {
      "image/png": "[encoded data removed]",
      "text/plain": [
       "<Figure size 432x288 with 1 Axes>"
      ]
     },
     "metadata": {},
     "output_type": "display_data"
    }
   ],
   "source": [
    "sns.distplot((y_test - predictions_test), bins=50);"
   ]
  },
  {
   "cell_type": "markdown",
   "id": "intelligent-insider",
   "metadata": {},
   "source": [
    "# **9. Excluindo Endpoint**\n",
    "\n",
    "Exclua o endpoint ao final do uso para evitar cobranças"
   ]
  },
  {
   "cell_type": "code",
   "execution_count": 51,
   "id": "adequate-deviation",
   "metadata": {},
   "outputs": [
    {
     "name": "stdout",
     "output_type": "stream",
     "text": [
      "deleted linear-learner-2021-04-07-00-49-57-095 successfully!\n"
     ]
    }
   ],
   "source": [
    "sagemaker.Session().delete_endpoint(linear_regressor.endpoint_name)\n",
    "print(f\"deleted {linear_regressor.endpoint_name} successfully!\")"
   ]
  },
  {
   "cell_type": "code",
   "execution_count": null,
   "id": "contrary-belize",
   "metadata": {},
   "outputs": [],
   "source": []
  }
 ],
 "metadata": {
  "kernelspec": {
   "display_name": "conda_python3",
   "language": "python",
   "name": "conda_python3"
  },
  "language_info": {
   "codemirror_mode": {
    "name": "ipython",
    "version": 3
   },
   "file_extension": ".py",
   "mimetype": "text/x-python",
   "name": "python",
   "nbconvert_exporter": "python",
   "pygments_lexer": "ipython3",
   "version": "3.6.13"
  }
 },
 "nbformat": 4,
 "nbformat_minor": 5
}
