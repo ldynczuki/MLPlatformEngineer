{
 "cells": [
  {
   "cell_type": "markdown",
   "metadata": {},
   "source": [
    "# **Pré-Requisitos**\n",
    "\n",
    "### **Configuração local para acessar serviços da AWS**\n",
    "\n",
    "**Observação**: Antes de iniciar, é necessário ter configurado o AWS CLI com a sua \"acess_key\" e \"secret_key\" e \"region\" para que seja possível acessar os serviços da AWS.\n",
    "\n",
    "Para configurar, execute o comando abaixo e insira suas credenciais e região.\n",
    "\n",
    "`$ aws configure`"
   ]
  },
  {
   "cell_type": "markdown",
   "metadata": {},
   "source": [
    "Instale a biblioteca boto3 para acessar os clients dos serviços AWS."
   ]
  },
  {
   "cell_type": "code",
   "execution_count": 59,
   "metadata": {},
   "outputs": [
    {
     "name": "stdout",
     "output_type": "stream",
     "text": [
      "Requirement already satisfied: boto3 in /home/lucas/anaconda3/envs/picpay/lib/python3.6/site-packages (1.17.45)\n",
      "Requirement already satisfied: botocore<1.21.0,>=1.20.45 in /home/lucas/anaconda3/envs/picpay/lib/python3.6/site-packages (from boto3) (1.20.45)\n",
      "Requirement already satisfied: jmespath<1.0.0,>=0.7.1 in /home/lucas/anaconda3/envs/picpay/lib/python3.6/site-packages (from boto3) (0.10.0)\n",
      "Requirement already satisfied: s3transfer<0.4.0,>=0.3.0 in /home/lucas/anaconda3/envs/picpay/lib/python3.6/site-packages (from boto3) (0.3.6)\n",
      "Requirement already satisfied: urllib3<1.27,>=1.25.4 in /home/lucas/anaconda3/envs/picpay/lib/python3.6/site-packages (from botocore<1.21.0,>=1.20.45->boto3) (1.26.4)\n",
      "Requirement already satisfied: python-dateutil<3.0.0,>=2.1 in /home/lucas/anaconda3/envs/picpay/lib/python3.6/site-packages (from botocore<1.21.0,>=1.20.45->boto3) (2.8.1)\n",
      "Requirement already satisfied: six>=1.5 in /home/lucas/.local/lib/python3.6/site-packages (from python-dateutil<3.0.0,>=2.1->botocore<1.21.0,>=1.20.45->boto3) (1.14.0)\n"
     ]
    }
   ],
   "source": [
    "!pip install boto3"
   ]
  },
  {
   "cell_type": "markdown",
   "metadata": {
    "tags": []
   },
   "source": [
    "# **1. Importação das bibliotecas requeridas**"
   ]
  },
  {
   "cell_type": "code",
   "execution_count": 60,
   "metadata": {
    "tags": []
   },
   "outputs": [],
   "source": [
    "import io\n",
    "import matplotlib.pyplot as plt\n",
    "import seaborn as sns\n",
    "import numpy as np\n",
    "import pandas as pd\n",
    "from sklearn.model_selection import train_test_split\n",
    "from sklearn import metrics\n",
    "from sklearn.model_selection import cross_val_score\n",
    "from sklearn.linear_model import LinearRegression\n",
    "from sklearn.preprocessing import StandardScaler\n",
    "\n",
    "%matplotlib inline\n",
    "\n",
    "sns.set_style(\"whitegrid\")\n",
    "plt.style.use(\"fivethirtyeight\")\n",
    "\n",
    "# aws library\n",
    "import boto3"
   ]
  },
  {
   "cell_type": "markdown",
   "metadata": {},
   "source": [
    "# **2. Carregando dados da AWS**"
   ]
  },
  {
   "cell_type": "markdown",
   "metadata": {},
   "source": [
    "### **2.1. Buscando objetos no Glue Catalog**"
   ]
  },
  {
   "cell_type": "markdown",
   "metadata": {},
   "source": [
    "Foi criado o objeto `glue_client` para acessar objetos do `Glue`. Na célula a seguir recebemos todos os databases existentes neste serviço."
   ]
  },
  {
   "cell_type": "code",
   "execution_count": 61,
   "metadata": {},
   "outputs": [
    {
     "data": {
      "text/plain": [
       "{'DatabaseList': [{'Name': 'database_platform',\n",
       "   'CreateTime': datetime.datetime(2021, 4, 6, 8, 7, 50, tzinfo=tzlocal()),\n",
       "   'CreateTableDefaultPermissions': [{'Principal': {'DataLakePrincipalIdentifier': 'IAM_ALLOWED_PRINCIPALS'},\n",
       "     'Permissions': ['ALL']}],\n",
       "   'CatalogId': '793574898187'},\n",
       "  {'Name': 'sampledb',\n",
       "   'Description': 'Sample database',\n",
       "   'Parameters': {'CreatedBy': 'Athena', 'EXTERNAL': 'TRUE'},\n",
       "   'CreateTime': datetime.datetime(2021, 4, 6, 8, 30, 13, tzinfo=tzlocal()),\n",
       "   'CreateTableDefaultPermissions': [{'Principal': {'DataLakePrincipalIdentifier': 'IAM_ALLOWED_PRINCIPALS'},\n",
       "     'Permissions': ['ALL']}],\n",
       "   'CatalogId': '793574898187'}],\n",
       " 'ResponseMetadata': {'RequestId': 'd9d88e75-2d36-4cbd-95f0-647143cd4977',\n",
       "  'HTTPStatusCode': 200,\n",
       "  'HTTPHeaders': {'date': 'Sat, 10 Apr 2021 21:04:54 GMT',\n",
       "   'content-type': 'application/x-amz-json-1.1',\n",
       "   'content-length': '578',\n",
       "   'connection': 'keep-alive',\n",
       "   'x-amzn-requestid': 'd9d88e75-2d36-4cbd-95f0-647143cd4977'},\n",
       "  'RetryAttempts': 0}}"
      ]
     },
     "execution_count": 61,
     "metadata": {},
     "output_type": "execute_result"
    }
   ],
   "source": [
    "glue_client = boto3.client('glue')\n",
    "\n",
    "database_list = glue_client.get_databases()\n",
    "database_list"
   ]
  },
  {
   "cell_type": "markdown",
   "metadata": {},
   "source": [
    "Em nosso script `Terraform` criamos o `Glue Database` com o nome de **database_platform**, portanto, iremos fazer uma busca sobre o database criado."
   ]
  },
  {
   "cell_type": "code",
   "execution_count": 62,
   "metadata": {},
   "outputs": [
    {
     "data": {
      "text/plain": [
       "{'Name': 'database_platform',\n",
       " 'CreateTime': datetime.datetime(2021, 4, 6, 8, 7, 50, tzinfo=tzlocal()),\n",
       " 'CreateTableDefaultPermissions': [{'Principal': {'DataLakePrincipalIdentifier': 'IAM_ALLOWED_PRINCIPALS'},\n",
       "   'Permissions': ['ALL']}],\n",
       " 'CatalogId': '793574898187'}"
      ]
     },
     "execution_count": 62,
     "metadata": {},
     "output_type": "execute_result"
    }
   ],
   "source": [
    "database_name_platform = 'database_platform'\n",
    "\n",
    "for i in range(len(database_list['DatabaseList'])):\n",
    "    if database_list['DatabaseList'][i]['Name'] == database_name_platform:\n",
    "        database_glue = database_list['DatabaseList'][i]\n",
    "\n",
    "database_glue"
   ]
  },
  {
   "cell_type": "markdown",
   "metadata": {},
   "source": [
    "Após encontrado o nosso database criado pelo `Terraform`, utilizamos as propriedades `CatalogId` e `Name` do resultado anterior para encontrar as tabelas existentes em nosso database."
   ]
  },
  {
   "cell_type": "code",
   "execution_count": 63,
   "metadata": {},
   "outputs": [
    {
     "data": {
      "text/plain": [
       "{'TableList': [{'Name': 'cleaned',\n",
       "   'DatabaseName': 'database_platform',\n",
       "   'CreateTime': datetime.datetime(2021, 4, 6, 8, 7, 52, tzinfo=tzlocal()),\n",
       "   'UpdateTime': datetime.datetime(2021, 4, 6, 8, 7, 52, tzinfo=tzlocal()),\n",
       "   'Retention': 0,\n",
       "   'StorageDescriptor': {'Columns': [{'Name': 'id',\n",
       "      'Type': 'string',\n",
       "      'Comment': '',\n",
       "      'Parameters': {}},\n",
       "     {'Name': 'name', 'Type': 'string', 'Comment': '', 'Parameters': {}},\n",
       "     {'Name': 'abv', 'Type': 'string', 'Comment': '', 'Parameters': {}},\n",
       "     {'Name': 'ibu', 'Type': 'string', 'Comment': '', 'Parameters': {}},\n",
       "     {'Name': 'target_fg', 'Type': 'string', 'Comment': '', 'Parameters': {}},\n",
       "     {'Name': 'target_og', 'Type': 'string', 'Comment': '', 'Parameters': {}},\n",
       "     {'Name': 'ebc', 'Type': 'string', 'Comment': '', 'Parameters': {}},\n",
       "     {'Name': 'srm', 'Type': 'string', 'Comment': '', 'Parameters': {}},\n",
       "     {'Name': 'ph', 'Type': 'string', 'Comment': '', 'Parameters': {}}],\n",
       "    'Location': 's3://cleaned-bucket-platform/processing-sucess',\n",
       "    'InputFormat': 'org.apache.hadoop.mapred.TextInputFormat',\n",
       "    'OutputFormat': 'org.apache.hadoop.hive.ql.io.HiveIgnoreKeyTextOutputFormat',\n",
       "    'Compressed': False,\n",
       "    'NumberOfBuckets': 0,\n",
       "    'SerdeInfo': {'Name': 'ser_platform',\n",
       "     'SerializationLibrary': 'org.apache.hadoop.hive.serde2.OpenCSVSerde',\n",
       "     'Parameters': {'serialization.format': '1'}},\n",
       "    'BucketColumns': [],\n",
       "    'SortColumns': [],\n",
       "    'Parameters': {},\n",
       "    'StoredAsSubDirectories': False},\n",
       "   'PartitionKeys': [],\n",
       "   'TableType': 'EXTERNAL_TABLE',\n",
       "   'Parameters': {'EXTERNAL': 'TRUE',\n",
       "    'classification': 'csv',\n",
       "    'parquet.compression': 'UNCOMPRESSED'},\n",
       "   'CreatedBy': 'arn:aws:iam::793574898187:root',\n",
       "   'IsRegisteredWithLakeFormation': False,\n",
       "   'CatalogId': '793574898187'}],\n",
       " 'ResponseMetadata': {'RequestId': '23a50a3d-695d-4a6e-b5c2-8a183c083464',\n",
       "  'HTTPStatusCode': 200,\n",
       "  'HTTPHeaders': {'date': 'Sat, 10 Apr 2021 21:04:57 GMT',\n",
       "   'content-type': 'application/x-amz-json-1.1',\n",
       "   'content-length': '1464',\n",
       "   'connection': 'keep-alive',\n",
       "   'x-amzn-requestid': '23a50a3d-695d-4a6e-b5c2-8a183c083464'},\n",
       "  'RetryAttempts': 0}}"
      ]
     },
     "execution_count": 63,
     "metadata": {},
     "output_type": "execute_result"
    }
   ],
   "source": [
    "table_list = glue_client.get_tables(CatalogId=database_glue['CatalogId'],\n",
    "                                    DatabaseName=database_glue['Name']\n",
    ")\n",
    "\n",
    "table_list"
   ]
  },
  {
   "cell_type": "markdown",
   "metadata": {},
   "source": [
    "Em nosso script `Terraform` criamos o `Glue Table` com o nome de **cleaned**, portanto, iremos fazer uma busca sobre o database criado."
   ]
  },
  {
   "cell_type": "code",
   "execution_count": 64,
   "metadata": {
    "tags": []
   },
   "outputs": [
    {
     "data": {
      "text/plain": [
       "{'Name': 'cleaned',\n",
       " 'DatabaseName': 'database_platform',\n",
       " 'CreateTime': datetime.datetime(2021, 4, 6, 8, 7, 52, tzinfo=tzlocal()),\n",
       " 'UpdateTime': datetime.datetime(2021, 4, 6, 8, 7, 52, tzinfo=tzlocal()),\n",
       " 'Retention': 0,\n",
       " 'StorageDescriptor': {'Columns': [{'Name': 'id',\n",
       "    'Type': 'string',\n",
       "    'Comment': '',\n",
       "    'Parameters': {}},\n",
       "   {'Name': 'name', 'Type': 'string', 'Comment': '', 'Parameters': {}},\n",
       "   {'Name': 'abv', 'Type': 'string', 'Comment': '', 'Parameters': {}},\n",
       "   {'Name': 'ibu', 'Type': 'string', 'Comment': '', 'Parameters': {}},\n",
       "   {'Name': 'target_fg', 'Type': 'string', 'Comment': '', 'Parameters': {}},\n",
       "   {'Name': 'target_og', 'Type': 'string', 'Comment': '', 'Parameters': {}},\n",
       "   {'Name': 'ebc', 'Type': 'string', 'Comment': '', 'Parameters': {}},\n",
       "   {'Name': 'srm', 'Type': 'string', 'Comment': '', 'Parameters': {}},\n",
       "   {'Name': 'ph', 'Type': 'string', 'Comment': '', 'Parameters': {}}],\n",
       "  'Location': 's3://cleaned-bucket-platform/processing-sucess',\n",
       "  'InputFormat': 'org.apache.hadoop.mapred.TextInputFormat',\n",
       "  'OutputFormat': 'org.apache.hadoop.hive.ql.io.HiveIgnoreKeyTextOutputFormat',\n",
       "  'Compressed': False,\n",
       "  'NumberOfBuckets': 0,\n",
       "  'SerdeInfo': {'Name': 'ser_platform',\n",
       "   'SerializationLibrary': 'org.apache.hadoop.hive.serde2.OpenCSVSerde',\n",
       "   'Parameters': {'serialization.format': '1'}},\n",
       "  'BucketColumns': [],\n",
       "  'SortColumns': [],\n",
       "  'Parameters': {},\n",
       "  'StoredAsSubDirectories': False},\n",
       " 'PartitionKeys': [],\n",
       " 'TableType': 'EXTERNAL_TABLE',\n",
       " 'Parameters': {'EXTERNAL': 'TRUE',\n",
       "  'classification': 'csv',\n",
       "  'parquet.compression': 'UNCOMPRESSED'},\n",
       " 'CreatedBy': 'arn:aws:iam::793574898187:root',\n",
       " 'IsRegisteredWithLakeFormation': False,\n",
       " 'CatalogId': '793574898187'}"
      ]
     },
     "execution_count": 64,
     "metadata": {},
     "output_type": "execute_result"
    }
   ],
   "source": [
    "table_name = 'cleaned'\n",
    "\n",
    "for i in range(len(table_list['TableList'])):\n",
    "    if table_list['TableList'][i]['Name'] == table_name:\n",
    "        table_glue_cleaned = table_list['TableList'][i]\n",
    "\n",
    "table_glue_cleaned"
   ]
  },
  {
   "cell_type": "markdown",
   "metadata": {},
   "source": [
    "Analisando o resultado da célula anterior, é possível verificar que a fonte de dados para a tabela `cleaned` está na chave `Location`, que contem a informação do `bucket S3` denominado `cleaned-bucket-platform` e a pasta `processing-sucess`. Exatamente o bucket S3 que criamos utilizando o script `Terraform`.\n",
    "\n",
    "**Observação**: Foi criado a pasta `processing-sucess` para receber os dados processados pelo fluxo de _streaming_ de dados corretamente. Caso ocorra algum tipo de falha neste processamento, os logs são gravados na pasta `processing-failed`. Desta forma, os diretórios ficam bem separados facilitando tanto a consulta dos dados, quanto a análise de algum problema no processamento do fluxo."
   ]
  },
  {
   "cell_type": "code",
   "execution_count": 65,
   "metadata": {},
   "outputs": [
    {
     "data": {
      "text/plain": [
       "'s3://cleaned-bucket-platform/processing-sucess'"
      ]
     },
     "execution_count": 65,
     "metadata": {},
     "output_type": "execute_result"
    }
   ],
   "source": [
    "s3_location_table = table_glue_cleaned['StorageDescriptor']['Location']\n",
    "s3_location_table"
   ]
  },
  {
   "cell_type": "markdown",
   "metadata": {},
   "source": [
    "Utilizamos o `split('/')` para capturar o nome do bucket e a pasta com a fonte dos dados do `Glue Table`."
   ]
  },
  {
   "cell_type": "code",
   "execution_count": 66,
   "metadata": {},
   "outputs": [
    {
     "name": "stdout",
     "output_type": "stream",
     "text": [
      "cleaned-bucket-platform\n",
      "processing-sucess\n"
     ]
    }
   ],
   "source": [
    "bucket_name = s3_location_table.split('/')[2]\n",
    "folder_data = s3_location_table.split('/')[3]\n",
    "\n",
    "print(bucket_name)\n",
    "print(folder_data)"
   ]
  },
  {
   "cell_type": "markdown",
   "metadata": {},
   "source": [
    "### **2.2. Capturando dados do bucket S3**"
   ]
  },
  {
   "cell_type": "markdown",
   "metadata": {},
   "source": [
    "Neste momento, como tenho a informação da fonte de dados, é possível criar um objeto client do `Amazon S3` para acessar os buckets existentes e buscar os dados necessários"
   ]
  },
  {
   "cell_type": "code",
   "execution_count": 67,
   "metadata": {},
   "outputs": [],
   "source": [
    "s3_client = boto3.client('s3')"
   ]
  },
  {
   "cell_type": "markdown",
   "metadata": {},
   "source": [
    "Foi criado o objeto `obj_list` que recebe todos os objetos do bucket S3 encontrado anteriormente e irei procurar pela pasta `processing-sucess` que é onde os dados processados com sucesso estão armazenados."
   ]
  },
  {
   "cell_type": "code",
   "execution_count": 68,
   "metadata": {},
   "outputs": [
    {
     "name": "stdout",
     "output_type": "stream",
     "text": [
      "238\n"
     ]
    }
   ],
   "source": [
    "# Obtendo uma lista de objetos do bucket\n",
    "obj_list = s3_client.list_objects(Bucket=bucket_name)\n",
    "\n",
    "files=[]\n",
    "for contents in obj_list['Contents']:\n",
    "    if contents['Key'].split('/')[0].split('/')[0] == folder_data:\n",
    "        files.append(contents['Key'])\n",
    "    \n",
    "# Existe a quantidade de arquivos .csv existe na pasta\n",
    "print(len(files))"
   ]
  },
  {
   "cell_type": "code",
   "execution_count": 69,
   "metadata": {},
   "outputs": [
    {
     "name": "stdout",
     "output_type": "stream",
     "text": [
      "processing-sucess/202104061114_clean.csv\n"
     ]
    }
   ],
   "source": [
    "# Visualizar um exemplo do dado\n",
    "file_name=files[0]\n",
    "\n",
    "print(file_name)"
   ]
  },
  {
   "cell_type": "code",
   "execution_count": 70,
   "metadata": {},
   "outputs": [
    {
     "data": {
      "text/plain": [
       "{'ResponseMetadata': {'RequestId': 'KCPXXSBMF62KX356',\n",
       "  'HostId': 'xRCz58NGvdXR8oGC4h+XDbchdXWTsNMFkjNW1wfeYDlTdkA/jYu7phaNH0CldADMLU+AoC+NgC4=',\n",
       "  'HTTPStatusCode': 200,\n",
       "  'HTTPHeaders': {'x-amz-id-2': 'xRCz58NGvdXR8oGC4h+XDbchdXWTsNMFkjNW1wfeYDlTdkA/jYu7phaNH0CldADMLU+AoC+NgC4=',\n",
       "   'x-amz-request-id': 'KCPXXSBMF62KX356',\n",
       "   'date': 'Sat, 10 Apr 2021 21:05:09 GMT',\n",
       "   'last-modified': 'Tue, 06 Apr 2021 11:14:22 GMT',\n",
       "   'etag': '\"327764b0082a63b8c9cf3a7317bf75e8\"',\n",
       "   'accept-ranges': 'bytes',\n",
       "   'content-type': 'binary/octet-stream',\n",
       "   'content-length': '51',\n",
       "   'server': 'AmazonS3'},\n",
       "  'RetryAttempts': 0},\n",
       " 'AcceptRanges': 'bytes',\n",
       " 'LastModified': datetime.datetime(2021, 4, 6, 11, 14, 22, tzinfo=tzutc()),\n",
       " 'ContentLength': 51,\n",
       " 'ETag': '\"327764b0082a63b8c9cf3a7317bf75e8\"',\n",
       " 'ContentType': 'binary/octet-stream',\n",
       " 'Metadata': {},\n",
       " 'Body': <botocore.response.StreamingBody at 0x7fc2292ce9e8>}"
      ]
     },
     "metadata": {},
     "output_type": "display_data"
    }
   ],
   "source": [
    "# captura um objeto do S3 como exemplo para visualizar os metadados \n",
    "data_object = s3_client.get_object(Bucket=bucket_name, Key=file_name)\n",
    "\n",
    "# visualizando o conteúdo do objeto\n",
    "display(data_object)"
   ]
  },
  {
   "cell_type": "code",
   "execution_count": 71,
   "metadata": {},
   "outputs": [
    {
     "name": "stdout",
     "output_type": "stream",
     "text": [
      "Data type:  <class 'bytes'>\n"
     ]
    }
   ],
   "source": [
    "# Verificando o tipo de dados da chave \"Body\" para leitura posterior\n",
    "data_body = data_object[\"Body\"].read()\n",
    "print('Data type: ', type(data_body))"
   ]
  },
  {
   "cell_type": "markdown",
   "metadata": {},
   "source": [
    "### **2.3. Criação do DataFrame com os dados capturados do S3**"
   ]
  },
  {
   "cell_type": "markdown",
   "metadata": {},
   "source": [
    "Neste momento, tenho uma lista contendo os dados armazenados no S3. Agora será preciso criar um DataFrame, com as colunas nomeadas abaixo e seus respectivos tipos de dados.\n",
    "\n",
    "Irei iterar sobre a lista de dados e irei fazer um append no DataFrame em cada arquivo de dados.\n",
    "\n",
    "Por fim, será apresentado o DataFrame final."
   ]
  },
  {
   "cell_type": "code",
   "execution_count": 72,
   "metadata": {},
   "outputs": [
    {
     "data": {
      "text/html": [
       "<div>\n",
       "<style scoped>\n",
       "    .dataframe tbody tr th:only-of-type {\n",
       "        vertical-align: middle;\n",
       "    }\n",
       "\n",
       "    .dataframe tbody tr th {\n",
       "        vertical-align: top;\n",
       "    }\n",
       "\n",
       "    .dataframe thead th {\n",
       "        text-align: right;\n",
       "    }\n",
       "</style>\n",
       "<table border=\"1\" class=\"dataframe\">\n",
       "  <thead>\n",
       "    <tr style=\"text-align: right;\">\n",
       "      <th></th>\n",
       "      <th>id</th>\n",
       "      <th>name</th>\n",
       "      <th>abv</th>\n",
       "      <th>ibu</th>\n",
       "      <th>target_fg</th>\n",
       "      <th>target_og</th>\n",
       "      <th>ebc</th>\n",
       "      <th>srm</th>\n",
       "      <th>ph</th>\n",
       "    </tr>\n",
       "  </thead>\n",
       "  <tbody>\n",
       "    <tr>\n",
       "      <th>0</th>\n",
       "      <td>182</td>\n",
       "      <td>All Day Long - Prototype Challenge</td>\n",
       "      <td>2.8</td>\n",
       "      <td>30.0</td>\n",
       "      <td>1012.0</td>\n",
       "      <td>1032.5</td>\n",
       "      <td>42.0</td>\n",
       "      <td>21.0</td>\n",
       "      <td>4.4</td>\n",
       "    </tr>\n",
       "    <tr>\n",
       "      <th>1</th>\n",
       "      <td>275</td>\n",
       "      <td>Sidewalk Shark</td>\n",
       "      <td>5.2</td>\n",
       "      <td>22.0</td>\n",
       "      <td>1008.0</td>\n",
       "      <td>1055.0</td>\n",
       "      <td>7.0</td>\n",
       "      <td>4.0</td>\n",
       "      <td>3.8</td>\n",
       "    </tr>\n",
       "    <tr>\n",
       "      <th>2</th>\n",
       "      <td>225</td>\n",
       "      <td>Paradox Islay 2.0</td>\n",
       "      <td>13.0</td>\n",
       "      <td>100.0</td>\n",
       "      <td>1112.0</td>\n",
       "      <td>1015.0</td>\n",
       "      <td>300.0</td>\n",
       "      <td>152.0</td>\n",
       "      <td>4.4</td>\n",
       "    </tr>\n",
       "    <tr>\n",
       "      <th>3</th>\n",
       "      <td>146</td>\n",
       "      <td>Nelson Sauvin</td>\n",
       "      <td>7.5</td>\n",
       "      <td>75.0</td>\n",
       "      <td>1013.0</td>\n",
       "      <td>1068.0</td>\n",
       "      <td>30.0</td>\n",
       "      <td>15.0</td>\n",
       "      <td>4.4</td>\n",
       "    </tr>\n",
       "    <tr>\n",
       "      <th>4</th>\n",
       "      <td>91</td>\n",
       "      <td>Dead Pony Club</td>\n",
       "      <td>3.8</td>\n",
       "      <td>35.0</td>\n",
       "      <td>1012.0</td>\n",
       "      <td>1040.0</td>\n",
       "      <td>25.0</td>\n",
       "      <td>12.7</td>\n",
       "      <td>4.4</td>\n",
       "    </tr>\n",
       "  </tbody>\n",
       "</table>\n",
       "</div>"
      ],
      "text/plain": [
       "    id                                name   abv    ibu  target_fg  target_og  \\\n",
       "0  182  All Day Long - Prototype Challenge   2.8   30.0     1012.0     1032.5   \n",
       "1  275                      Sidewalk Shark   5.2   22.0     1008.0     1055.0   \n",
       "2  225                   Paradox Islay 2.0  13.0  100.0     1112.0     1015.0   \n",
       "3  146                       Nelson Sauvin   7.5   75.0     1013.0     1068.0   \n",
       "4   91                      Dead Pony Club   3.8   35.0     1012.0     1040.0   \n",
       "\n",
       "     ebc    srm   ph  \n",
       "0   42.0   21.0  4.4  \n",
       "1    7.0    4.0  3.8  \n",
       "2  300.0  152.0  4.4  \n",
       "3   30.0   15.0  4.4  \n",
       "4   25.0   12.7  4.4  "
      ]
     },
     "execution_count": 72,
     "metadata": {},
     "output_type": "execute_result"
    }
   ],
   "source": [
    "list_columns = ['id', 'name', 'abv', 'ibu', 'target_fg', 'target_og', 'ebc', 'srm', 'ph']\n",
    "\n",
    "# Criando dicionário de chave e tipo para a criação do DataFrame\n",
    "dict_type    = {'id': 'int32', 'name': 'string', 'abv': 'float32', 'ibu': \n",
    "                'float32', 'target_fg': 'float32', 'target_og': 'float32', \n",
    "                'ebc': 'float32', 'srm': 'float32', 'ph': 'float32'}\n",
    "\n",
    "df = pd.DataFrame(columns=list_columns)\n",
    "\n",
    "for file in files:\n",
    "\n",
    "    # obtendo um objeto s3\n",
    "    data_object = s3_client.get_object(Bucket=bucket_name, Key=file)\n",
    "    \n",
    "    # lendo os dados da chave \"Body\"\n",
    "    data_body = data_object[\"Body\"].read()\n",
    "    \n",
    "    # lendo dados em bytes\n",
    "    data_stream = io.BytesIO(data_body)\n",
    "    \n",
    "    counties_df = pd.read_csv(data_stream, names=list_columns, dtype=dict_type, header=None, delimiter=\",\") \n",
    "\n",
    "    df = counties_df.append(df, ignore_index=True)\n",
    "\n",
    "df.head()"
   ]
  },
  {
   "cell_type": "markdown",
   "metadata": {},
   "source": [
    "### **Excluindo as colunas não utilizadas para a modelagem**"
   ]
  },
  {
   "cell_type": "code",
   "execution_count": 73,
   "metadata": {},
   "outputs": [],
   "source": [
    "df.drop(columns=['id', 'name'], axis=1, inplace=True)"
   ]
  },
  {
   "cell_type": "code",
   "execution_count": 74,
   "metadata": {},
   "outputs": [
    {
     "data": {
      "text/html": [
       "<div>\n",
       "<style scoped>\n",
       "    .dataframe tbody tr th:only-of-type {\n",
       "        vertical-align: middle;\n",
       "    }\n",
       "\n",
       "    .dataframe tbody tr th {\n",
       "        vertical-align: top;\n",
       "    }\n",
       "\n",
       "    .dataframe thead th {\n",
       "        text-align: right;\n",
       "    }\n",
       "</style>\n",
       "<table border=\"1\" class=\"dataframe\">\n",
       "  <thead>\n",
       "    <tr style=\"text-align: right;\">\n",
       "      <th></th>\n",
       "      <th>abv</th>\n",
       "      <th>ibu</th>\n",
       "      <th>target_fg</th>\n",
       "      <th>target_og</th>\n",
       "      <th>ebc</th>\n",
       "      <th>srm</th>\n",
       "      <th>ph</th>\n",
       "    </tr>\n",
       "  </thead>\n",
       "  <tbody>\n",
       "    <tr>\n",
       "      <th>0</th>\n",
       "      <td>2.8</td>\n",
       "      <td>30.0</td>\n",
       "      <td>1012.0</td>\n",
       "      <td>1032.5</td>\n",
       "      <td>42.0</td>\n",
       "      <td>21.0</td>\n",
       "      <td>4.4</td>\n",
       "    </tr>\n",
       "    <tr>\n",
       "      <th>1</th>\n",
       "      <td>5.2</td>\n",
       "      <td>22.0</td>\n",
       "      <td>1008.0</td>\n",
       "      <td>1055.0</td>\n",
       "      <td>7.0</td>\n",
       "      <td>4.0</td>\n",
       "      <td>3.8</td>\n",
       "    </tr>\n",
       "    <tr>\n",
       "      <th>2</th>\n",
       "      <td>13.0</td>\n",
       "      <td>100.0</td>\n",
       "      <td>1112.0</td>\n",
       "      <td>1015.0</td>\n",
       "      <td>300.0</td>\n",
       "      <td>152.0</td>\n",
       "      <td>4.4</td>\n",
       "    </tr>\n",
       "    <tr>\n",
       "      <th>3</th>\n",
       "      <td>7.5</td>\n",
       "      <td>75.0</td>\n",
       "      <td>1013.0</td>\n",
       "      <td>1068.0</td>\n",
       "      <td>30.0</td>\n",
       "      <td>15.0</td>\n",
       "      <td>4.4</td>\n",
       "    </tr>\n",
       "    <tr>\n",
       "      <th>4</th>\n",
       "      <td>3.8</td>\n",
       "      <td>35.0</td>\n",
       "      <td>1012.0</td>\n",
       "      <td>1040.0</td>\n",
       "      <td>25.0</td>\n",
       "      <td>12.7</td>\n",
       "      <td>4.4</td>\n",
       "    </tr>\n",
       "  </tbody>\n",
       "</table>\n",
       "</div>"
      ],
      "text/plain": [
       "    abv    ibu  target_fg  target_og    ebc    srm   ph\n",
       "0   2.8   30.0     1012.0     1032.5   42.0   21.0  4.4\n",
       "1   5.2   22.0     1008.0     1055.0    7.0    4.0  3.8\n",
       "2  13.0  100.0     1112.0     1015.0  300.0  152.0  4.4\n",
       "3   7.5   75.0     1013.0     1068.0   30.0   15.0  4.4\n",
       "4   3.8   35.0     1012.0     1040.0   25.0   12.7  4.4"
      ]
     },
     "execution_count": 74,
     "metadata": {},
     "output_type": "execute_result"
    }
   ],
   "source": [
    "df.head()"
   ]
  },
  {
   "cell_type": "code",
   "execution_count": 75,
   "metadata": {},
   "outputs": [
    {
     "data": {
      "text/html": [
       "<div>\n",
       "<style scoped>\n",
       "    .dataframe tbody tr th:only-of-type {\n",
       "        vertical-align: middle;\n",
       "    }\n",
       "\n",
       "    .dataframe tbody tr th {\n",
       "        vertical-align: top;\n",
       "    }\n",
       "\n",
       "    .dataframe thead th {\n",
       "        text-align: right;\n",
       "    }\n",
       "</style>\n",
       "<table border=\"1\" class=\"dataframe\">\n",
       "  <thead>\n",
       "    <tr style=\"text-align: right;\">\n",
       "      <th></th>\n",
       "      <th>abv</th>\n",
       "      <th>ibu</th>\n",
       "      <th>target_fg</th>\n",
       "      <th>target_og</th>\n",
       "      <th>ebc</th>\n",
       "      <th>srm</th>\n",
       "      <th>ph</th>\n",
       "    </tr>\n",
       "  </thead>\n",
       "  <tbody>\n",
       "    <tr>\n",
       "      <th>233</th>\n",
       "      <td>4.5</td>\n",
       "      <td>37.0</td>\n",
       "      <td>1012.0</td>\n",
       "      <td>1047.0</td>\n",
       "      <td>20.0</td>\n",
       "      <td>10.0</td>\n",
       "      <td>4.2</td>\n",
       "    </tr>\n",
       "    <tr>\n",
       "      <th>234</th>\n",
       "      <td>8.2</td>\n",
       "      <td>70.0</td>\n",
       "      <td>1013.0</td>\n",
       "      <td>1076.0</td>\n",
       "      <td>16.0</td>\n",
       "      <td>8.0</td>\n",
       "      <td>4.4</td>\n",
       "    </tr>\n",
       "    <tr>\n",
       "      <th>235</th>\n",
       "      <td>6.7</td>\n",
       "      <td>67.0</td>\n",
       "      <td>1013.0</td>\n",
       "      <td>1064.0</td>\n",
       "      <td>19.0</td>\n",
       "      <td>9.5</td>\n",
       "      <td>4.4</td>\n",
       "    </tr>\n",
       "    <tr>\n",
       "      <th>236</th>\n",
       "      <td>13.2</td>\n",
       "      <td>85.0</td>\n",
       "      <td>1023.0</td>\n",
       "      <td>1125.0</td>\n",
       "      <td>140.0</td>\n",
       "      <td>71.0</td>\n",
       "      <td>4.4</td>\n",
       "    </tr>\n",
       "    <tr>\n",
       "      <th>237</th>\n",
       "      <td>4.4</td>\n",
       "      <td>70.0</td>\n",
       "      <td>1012.0</td>\n",
       "      <td>1045.0</td>\n",
       "      <td>30.0</td>\n",
       "      <td>15.0</td>\n",
       "      <td>4.4</td>\n",
       "    </tr>\n",
       "  </tbody>\n",
       "</table>\n",
       "</div>"
      ],
      "text/plain": [
       "      abv   ibu  target_fg  target_og    ebc   srm   ph\n",
       "233   4.5  37.0     1012.0     1047.0   20.0  10.0  4.2\n",
       "234   8.2  70.0     1013.0     1076.0   16.0   8.0  4.4\n",
       "235   6.7  67.0     1013.0     1064.0   19.0   9.5  4.4\n",
       "236  13.2  85.0     1023.0     1125.0  140.0  71.0  4.4\n",
       "237   4.4  70.0     1012.0     1045.0   30.0  15.0  4.4"
      ]
     },
     "execution_count": 75,
     "metadata": {},
     "output_type": "execute_result"
    }
   ],
   "source": [
    "df.tail()"
   ]
  },
  {
   "cell_type": "markdown",
   "metadata": {},
   "source": [
    "**Excluindo dados duplicados**\n",
    "\n",
    "Como a Punk API existem apenas 325 dados únicos, e o fluxo de _streaming_ de dados busca dados aleatórios, a possibilidade de buscar um dado repetido é alta. Portanto, é necessário a exclusão de dados duplicados para o treinamento correto."
   ]
  },
  {
   "cell_type": "code",
   "execution_count": 76,
   "metadata": {},
   "outputs": [],
   "source": [
    "df.drop_duplicates(inplace=True)"
   ]
  },
  {
   "cell_type": "markdown",
   "metadata": {},
   "source": [
    "**Verificando se existem dados nulos ou NaN**"
   ]
  },
  {
   "cell_type": "code",
   "execution_count": 77,
   "metadata": {},
   "outputs": [
    {
     "data": {
      "text/plain": [
       "abv          0\n",
       "ibu          0\n",
       "target_fg    0\n",
       "target_og    0\n",
       "ebc          2\n",
       "srm          2\n",
       "ph           0\n",
       "dtype: int64"
      ]
     },
     "execution_count": 77,
     "metadata": {},
     "output_type": "execute_result"
    }
   ],
   "source": [
    "df.isnull().sum()"
   ]
  },
  {
   "cell_type": "code",
   "execution_count": 78,
   "metadata": {},
   "outputs": [
    {
     "data": {
      "text/plain": [
       "abv          0\n",
       "ibu          0\n",
       "target_fg    0\n",
       "target_og    0\n",
       "ebc          2\n",
       "srm          2\n",
       "ph           0\n",
       "dtype: int64"
      ]
     },
     "execution_count": 78,
     "metadata": {},
     "output_type": "execute_result"
    }
   ],
   "source": [
    "df.isna().sum()"
   ]
  },
  {
   "cell_type": "markdown",
   "metadata": {},
   "source": [
    "**Após a verificação de dados nulos, será feita a exclusão**"
   ]
  },
  {
   "cell_type": "code",
   "execution_count": 79,
   "metadata": {},
   "outputs": [],
   "source": [
    "df.dropna(inplace=True)"
   ]
  },
  {
   "cell_type": "code",
   "execution_count": 80,
   "metadata": {},
   "outputs": [
    {
     "data": {
      "text/plain": [
       "abv          0\n",
       "ibu          0\n",
       "target_fg    0\n",
       "target_og    0\n",
       "ebc          0\n",
       "srm          0\n",
       "ph           0\n",
       "dtype: int64"
      ]
     },
     "execution_count": 80,
     "metadata": {},
     "output_type": "execute_result"
    }
   ],
   "source": [
    "df.isnull().sum()"
   ]
  },
  {
   "cell_type": "code",
   "execution_count": 81,
   "metadata": {},
   "outputs": [
    {
     "data": {
      "text/plain": [
       "abv          0\n",
       "ibu          0\n",
       "target_fg    0\n",
       "target_og    0\n",
       "ebc          0\n",
       "srm          0\n",
       "ph           0\n",
       "dtype: int64"
      ]
     },
     "execution_count": 81,
     "metadata": {},
     "output_type": "execute_result"
    }
   ],
   "source": [
    "df.isna().sum()"
   ]
  },
  {
   "cell_type": "code",
   "execution_count": 82,
   "metadata": {},
   "outputs": [],
   "source": [
    "# reiniciando a contagem dos indexes após a exclusão de dados nulos e/ou ausentes\n",
    "df.reset_index(drop=True, inplace=True)"
   ]
  },
  {
   "cell_type": "code",
   "execution_count": 83,
   "metadata": {},
   "outputs": [
    {
     "name": "stdout",
     "output_type": "stream",
     "text": [
      "<class 'pandas.core.frame.DataFrame'>\n",
      "RangeIndex: 151 entries, 0 to 150\n",
      "Data columns (total 7 columns):\n",
      " #   Column     Non-Null Count  Dtype  \n",
      "---  ------     --------------  -----  \n",
      " 0   abv        151 non-null    float32\n",
      " 1   ibu        151 non-null    float32\n",
      " 2   target_fg  151 non-null    float32\n",
      " 3   target_og  151 non-null    float32\n",
      " 4   ebc        151 non-null    float32\n",
      " 5   srm        151 non-null    float32\n",
      " 6   ph         151 non-null    float32\n",
      "dtypes: float32(7)\n",
      "memory usage: 4.3 KB\n"
     ]
    }
   ],
   "source": [
    "df.info()"
   ]
  },
  {
   "cell_type": "markdown",
   "metadata": {},
   "source": [
    "**Exibindo as informações estatísticas da base de dados**"
   ]
  },
  {
   "cell_type": "code",
   "execution_count": 84,
   "metadata": {},
   "outputs": [
    {
     "data": {
      "text/html": [
       "<div>\n",
       "<style scoped>\n",
       "    .dataframe tbody tr th:only-of-type {\n",
       "        vertical-align: middle;\n",
       "    }\n",
       "\n",
       "    .dataframe tbody tr th {\n",
       "        vertical-align: top;\n",
       "    }\n",
       "\n",
       "    .dataframe thead th {\n",
       "        text-align: right;\n",
       "    }\n",
       "</style>\n",
       "<table border=\"1\" class=\"dataframe\">\n",
       "  <thead>\n",
       "    <tr style=\"text-align: right;\">\n",
       "      <th></th>\n",
       "      <th>abv</th>\n",
       "      <th>ibu</th>\n",
       "      <th>target_fg</th>\n",
       "      <th>target_og</th>\n",
       "      <th>ebc</th>\n",
       "      <th>srm</th>\n",
       "      <th>ph</th>\n",
       "    </tr>\n",
       "  </thead>\n",
       "  <tbody>\n",
       "    <tr>\n",
       "      <th>count</th>\n",
       "      <td>151.000000</td>\n",
       "      <td>151.000000</td>\n",
       "      <td>151.000000</td>\n",
       "      <td>151.000000</td>\n",
       "      <td>151.000000</td>\n",
       "      <td>151.000000</td>\n",
       "      <td>151.000000</td>\n",
       "    </tr>\n",
       "    <tr>\n",
       "      <th>mean</th>\n",
       "      <td>7.956292</td>\n",
       "      <td>72.437088</td>\n",
       "      <td>1015.774841</td>\n",
       "      <td>1066.500000</td>\n",
       "      <td>73.477478</td>\n",
       "      <td>37.080395</td>\n",
       "      <td>4.439073</td>\n",
       "    </tr>\n",
       "    <tr>\n",
       "      <th>std</th>\n",
       "      <td>4.709276</td>\n",
       "      <td>129.195709</td>\n",
       "      <td>17.457060</td>\n",
       "      <td>27.307945</td>\n",
       "      <td>105.258598</td>\n",
       "      <td>53.198414</td>\n",
       "      <td>0.345634</td>\n",
       "    </tr>\n",
       "    <tr>\n",
       "      <th>min</th>\n",
       "      <td>2.500000</td>\n",
       "      <td>0.000000</td>\n",
       "      <td>1000.000000</td>\n",
       "      <td>1007.000000</td>\n",
       "      <td>5.000000</td>\n",
       "      <td>3.000000</td>\n",
       "      <td>3.200000</td>\n",
       "    </tr>\n",
       "    <tr>\n",
       "      <th>25%</th>\n",
       "      <td>5.200000</td>\n",
       "      <td>35.000000</td>\n",
       "      <td>1009.000000</td>\n",
       "      <td>1048.000000</td>\n",
       "      <td>15.000000</td>\n",
       "      <td>7.810000</td>\n",
       "      <td>4.400000</td>\n",
       "    </tr>\n",
       "    <tr>\n",
       "      <th>50%</th>\n",
       "      <td>7.200000</td>\n",
       "      <td>50.000000</td>\n",
       "      <td>1012.000000</td>\n",
       "      <td>1065.000000</td>\n",
       "      <td>30.000000</td>\n",
       "      <td>15.000000</td>\n",
       "      <td>4.400000</td>\n",
       "    </tr>\n",
       "    <tr>\n",
       "      <th>75%</th>\n",
       "      <td>9.000000</td>\n",
       "      <td>70.000000</td>\n",
       "      <td>1015.000000</td>\n",
       "      <td>1077.500000</td>\n",
       "      <td>70.500000</td>\n",
       "      <td>35.500000</td>\n",
       "      <td>4.400000</td>\n",
       "    </tr>\n",
       "    <tr>\n",
       "      <th>max</th>\n",
       "      <td>41.000000</td>\n",
       "      <td>1157.000000</td>\n",
       "      <td>1125.000000</td>\n",
       "      <td>1157.000000</td>\n",
       "      <td>600.000000</td>\n",
       "      <td>305.000000</td>\n",
       "      <td>5.300000</td>\n",
       "    </tr>\n",
       "  </tbody>\n",
       "</table>\n",
       "</div>"
      ],
      "text/plain": [
       "              abv          ibu    target_fg    target_og         ebc  \\\n",
       "count  151.000000   151.000000   151.000000   151.000000  151.000000   \n",
       "mean     7.956292    72.437088  1015.774841  1066.500000   73.477478   \n",
       "std      4.709276   129.195709    17.457060    27.307945  105.258598   \n",
       "min      2.500000     0.000000  1000.000000  1007.000000    5.000000   \n",
       "25%      5.200000    35.000000  1009.000000  1048.000000   15.000000   \n",
       "50%      7.200000    50.000000  1012.000000  1065.000000   30.000000   \n",
       "75%      9.000000    70.000000  1015.000000  1077.500000   70.500000   \n",
       "max     41.000000  1157.000000  1125.000000  1157.000000  600.000000   \n",
       "\n",
       "              srm          ph  \n",
       "count  151.000000  151.000000  \n",
       "mean    37.080395    4.439073  \n",
       "std     53.198414    0.345634  \n",
       "min      3.000000    3.200000  \n",
       "25%      7.810000    4.400000  \n",
       "50%     15.000000    4.400000  \n",
       "75%     35.500000    4.400000  \n",
       "max    305.000000    5.300000  "
      ]
     },
     "execution_count": 84,
     "metadata": {},
     "output_type": "execute_result"
    }
   ],
   "source": [
    "df.describe()"
   ]
  },
  {
   "cell_type": "markdown",
   "metadata": {},
   "source": [
    "## **3. Análise Exploratória dos Dados (EDA)**"
   ]
  },
  {
   "cell_type": "code",
   "execution_count": 85,
   "metadata": {},
   "outputs": [
    {
     "name": "stderr",
     "output_type": "stream",
     "text": [
      "/home/lucas/anaconda3/envs/picpay/lib/python3.6/site-packages/seaborn/distributions.py:2557: FutureWarning: `distplot` is a deprecated function and will be removed in a future version. Please adapt your code to use either `displot` (a figure-level function with similar flexibility) or `histplot` (an axes-level function for histograms).\n",
      "  warnings.warn(msg, FutureWarning)\n"
     ]
    },
    {
     "data": {
      "image/png": "[encoded data removed]",
      "text/plain": [
       "<Figure size 432x288 with 1 Axes>"
      ]
     },
     "metadata": {},
     "output_type": "display_data"
    }
   ],
   "source": [
    "# Verificando a distribuição da variável target 'ibu'\n",
    "sns.distplot(df['ibu']);"
   ]
  },
  {
   "cell_type": "code",
   "execution_count": 86,
   "metadata": {},
   "outputs": [
    {
     "data": {
      "image/png": "[encoded data removed]",
      "text/plain": [
       "<Figure size 1260x1260 with 56 Axes>"
      ]
     },
     "metadata": {},
     "output_type": "display_data"
    }
   ],
   "source": [
    "# Verificando os gráficos das variáveis em pares\n",
    "sns.pairplot(df);"
   ]
  },
  {
   "cell_type": "code",
   "execution_count": 87,
   "metadata": {},
   "outputs": [
    {
     "data": {
      "image/png": "[encoded data removed]",
      "text/plain": [
       "<Figure size 432x288 with 2 Axes>"
      ]
     },
     "metadata": {},
     "output_type": "display_data"
    }
   ],
   "source": [
    "# Verificando a correlação dos dados\n",
    "sns.heatmap(df.corr(), annot=True);"
   ]
  },
  {
   "cell_type": "markdown",
   "metadata": {},
   "source": [
    "**Observação**: É possível verificar que feature \"abv\" é a mais possui correlação com target \"ibu\". Deste modo, serão realizados dois treinamentos, o primeiro utilizando todas as features apresentadas acima e o segundo treinamento com a feature \"abv\" para verificar qual modelo apresentou melhores métricas."
   ]
  },
  {
   "cell_type": "markdown",
   "metadata": {},
   "source": [
    "# **4. Pré-processamento dos dados**"
   ]
  },
  {
   "cell_type": "markdown",
   "metadata": {},
   "source": [
    "#### **Selecionando as features e o target para o treinamento do modelo**\n",
    "\n",
    "Neste momento, descartamos as colunas `id` e `name`, pois não serão utilizadas no treinamento."
   ]
  },
  {
   "cell_type": "code",
   "execution_count": 88,
   "metadata": {},
   "outputs": [],
   "source": [
    "# Selecionando as features\n",
    "features_names = ['abv', 'target_fg', 'target_og', 'ebc', 'srm', 'ph']\n",
    "features = df[features_names]\n",
    "\n",
    "feature_abv = pd.DataFrame(df['abv'])\n",
    "\n",
    "target = df['ibu']"
   ]
  },
  {
   "cell_type": "code",
   "execution_count": 89,
   "metadata": {},
   "outputs": [
    {
     "data": {
      "text/plain": [
       "6"
      ]
     },
     "execution_count": 89,
     "metadata": {},
     "output_type": "execute_result"
    }
   ],
   "source": [
    "len(features_names)"
   ]
  },
  {
   "cell_type": "code",
   "execution_count": 90,
   "metadata": {},
   "outputs": [
    {
     "data": {
      "text/plain": [
       "(151, 6)"
      ]
     },
     "execution_count": 90,
     "metadata": {},
     "output_type": "execute_result"
    }
   ],
   "source": [
    "features.shape"
   ]
  },
  {
   "cell_type": "code",
   "execution_count": 91,
   "metadata": {},
   "outputs": [
    {
     "data": {
      "text/plain": [
       "(151, 1)"
      ]
     },
     "execution_count": 91,
     "metadata": {},
     "output_type": "execute_result"
    }
   ],
   "source": [
    "feature_abv.shape"
   ]
  },
  {
   "cell_type": "code",
   "execution_count": 92,
   "metadata": {},
   "outputs": [
    {
     "data": {
      "text/plain": [
       "0     30.0\n",
       "1     22.0\n",
       "2    100.0\n",
       "3     75.0\n",
       "4     35.0\n",
       "Name: ibu, dtype: float32"
      ]
     },
     "execution_count": 92,
     "metadata": {},
     "output_type": "execute_result"
    }
   ],
   "source": [
    "target.head()"
   ]
  },
  {
   "cell_type": "markdown",
   "metadata": {},
   "source": [
    "# **5. Treinamento dos modelos**\n",
    "\n",
    "### **5.1. Regressão Linear (Múltipla)**"
   ]
  },
  {
   "cell_type": "markdown",
   "metadata": {},
   "source": [
    "Na etapa abaixo a variável `X` irá receber nossas features (variáveis independentes) para o treinamento e a variável `y` receberá a a variável dependente que será nosso target.\n",
    "\n",
    "Ambas variáveis receberão os dados convertidos numpy array com o tipo de dado float32.\n",
    "\n",
    "Por fim, será realizado a separação entre base de treinamento e base de teste. Utilizei a proporção de 80% para treinamento e 20% para teste.\n",
    "\n",
    "* X_train: features para treinamento do modelo.\n",
    "* y_train: target para treinamento do modelo.\n",
    "* X_test: features para teste do modelo.\n",
    "* y_test: target para teste do modelo.\n",
    "\n",
    "**Observação**: Como a base total de dados é pequena, optei por não ter uma base de validação, uma vez que teria poucas amostras para treinamento e teste."
   ]
  },
  {
   "cell_type": "code",
   "execution_count": 93,
   "metadata": {},
   "outputs": [],
   "source": [
    "X = np.array(features).astype('float32')\n",
    "y = np.array(target).astype('float32')\n",
    "\n",
    "X_train, X_test, y_train, y_test = train_test_split(X, y, \n",
    "                                                    test_size=0.20, \n",
    "                                                    random_state=42)"
   ]
  },
  {
   "cell_type": "code",
   "execution_count": 94,
   "metadata": {},
   "outputs": [
    {
     "data": {
      "text/plain": [
       "(120, 6)"
      ]
     },
     "execution_count": 94,
     "metadata": {},
     "output_type": "execute_result"
    }
   ],
   "source": [
    "X_train.shape"
   ]
  },
  {
   "cell_type": "markdown",
   "metadata": {},
   "source": [
    "Na célula abaixo é instanciado um objeto LinearRegression() e depois é feito o treinamento chamando o método fit()"
   ]
  },
  {
   "cell_type": "code",
   "execution_count": 95,
   "metadata": {},
   "outputs": [
    {
     "data": {
      "text/plain": [
       "LinearRegression(normalize=True)"
      ]
     },
     "execution_count": 95,
     "metadata": {},
     "output_type": "execute_result"
    }
   ],
   "source": [
    "mult_lin_reg = LinearRegression(normalize=True)\n",
    "mult_lin_reg.fit(X_train, y_train)"
   ]
  },
  {
   "cell_type": "markdown",
   "metadata": {},
   "source": [
    "### **5.2. Regressão Linear (Simples)**\n",
    "\n",
    "Na etapa abaixo a variável `X` irá receber nossa feature `abv` para o treinamento e a variável `y` receberá a a variável dependente que será nosso target.\n",
    "\n",
    "Ambas variáveis receberão os dados convertidos numpy array com o tipo de dado float32.\n",
    "\n",
    "Por fim, será realizado a separação entre base de treinamento e base de teste. Utilizei a proporção de 80% para treinamento e 20% para teste.\n",
    "\n",
    "* X_train_s: feature `abv` para treinamento do modelo.\n",
    "* y_train_s: target para treinamento do modelo.\n",
    "* X_test_s: feature `abv` para teste do modelo.\n",
    "* y_test_s: target para teste do modelo.\n",
    "\n",
    "**Observação**: Como a base total de dados é pequena, optei por não ter uma base de validação, uma vez que teria poucas amostras para treinamento e teste."
   ]
  },
  {
   "cell_type": "code",
   "execution_count": 96,
   "metadata": {},
   "outputs": [],
   "source": [
    "X_s = np.array(feature_abv).astype('float32')\n",
    "y_s = np.array(target).astype('float32')\n",
    "\n",
    "X_train_s, X_test_s, y_train_s, y_test_s = train_test_split(X_s, y_s, \n",
    "                                                            test_size=0.20, \n",
    "                                                            random_state=42)"
   ]
  },
  {
   "cell_type": "code",
   "execution_count": 97,
   "metadata": {},
   "outputs": [
    {
     "data": {
      "text/plain": [
       "(120, 1)"
      ]
     },
     "execution_count": 97,
     "metadata": {},
     "output_type": "execute_result"
    }
   ],
   "source": [
    "# feature 'abv'\n",
    "X_train_s.shape"
   ]
  },
  {
   "cell_type": "markdown",
   "metadata": {},
   "source": [
    "Na célula abaixo é instanciado um objeto LinearRegression() e depois é feito o treinamento chamando o método fit()"
   ]
  },
  {
   "cell_type": "code",
   "execution_count": 98,
   "metadata": {},
   "outputs": [
    {
     "data": {
      "text/plain": [
       "LinearRegression(normalize=True)"
      ]
     },
     "execution_count": 98,
     "metadata": {},
     "output_type": "execute_result"
    }
   ],
   "source": [
    "simple_lin_reg = LinearRegression(normalize=True)\n",
    "simple_lin_reg.fit(X_train_s, y_train_s)"
   ]
  },
  {
   "cell_type": "markdown",
   "metadata": {},
   "source": [
    "# **6. Avaliação do Modelo**\n",
    "\n",
    "A seguir será apresentada uma breve explicação das métricas utilizadas para a avaliação do modelo.\n",
    "\n",
    "**MAE** (_Mean Absolute Error_):\n",
    "* O MAE, ou Erro Absoluto Médio é a métrica mais simples de se entender. Essa métrica consiste em calcular o residual de cada ponto, onde valores residuais negativos e positivos não se anulam. Após esse agrupamento, calculamos então a média desses ‘residuais’.\n",
    "\n",
    "**MSE** (_Mean Squared Error_):\n",
    "* Em estatística, o erro quadrático médio (MSE) de um estimador (de um procedimento para estimar uma quantidade não observada) mede a média dos quadrados dos erros - ou seja, a diferença quadrática média entre os valores estimados e o que é estimado. MSE é uma função de risco, correspondendo ao valor esperado da perda de erro quadrada\n",
    "\n",
    "**RMSE** (_Root Mean Squared Error_):\n",
    "* O desvio médio quadrático ou erro quadrático médio é uma medida freqüentemente usada das diferenças entre os valores previstos por um modelo ou estimador e os valores observados. É aplicado a raiz quadrada no resultado da MSE.\n",
    "\n",
    "**R2 Square**:\n",
    "* R-quadrado (R2) é uma medida estatística que representa a proporção da variância para uma variável dependente que é explicada por uma variável independente ou variáveis ​​em um modelo de regressão."
   ]
  },
  {
   "cell_type": "markdown",
   "metadata": {},
   "source": [
    "Funções para avaliar o modelo treinado de acordo com as métricas apresentadas acima."
   ]
  },
  {
   "cell_type": "code",
   "execution_count": 99,
   "metadata": {},
   "outputs": [],
   "source": [
    "def print_evaluate(true, predicted):  \n",
    "    mae = metrics.mean_absolute_error(true, predicted)\n",
    "    mse = metrics.mean_squared_error(true, predicted)\n",
    "    rmse = np.sqrt(metrics.mean_squared_error(true, predicted))\n",
    "    r2_square = metrics.r2_score(true, predicted)\n",
    "    print('MAE:', mae)\n",
    "    print('MSE:', mse)\n",
    "    print('RMSE:', rmse)\n",
    "    print('R2 Square', r2_square)\n",
    "    \n",
    "def evaluate(true, predicted):\n",
    "    mae = metrics.mean_absolute_error(true, predicted)\n",
    "    mse = metrics.mean_squared_error(true, predicted)\n",
    "    rmse = np.sqrt(metrics.mean_squared_error(true, predicted))\n",
    "    r2_square = metrics.r2_score(true, predicted)\n",
    "    return mae, mse, rmse, r2_square"
   ]
  },
  {
   "cell_type": "markdown",
   "metadata": {},
   "source": [
    "### **6.1. Avaliação Regressão Linear (Múltipla)**\n",
    "\n",
    "Realizando a inferência dos dados de testes."
   ]
  },
  {
   "cell_type": "code",
   "execution_count": 100,
   "metadata": {},
   "outputs": [],
   "source": [
    "prediction_test = mult_lin_reg.predict(X_test)"
   ]
  },
  {
   "cell_type": "code",
   "execution_count": 101,
   "metadata": {},
   "outputs": [
    {
     "name": "stdout",
     "output_type": "stream",
     "text": [
      "Avaliação da base de teste:\n",
      "_____________________________________\n",
      "MAE: 60.05278\n",
      "MSE: 9726.487\n",
      "RMSE: 98.622955\n",
      "R2 Square -2.0015571155823575\n"
     ]
    }
   ],
   "source": [
    "print('Avaliação da base de teste:\\n_____________________________________')\n",
    "print_evaluate(y_test, prediction_test)"
   ]
  },
  {
   "cell_type": "code",
   "execution_count": 102,
   "metadata": {},
   "outputs": [
    {
     "data": {
      "text/html": [
       "<div>\n",
       "<style scoped>\n",
       "    .dataframe tbody tr th:only-of-type {\n",
       "        vertical-align: middle;\n",
       "    }\n",
       "\n",
       "    .dataframe tbody tr th {\n",
       "        vertical-align: top;\n",
       "    }\n",
       "\n",
       "    .dataframe thead th {\n",
       "        text-align: right;\n",
       "    }\n",
       "</style>\n",
       "<table border=\"1\" class=\"dataframe\">\n",
       "  <thead>\n",
       "    <tr style=\"text-align: right;\">\n",
       "      <th></th>\n",
       "      <th>Model</th>\n",
       "      <th>MAE</th>\n",
       "      <th>MSE</th>\n",
       "      <th>RMSE</th>\n",
       "      <th>R2 Square</th>\n",
       "    </tr>\n",
       "  </thead>\n",
       "  <tbody>\n",
       "    <tr>\n",
       "      <th>0</th>\n",
       "      <td>Regressão Linear (Mútipla)</td>\n",
       "      <td>60.05278</td>\n",
       "      <td>9726.487305</td>\n",
       "      <td>98.622955</td>\n",
       "      <td>-2.001557</td>\n",
       "    </tr>\n",
       "  </tbody>\n",
       "</table>\n",
       "</div>"
      ],
      "text/plain": [
       "                        Model       MAE          MSE       RMSE  R2 Square\n",
       "0  Regressão Linear (Mútipla)  60.05278  9726.487305  98.622955  -2.001557"
      ]
     },
     "execution_count": 102,
     "metadata": {},
     "output_type": "execute_result"
    }
   ],
   "source": [
    "results_df = pd.DataFrame(data=[[\"Regressão Linear (Mútipla)\", *evaluate(y_test, prediction_test)]], \n",
    "                          columns=['Model', 'MAE', 'MSE', 'RMSE', 'R2 Square'])\n",
    "\n",
    "results_df"
   ]
  },
  {
   "cell_type": "code",
   "execution_count": 103,
   "metadata": {},
   "outputs": [
    {
     "name": "stderr",
     "output_type": "stream",
     "text": [
      "/home/lucas/anaconda3/envs/picpay/lib/python3.6/site-packages/seaborn/distributions.py:2557: FutureWarning: `distplot` is a deprecated function and will be removed in a future version. Please adapt your code to use either `displot` (a figure-level function with similar flexibility) or `histplot` (an axes-level function for histograms).\n",
      "  warnings.warn(msg, FutureWarning)\n"
     ]
    },
    {
     "data": {
      "image/png": "[encoded data removed]",
      "text/plain": [
       "<Figure size 432x288 with 1 Axes>"
      ]
     },
     "metadata": {},
     "output_type": "display_data"
    }
   ],
   "source": [
    "# Analisando os resíduos do modelo de regressão linear múltipla\n",
    "sns.distplot((y_test - prediction_test), bins=50);"
   ]
  },
  {
   "cell_type": "markdown",
   "metadata": {},
   "source": [
    "É uma prática comum examinar os resíduos de problemas de regressão. Um resíduo de uma observação nos dados de avaliação é a diferença entre o destino verdadeiro e o previsto. Os resíduos representam a parte do destino que o modelo não consegue prever. Um resíduo positivo indica que o modelo subestima o destino (o destino real é maior do que o previsto)."
   ]
  },
  {
   "cell_type": "markdown",
   "metadata": {},
   "source": [
    "### **6.2. Avaliação Regressão Linear (Simples)**"
   ]
  },
  {
   "cell_type": "code",
   "execution_count": 104,
   "metadata": {},
   "outputs": [],
   "source": [
    "prediction_test = simple_lin_reg.predict(X_test_s)"
   ]
  },
  {
   "cell_type": "code",
   "execution_count": 105,
   "metadata": {},
   "outputs": [
    {
     "name": "stdout",
     "output_type": "stream",
     "text": [
      "Avaliação da base de teste:\n",
      "_____________________________________\n",
      "MAE: 79.84867\n",
      "MSE: 11635.251\n",
      "RMSE: 107.86682\n",
      "R2 Square -2.5905944959955423\n"
     ]
    }
   ],
   "source": [
    "print('Avaliação da base de teste:\\n_____________________________________')\n",
    "print_evaluate(y_test, prediction_test)"
   ]
  },
  {
   "cell_type": "code",
   "execution_count": 106,
   "metadata": {},
   "outputs": [
    {
     "data": {
      "text/html": [
       "<div>\n",
       "<style scoped>\n",
       "    .dataframe tbody tr th:only-of-type {\n",
       "        vertical-align: middle;\n",
       "    }\n",
       "\n",
       "    .dataframe tbody tr th {\n",
       "        vertical-align: top;\n",
       "    }\n",
       "\n",
       "    .dataframe thead th {\n",
       "        text-align: right;\n",
       "    }\n",
       "</style>\n",
       "<table border=\"1\" class=\"dataframe\">\n",
       "  <thead>\n",
       "    <tr style=\"text-align: right;\">\n",
       "      <th></th>\n",
       "      <th>Model</th>\n",
       "      <th>MAE</th>\n",
       "      <th>MSE</th>\n",
       "      <th>RMSE</th>\n",
       "      <th>R2 Square</th>\n",
       "    </tr>\n",
       "  </thead>\n",
       "  <tbody>\n",
       "    <tr>\n",
       "      <th>0</th>\n",
       "      <td>Regressão Linear (Mútipla)</td>\n",
       "      <td>60.052780</td>\n",
       "      <td>9726.487305</td>\n",
       "      <td>98.622955</td>\n",
       "      <td>-2.001557</td>\n",
       "    </tr>\n",
       "    <tr>\n",
       "      <th>1</th>\n",
       "      <td>Regressão Linear (Simples)</td>\n",
       "      <td>79.848671</td>\n",
       "      <td>11635.250977</td>\n",
       "      <td>107.866821</td>\n",
       "      <td>-2.590594</td>\n",
       "    </tr>\n",
       "  </tbody>\n",
       "</table>\n",
       "</div>"
      ],
      "text/plain": [
       "                        Model        MAE           MSE        RMSE  R2 Square\n",
       "0  Regressão Linear (Mútipla)  60.052780   9726.487305   98.622955  -2.001557\n",
       "1  Regressão Linear (Simples)  79.848671  11635.250977  107.866821  -2.590594"
      ]
     },
     "execution_count": 106,
     "metadata": {},
     "output_type": "execute_result"
    }
   ],
   "source": [
    "results_df_s = pd.DataFrame(data=[[\"Regressão Linear (Simples)\", *evaluate(y_test_s, prediction_test)]], \n",
    "                          columns=['Model', 'MAE', 'MSE', 'RMSE', 'R2 Square'])\n",
    "\n",
    "results_df = results_df.append(results_df_s, ignore_index=True)\n",
    "results_df"
   ]
  },
  {
   "cell_type": "code",
   "execution_count": 107,
   "metadata": {},
   "outputs": [
    {
     "name": "stderr",
     "output_type": "stream",
     "text": [
      "/home/lucas/anaconda3/envs/picpay/lib/python3.6/site-packages/seaborn/distributions.py:2557: FutureWarning: `distplot` is a deprecated function and will be removed in a future version. Please adapt your code to use either `displot` (a figure-level function with similar flexibility) or `histplot` (an axes-level function for histograms).\n",
      "  warnings.warn(msg, FutureWarning)\n"
     ]
    },
    {
     "data": {
      "image/png": "[encoded data removed]",
      "text/plain": [
       "<Figure size 432x288 with 1 Axes>"
      ]
     },
     "metadata": {},
     "output_type": "display_data"
    }
   ],
   "source": [
    "# Analisando os resíduos do modelo de regressão linear simples\n",
    "sns.distplot((y_test_s - prediction_test), bins=50);"
   ]
  },
  {
   "cell_type": "markdown",
   "metadata": {},
   "source": [
    "É uma prática comum examinar os resíduos de problemas de regressão. Um resíduo de uma observação nos dados de avaliação é a diferença entre o destino verdadeiro e o previsto. Os resíduos representam a parte do destino que o modelo não consegue prever. Um resíduo positivo indica que o modelo subestima o destino (o destino real é maior do que o previsto)."
   ]
  },
  {
   "cell_type": "markdown",
   "metadata": {},
   "source": [
    "# **7. Conclusão**"
   ]
  },
  {
   "cell_type": "code",
   "execution_count": 108,
   "metadata": {},
   "outputs": [
    {
     "data": {
      "text/html": [
       "<div>\n",
       "<style scoped>\n",
       "    .dataframe tbody tr th:only-of-type {\n",
       "        vertical-align: middle;\n",
       "    }\n",
       "\n",
       "    .dataframe tbody tr th {\n",
       "        vertical-align: top;\n",
       "    }\n",
       "\n",
       "    .dataframe thead th {\n",
       "        text-align: right;\n",
       "    }\n",
       "</style>\n",
       "<table border=\"1\" class=\"dataframe\">\n",
       "  <thead>\n",
       "    <tr style=\"text-align: right;\">\n",
       "      <th></th>\n",
       "      <th>Model</th>\n",
       "      <th>MAE</th>\n",
       "      <th>MSE</th>\n",
       "      <th>RMSE</th>\n",
       "      <th>R2 Square</th>\n",
       "    </tr>\n",
       "  </thead>\n",
       "  <tbody>\n",
       "    <tr>\n",
       "      <th>0</th>\n",
       "      <td>Regressão Linear (Mútipla)</td>\n",
       "      <td>60.052780</td>\n",
       "      <td>9726.487305</td>\n",
       "      <td>98.622955</td>\n",
       "      <td>-2.001557</td>\n",
       "    </tr>\n",
       "    <tr>\n",
       "      <th>1</th>\n",
       "      <td>Regressão Linear (Simples)</td>\n",
       "      <td>79.848671</td>\n",
       "      <td>11635.250977</td>\n",
       "      <td>107.866821</td>\n",
       "      <td>-2.590594</td>\n",
       "    </tr>\n",
       "  </tbody>\n",
       "</table>\n",
       "</div>"
      ],
      "text/plain": [
       "                        Model        MAE           MSE        RMSE  R2 Square\n",
       "0  Regressão Linear (Mútipla)  60.052780   9726.487305   98.622955  -2.001557\n",
       "1  Regressão Linear (Simples)  79.848671  11635.250977  107.866821  -2.590594"
      ]
     },
     "execution_count": 108,
     "metadata": {},
     "output_type": "execute_result"
    }
   ],
   "source": [
    "# DataFrame contendo o resultado dos treinamentos\n",
    "results_df"
   ]
  },
  {
   "cell_type": "markdown",
   "metadata": {},
   "source": [
    "Como é possível verificar no DataFrame acima, o modelo de **Regressão Linear Múltipla** apresentou melhores resultados.\n",
    "\n",
    "Pois como foi explicado anteriormente, quanto menor os valores das métricas `MAE`, `MSE` e `RMSE` melhor é o modelo.\n",
    "\n",
    "É importante salientar que a pouca quantidade de amostras impacta consideravelmente no resultado do modelo.\n",
    "\n",
    "Observação: Existem modelos mais sofisticados para realizar o treinamento. Todavia, o objetivo aqui foi capturar os dados da AWS e realizar o treinamento local."
   ]
  },
  {
   "cell_type": "markdown",
   "metadata": {},
   "source": [
    "# **Referências**\n",
    "\n",
    "https://medium.com/@douglasheberteempty/ml-m%C3%A9tricas-de-regress%C3%A3o-20c1ed73c7e7\n",
    "\n",
    "https://www.freecodecamp.org/news/machine-learning-mean-squared-error-regression-line-c7dde9a26b93/\n",
    "\n",
    "https://www.investopedia.com/terms/r/r-squared.asp\n",
    "\n",
    "https://docs.aws.amazon.com/pt_br/machine-learning/latest/dg/regression.html"
   ]
  }
 ],
 "metadata": {
  "kernelspec": {
   "display_name": "Python 3",
   "language": "python",
   "name": "python3"
  },
  "language_info": {
   "codemirror_mode": {
    "name": "ipython",
    "version": 3
   },
   "file_extension": ".py",
   "mimetype": "text/x-python",
   "name": "python",
   "nbconvert_exporter": "python",
   "pygments_lexer": "ipython3",
   "version": "3.6.13"
  }
 },
 "nbformat": 4,
 "nbformat_minor": 4
}
